{
    "cells": [
        {
            "attachments": {},
            "cell_type": "markdown",
            "metadata": {},
            "source": [
                "# 0. Instalar e importar bibliotecas"
            ]
        },
        {
            "cell_type": "code",
            "execution_count": null,
            "metadata": {},
            "outputs": [],
            "source": [
                "!pip install requests\n",
                "!pip install requests_oauthlib\n",
                "!pip install oauthlib"
            ]
        },
        {
            "cell_type": "code",
            "execution_count": 1,
            "metadata": {},
            "outputs": [],
            "source": [
                "import requests\n",
                "from requests_oauthlib import OAuth2Session\n",
                "from requests_oauthlib import OAuth2Session\n",
                "from requests.auth import HTTPBasicAuth\n",
                "from oauthlib.oauth2 import BackendApplicationClient\n",
                "import json"
            ]
        },
        {
            "attachments": {},
            "cell_type": "markdown",
            "metadata": {},
            "source": [
                "# 1. Definir id e registry_access_token"
            ]
        },
        {
            "cell_type": "code",
            "execution_count": 2,
            "metadata": {},
            "outputs": [],
            "source": [
                "api_id = 'PREENCHER COM O ID'\n",
                "registration_access_token = 'PREENHCER O REGISTRY_ACCESS_TOKEN'"
            ]
        },
        {
            "attachments": {},
            "cell_type": "markdown",
            "metadata": {},
            "source": [
                "# 2. Obter client_id"
            ]
        },
        {
            "cell_type": "code",
            "execution_count": null,
            "metadata": {},
            "outputs": [],
            "source": [
                "headers = {\n",
                "            'accept': 'application/json',\n",
                "            'Authorization': f'Bearer {registration_access_token}',\n",
                "            }\n",
                "\n",
                "r1 = requests.post(f\"https://oauth.bb.com.br/oauth/clients/{api_id}/installations\", headers=headers)\n",
                "r1.json()"
            ]
        },
        {
            "cell_type": "code",
            "execution_count": 4,
            "metadata": {},
            "outputs": [],
            "source": [
                "keys = r1.json()"
            ]
        },
        {
            "attachments": {},
            "cell_type": "markdown",
            "metadata": {},
            "source": [
                "# 3. Obter client_secret"
            ]
        },
        {
            "cell_type": "code",
            "execution_count": null,
            "metadata": {},
            "outputs": [],
            "source": [
                "headers = {\n",
                "            'accept': 'application/json',\n",
                "            'Authorization': f'Bearer {keys[\"registration_access_token\"]}',\n",
                "            }\n",
                "\n",
                "r2 = requests.post(f\"https://oauth.bb.com.br/oauth/clients/{api_id}/installations/{keys['client_id']}/credentials\", headers=headers)\n",
                "r2.json()"
            ]
        },
        {
            "cell_type": "code",
            "execution_count": 6,
            "metadata": {},
            "outputs": [],
            "source": [
                "keys2 = r2.json()"
            ]
        },
        {
            "cell_type": "code",
            "execution_count": 7,
            "metadata": {},
            "outputs": [],
            "source": [
                "with open('../keys_prod.json', 'w') as f:\n",
                "    f.write(json.dumps(keys2))\n",
                "    f.close()"
            ]
        },
        {
            "attachments": {},
            "cell_type": "markdown",
            "metadata": {},
            "source": [
                "# 4. Obter access_token"
            ]
        },
        {
            "cell_type": "code",
            "execution_count": 8,
            "metadata": {},
            "outputs": [],
            "source": [
                "client_id = keys2['client_id']\n",
                "client_secret = keys2['client_secret']\n",
                "scope= \"accountability.statements accountability.request\""
            ]
        },
        {
            "cell_type": "code",
            "execution_count": 11,
            "metadata": {},
            "outputs": [],
            "source": [
                "auth = HTTPBasicAuth(client_id, client_secret)\n",
                "client = BackendApplicationClient(client_id=client_id)\n",
                "oauth = OAuth2Session(client=client) \n",
                "oauth = OAuth2Session(client=client, scope=scope)\n",
                "token = oauth.fetch_token(token_url='https://oauth.bb.com.br/oauth/token', auth=auth)"
            ]
        },
        {
            "cell_type": "code",
            "execution_count": null,
            "metadata": {},
            "outputs": [],
            "source": [
                "token"
            ]
        },
        {
            "attachments": {},
            "cell_type": "markdown",
            "metadata": {},
            "source": [
                "# 5. Usar access_token para consultar api ..."
            ]
        }
    ],
    "metadata": {
        "kernelspec": {
            "display_name": "venv",
            "language": "python",
            "name": "python3"
        },
        "language_info": {
            "codemirror_mode": {
                "name": "ipython",
                "version": 3
            },
            "file_extension": ".py",
            "mimetype": "text/x-python",
            "name": "python",
            "nbconvert_exporter": "python",
            "pygments_lexer": "ipython3",
            "version": "3.9.13"
        },
        "orig_nbformat": 4,
        "vscode": {
            "interpreter": {
                "hash": "67b01790efde30edc759590fc28e3a7b5f3134953e9f7b8bc346e64ecafeaaaa"
            }
        }
    },
    "nbformat": 4,
    "nbformat_minor": 2
}
