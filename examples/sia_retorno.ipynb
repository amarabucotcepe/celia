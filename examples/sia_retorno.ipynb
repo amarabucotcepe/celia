{
 "cells": [
  {
   "cell_type": "code",
   "execution_count": 25,
   "metadata": {},
   "outputs": [],
   "source": [
    "import os\n",
    "from datetime import datetime\n",
    "from tqdm import tqdm\n",
    "import pandas as pd"
   ]
  },
  {
   "cell_type": "code",
   "execution_count": 26,
   "metadata": {},
   "outputs": [],
   "source": [
    "retorno = open('../files/ret/modelo.RET').readlines()\n"
   ]
  },
  {
   "cell_type": "markdown",
   "metadata": {},
   "source": [
    "### Resultado retorno"
   ]
  },
  {
   "cell_type": "code",
   "execution_count": 27,
   "metadata": {},
   "outputs": [],
   "source": [
    "def get_registro(line):\n",
    "    processamento = {\n",
    "        '01': 'Controlador não cadastrado no Gestao Ágil.',\n",
    "        '02': 'Tipo de registro inválido.',\n",
    "        '03': 'MCI(identificação interna no cadastro do BB) do controlador no registro 0 diverge MCI controlador registro 1.',\n",
    "        '04': 'CNPJ jurisdicionado inválido!',\n",
    "        '05': 'CNPJ não localizado no Banco do Brasil S/A',\n",
    "        '06': 'Código de situação inválido.',\n",
    "        '07': 'Inativação de CNPJ jurisdicionado inexistente no GFA.',\n",
    "        '08': 'UF do CNPJ jurisdicionado não autorizado para o controlador.  ',\n",
    "        '09': 'Município do CNPJ jurisdicionado não autorizado para o controlador.',\n",
    "        '10': 'Natureza jurídica do CNPJ jurisdicionado não autorizada para o controlador.',\n",
    "        '11': 'Quantidade registros \"detalhe\" informada no trailer inválida ou divergente da quantidade  detalhes lidos.',\n",
    "        '12': 'Cadastro desatualizado impede validação de UF.'\n",
    "    }\n",
    "\n",
    "    result = {\n",
    "        \"mci\": line[1:10],\n",
    "        \"cnpj\": line[10:24],\n",
    "        \"situacao\": line[24],\n",
    "        \"processamento\": line[25:27],\n",
    "        \"processamento_status\": processamento[line[25:27]]\n",
    "    }\n",
    "\n",
    "    return result\n"
   ]
  },
  {
   "cell_type": "code",
   "execution_count": 28,
   "metadata": {},
   "outputs": [
    {
     "name": "stderr",
     "output_type": "stream",
     "text": [
      "100%|██████████| 4/4 [00:00<00:00, 14157.99it/s]\n"
     ]
    }
   ],
   "source": [
    "registros = {}\n",
    "for line in tqdm(retorno[1:-1]):\n",
    "    ret = get_registro(line)\n",
    "    registros[ret['cnpj']] = ret"
   ]
  },
  {
   "cell_type": "code",
   "execution_count": 29,
   "metadata": {},
   "outputs": [
    {
     "data": {
      "text/html": [
       "<div>\n",
       "<style scoped>\n",
       "    .dataframe tbody tr th:only-of-type {\n",
       "        vertical-align: middle;\n",
       "    }\n",
       "\n",
       "    .dataframe tbody tr th {\n",
       "        vertical-align: top;\n",
       "    }\n",
       "\n",
       "    .dataframe thead th {\n",
       "        text-align: right;\n",
       "    }\n",
       "</style>\n",
       "<table border=\"1\" class=\"dataframe\">\n",
       "  <thead>\n",
       "    <tr style=\"text-align: right;\">\n",
       "      <th></th>\n",
       "      <th>mci</th>\n",
       "      <th>cnpj</th>\n",
       "      <th>situacao</th>\n",
       "      <th>processamento</th>\n",
       "      <th>processamento_status</th>\n",
       "    </tr>\n",
       "  </thead>\n",
       "  <tbody>\n",
       "    <tr>\n",
       "      <th>12345678198401</th>\n",
       "      <td>000000000</td>\n",
       "      <td>12345678198401</td>\n",
       "      <td>S</td>\n",
       "      <td>05</td>\n",
       "      <td>CNPJ não localizado no Banco do Brasil S/A</td>\n",
       "    </tr>\n",
       "    <tr>\n",
       "      <th>12345678198402</th>\n",
       "      <td>000000000</td>\n",
       "      <td>12345678198402</td>\n",
       "      <td>S</td>\n",
       "      <td>05</td>\n",
       "      <td>CNPJ não localizado no Banco do Brasil S/A</td>\n",
       "    </tr>\n",
       "    <tr>\n",
       "      <th>12345678198403</th>\n",
       "      <td>000000000</td>\n",
       "      <td>12345678198403</td>\n",
       "      <td>S</td>\n",
       "      <td>08</td>\n",
       "      <td>UF do CNPJ jurisdicionado não autorizado para ...</td>\n",
       "    </tr>\n",
       "    <tr>\n",
       "      <th>12345678198404</th>\n",
       "      <td>000000000</td>\n",
       "      <td>12345678198404</td>\n",
       "      <td>S</td>\n",
       "      <td>10</td>\n",
       "      <td>Natureza jurídica do CNPJ jurisdicionado não a...</td>\n",
       "    </tr>\n",
       "  </tbody>\n",
       "</table>\n",
       "</div>"
      ],
      "text/plain": [
       "                      mci            cnpj situacao processamento  \\\n",
       "12345678198401  000000000  12345678198401        S            05   \n",
       "12345678198402  000000000  12345678198402        S            05   \n",
       "12345678198403  000000000  12345678198403        S            08   \n",
       "12345678198404  000000000  12345678198404        S            10   \n",
       "\n",
       "                                             processamento_status  \n",
       "12345678198401         CNPJ não localizado no Banco do Brasil S/A  \n",
       "12345678198402         CNPJ não localizado no Banco do Brasil S/A  \n",
       "12345678198403  UF do CNPJ jurisdicionado não autorizado para ...  \n",
       "12345678198404  Natureza jurídica do CNPJ jurisdicionado não a...  "
      ]
     },
     "execution_count": 29,
     "metadata": {},
     "output_type": "execute_result"
    }
   ],
   "source": [
    "df = pd.DataFrame(registros).T\n",
    "df"
   ]
  },
  {
   "cell_type": "code",
   "execution_count": 30,
   "metadata": {},
   "outputs": [
    {
     "data": {
      "text/plain": [
       "processamento_status\n",
       "CNPJ não localizado no Banco do Brasil S/A                                     2\n",
       "UF do CNPJ jurisdicionado não autorizado para o controlador.                   1\n",
       "Natureza jurídica do CNPJ jurisdicionado não autorizada para o controlador.    1\n",
       "Name: count, dtype: int64"
      ]
     },
     "execution_count": 30,
     "metadata": {},
     "output_type": "execute_result"
    }
   ],
   "source": [
    "df['processamento_status'].value_counts()"
   ]
  },
  {
   "cell_type": "markdown",
   "metadata": {},
   "source": [
    "### salvar status retorno"
   ]
  },
  {
   "cell_type": "code",
   "execution_count": 40,
   "metadata": {},
   "outputs": [],
   "source": [
    "df.to_csv('../files/ret/retorno.csv')"
   ]
  },
  {
   "cell_type": "markdown",
   "metadata": {},
   "source": [
    "### Remessa x Retorno"
   ]
  },
  {
   "cell_type": "code",
   "execution_count": 43,
   "metadata": {},
   "outputs": [],
   "source": [
    "cnpjs_erro = df['cnpj'].to_list()"
   ]
  },
  {
   "cell_type": "code",
   "execution_count": 44,
   "metadata": {},
   "outputs": [
    {
     "data": {
      "text/plain": [
       "['12345678198401', '12345678198402', '12345678198403', '12345678198404']"
      ]
     },
     "execution_count": 44,
     "metadata": {},
     "output_type": "execute_result"
    }
   ],
   "source": [
    "cnpjs_erro"
   ]
  },
  {
   "cell_type": "code",
   "execution_count": 45,
   "metadata": {},
   "outputs": [
    {
     "data": {
      "text/plain": [
       "10"
      ]
     },
     "execution_count": 45,
     "metadata": {},
     "output_type": "execute_result"
    }
   ],
   "source": [
    "len('1000000000')"
   ]
  },
  {
   "cell_type": "code",
   "execution_count": 47,
   "metadata": {},
   "outputs": [
    {
     "data": {
      "text/plain": [
       "['12345678198401',\n",
       " '12345678198402',\n",
       " '12345678198403',\n",
       " '12345678198404',\n",
       " '12345678198405']"
      ]
     },
     "execution_count": 47,
     "metadata": {},
     "output_type": "execute_result"
    }
   ],
   "source": [
    "remessa = open('../files/remessa.txt').readlines()\n",
    "cnpjs_enviados = [registro[10:24] for registro in remessa[1:-1]]\n",
    "cnpjs_enviados"
   ]
  },
  {
   "cell_type": "code",
   "execution_count": 48,
   "metadata": {},
   "outputs": [
    {
     "data": {
      "text/plain": [
       "{'12345678198405'}"
      ]
     },
     "execution_count": 48,
     "metadata": {},
     "output_type": "execute_result"
    }
   ],
   "source": [
    "cnpjs_processados = set(cnpjs_enviados).difference(set(cnpjs_erro))\n",
    "cnpjs_processados"
   ]
  }
 ],
 "metadata": {
  "kernelspec": {
   "display_name": "Python 3",
   "language": "python",
   "name": "python3"
  },
  "language_info": {
   "codemirror_mode": {
    "name": "ipython",
    "version": 3
   },
   "file_extension": ".py",
   "mimetype": "text/x-python",
   "name": "python",
   "nbconvert_exporter": "python",
   "pygments_lexer": "ipython3",
   "version": "3.10.13"
  }
 },
 "nbformat": 4,
 "nbformat_minor": 2
}
