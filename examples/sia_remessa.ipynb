{
 "cells": [
  {
   "cell_type": "code",
   "execution_count": 33,
   "metadata": {},
   "outputs": [],
   "source": [
    "import os\n",
    "from datetime import datetime"
   ]
  },
  {
   "cell_type": "markdown",
   "metadata": {},
   "source": [
    "Alterar o mci para o valor informado pelo banco"
   ]
  },
  {
   "cell_type": "markdown",
   "metadata": {},
   "source": [
    "# Bloco Header"
   ]
  },
  {
   "cell_type": "code",
   "execution_count": 34,
   "metadata": {},
   "outputs": [],
   "source": [
    "def set_header(data):\n",
    "    start = '0' # identificador do bloco de header   \n",
    "    # data = '20240524' # Data no formato AAAAMMDD.\n",
    "    data = data # Data no formato AAAAMMDD.\n",
    "    arquivo = 'GFAF035E' # Valor fixo --> GFAF035E.\n",
    "    mci = '000000000' # MCI(identificação interna no cadastro do BB) do controlador no BB.\n",
    "    filler_header = ' ' * 34\n",
    "    return f'{start}{data}{arquivo}{mci}{filler_header}'"
   ]
  },
  {
   "cell_type": "markdown",
   "metadata": {},
   "source": [
    "# Bloco Detalhe"
   ]
  },
  {
   "cell_type": "code",
   "execution_count": 35,
   "metadata": {},
   "outputs": [],
   "source": [
    "def set_detalhe(cnpj):\n",
    "    start_detalhe = '1' # identificador do bloco de detalhe   \n",
    "    mci = '000000000' # MCI(identificação interna no cadastro do BB) do controlador no BB.\n",
    "    cnpj = cnpj # CNPJ jurisdicionado para posterior acesso à suas contas.\n",
    "    situacao = 'S' # Valor S ou N - Pedido de vínculo ou quebra de vinculo controlador x CNPJ jurisdicionado.\n",
    "    filler_detalhe = ' ' * 35\n",
    "\n",
    "    return f'{start_detalhe}{mci}{cnpj}{situacao}{filler_detalhe}'"
   ]
  },
  {
   "cell_type": "markdown",
   "metadata": {},
   "source": [
    "# Bloco Trailer"
   ]
  },
  {
   "cell_type": "code",
   "execution_count": 36,
   "metadata": {},
   "outputs": [],
   "source": [
    "def set_trailer(i):\n",
    "    start_trailer = '9' # identificador do bloco de trailer\n",
    "    quantidade = str(i+3) # Quantidade de registros + linhas de header, detalhe e trailer\n",
    "    filler_quantidade =  str((9 -len(quantidade))*'0') + quantidade # Quantidade registros com nove posições\n",
    "    filler_trailer = ' ' * 50 # padding\n",
    "    return f'{start_trailer}{filler_quantidade}{filler_trailer}'"
   ]
  },
  {
   "cell_type": "code",
   "execution_count": 37,
   "metadata": {},
   "outputs": [],
   "source": [
    "def save(doc):\n",
    "    # t = datetime.timestamp(datetime.today())\n",
    "    t = datetime.strftime(datetime.today(), \"%Y%m%d\")\n",
    "    with open(f'../files/UJS_{t}.txt','w') as f:\n",
    "        f.write(doc)\n",
    "        f.close()"
   ]
  },
  {
   "cell_type": "markdown",
   "metadata": {},
   "source": [
    "# Criação do Arquivo"
   ]
  },
  {
   "cell_type": "markdown",
   "metadata": {},
   "source": [
    "### Leitura do arquivo de cnpjs"
   ]
  },
  {
   "cell_type": "code",
   "execution_count": 38,
   "metadata": {},
   "outputs": [],
   "source": [
    "cnpjs = open('../data/mock.csv').readlines()"
   ]
  },
  {
   "cell_type": "markdown",
   "metadata": {},
   "source": [
    "### Criação das linhas"
   ]
  },
  {
   "cell_type": "code",
   "execution_count": 39,
   "metadata": {},
   "outputs": [],
   "source": [
    "registros = []\n",
    "t = datetime.strftime(datetime.today(), \"%Y%m%d\")\n",
    "h = set_header(t)\n",
    "registros.append(h)\n",
    "for i, cnpj in enumerate(cnpjs[1:]):\n",
    "    cnpj = cnpj.split(',')[0]\n",
    "    d = set_detalhe(cnpj[0:15])\n",
    "    # d = set_detalhe(cnpj[10:24])\n",
    "    # registro = f'{h}\\n{d}\\n{t}'\n",
    "    registros.append(d)\n",
    "    # print(i, len(h))\n",
    "    # print(i, len(d))\n",
    "    # print(i, len(t))\n",
    "t = set_trailer(i)\n",
    "registros.append(t)\n",
    "\n"
   ]
  },
  {
   "cell_type": "markdown",
   "metadata": {},
   "source": [
    "### Checagem dos linhas"
   ]
  },
  {
   "cell_type": "code",
   "execution_count": 40,
   "metadata": {},
   "outputs": [
    {
     "data": {
      "text/plain": [
       "['020240528GFAF035E000000000                                  ',\n",
       " '100000000012345678198401S                                   ',\n",
       " '100000000012345678198402S                                   ',\n",
       " '100000000012345678198403S                                   ',\n",
       " '100000000012345678198404S                                   ',\n",
       " '100000000012345678198405S                                   ',\n",
       " '9000000007                                                  ']"
      ]
     },
     "execution_count": 40,
     "metadata": {},
     "output_type": "execute_result"
    }
   ],
   "source": [
    "registros"
   ]
  },
  {
   "cell_type": "markdown",
   "metadata": {},
   "source": [
    "### Montagem e salvar arquivo"
   ]
  },
  {
   "cell_type": "code",
   "execution_count": 41,
   "metadata": {},
   "outputs": [],
   "source": [
    "dados = \"\\n\".join(registros)\n",
    "save(dados)"
   ]
  },
  {
   "cell_type": "markdown",
   "metadata": {},
   "source": [
    "### Checagem da quantidade de registros (total de cnpjs + 2)"
   ]
  },
  {
   "cell_type": "code",
   "execution_count": 42,
   "metadata": {},
   "outputs": [
    {
     "data": {
      "text/plain": [
       "7"
      ]
     },
     "execution_count": 42,
     "metadata": {},
     "output_type": "execute_result"
    }
   ],
   "source": [
    "len(dados.split('\\n'))"
   ]
  },
  {
   "cell_type": "markdown",
   "metadata": {},
   "source": [
    "### Checagem dos tamanhos dos registros"
   ]
  },
  {
   "cell_type": "code",
   "execution_count": 43,
   "metadata": {},
   "outputs": [
    {
     "data": {
      "text/plain": [
       "0"
      ]
     },
     "execution_count": 43,
     "metadata": {},
     "output_type": "execute_result"
    }
   ],
   "source": [
    "sizes = map(len,registros)\n",
    "len([s for s in sizes if s != 60]) #deve ser 0"
   ]
  }
 ],
 "metadata": {
  "kernelspec": {
   "display_name": "Python 3",
   "language": "python",
   "name": "python3"
  },
  "language_info": {
   "codemirror_mode": {
    "name": "ipython",
    "version": 3
   },
   "file_extension": ".py",
   "mimetype": "text/x-python",
   "name": "python",
   "nbconvert_exporter": "python",
   "pygments_lexer": "ipython3",
   "version": "3.10.13"
  }
 },
 "nbformat": 4,
 "nbformat_minor": 2
}
