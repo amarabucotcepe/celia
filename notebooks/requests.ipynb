{
    "cells": [
        {
            "cell_type": "markdown",
            "metadata": {},
            "source": [
                "# 0. Instalar e importar bibliotecas 📚"
            ]
        },
        {
            "cell_type": "code",
            "execution_count": null,
            "metadata": {},
            "outputs": [],
            "source": [
                "!pip install requests\n",
                "!pip install requests_oauthlib\n",
                "!pip install oauthlib\n",
                "!pip install requests\n",
                "!pip install pandas"
            ]
        },
        {
            "cell_type": "code",
            "execution_count": 1,
            "metadata": {},
            "outputs": [],
            "source": [
                "import requests\n",
                "from requests_oauthlib import OAuth2Session\n",
                "from requests_oauthlib import OAuth2Session\n",
                "from requests.auth import HTTPBasicAuth\n",
                "from oauthlib.oauth2 import BackendApplicationClient\n",
                "import json"
            ]
        },
        {
            "cell_type": "code",
            "execution_count": 2,
            "metadata": {},
            "outputs": [],
            "source": [
                "from datetime import datetime as dt\n",
                "import pandas as pd\n"
            ]
        },
        {
            "attachments": {},
            "cell_type": "markdown",
            "metadata": {},
            "source": [
                "# 1. Obter token de acesso 🔑"
            ]
        },
        {
            "cell_type": "markdown",
            "metadata": {},
            "source": [
                "Usar o arquivo json gerado no notebook credentials com client_id e client_secret."
            ]
        },
        {
            "cell_type": "code",
            "execution_count": 3,
            "metadata": {},
            "outputs": [],
            "source": [
                "keys = json.loads(open('keys.json', 'r').read())"
            ]
        },
        {
            "cell_type": "code",
            "execution_count": 4,
            "metadata": {},
            "outputs": [],
            "source": [
                "client_id = keys['client_id']\n",
                "client_secret = keys['client_secret']\n",
                "scope= \"accountability.statements accountability.request\""
            ]
        },
        {
            "cell_type": "code",
            "execution_count": 5,
            "metadata": {},
            "outputs": [],
            "source": [
                "auth = HTTPBasicAuth(client_id, client_secret)\n",
                "client = BackendApplicationClient(client_id=client_id)\n",
                "oauth = OAuth2Session(client=client) \n",
                "oauth = OAuth2Session(client=client, scope=scope)\n",
                "token = oauth.fetch_token(token_url='https://oauth.hm.bb.com.br/oauth/token', auth=auth)"
            ]
        },
        {
            "cell_type": "code",
            "execution_count": 7,
            "metadata": {},
            "outputs": [
                {
                    "name": "stdout",
                    "output_type": "stream",
                    "text": [
                        "validade do token:  12/07/23 17:01:51\n"
                    ]
                }
            ],
            "source": [
                "print('validade do token: ', dt.strftime(dt.fromtimestamp(token['expires_at']), '%d/%m/%y %H:%M:%S'))"
            ]
        },
        {
            "cell_type": "markdown",
            "metadata": {},
            "source": [
                "# 2. Requisições 📞"
            ]
        },
        {
            "cell_type": "markdown",
            "metadata": {},
            "source": [
                "Criar cabeçalho com a chave da aplicação de homologação e token de acesso."
            ]
        },
        {
            "cell_type": "code",
            "execution_count": 8,
            "metadata": {},
            "outputs": [],
            "source": [
                "gw_dev_app_key = \"substituir pela chave da aplicação\"\n",
                "\n",
                "headers = {\n",
                "            'accept': 'application/json',\n",
                "            'Authorization': 'Bearer '+token['access_token'],\n",
                "            'X-Application-Key' : gw_dev_app_key\n",
                "            }"
            ]
        },
        {
            "cell_type": "markdown",
            "metadata": {},
            "source": [
                "## 2.1. Agências próximas 🏦"
            ]
        },
        {
            "cell_type": "code",
            "execution_count": 10,
            "metadata": {},
            "outputs": [
                {
                    "data": {
                        "text/plain": [
                            "{'quantidadeAgencia': 6,\n",
                            " 'listaAgencia': [{'codigo': 697,\n",
                            "   'digito': '1',\n",
                            "   'nome': 'SETE DE SETEMBRO',\n",
                            "   'cep': '50060070',\n",
                            "   'logradouro': 'R.SETE DE SETEMBRO,128',\n",
                            "   'bairro': 'BOA VISTA',\n",
                            "   'municipio': 'RECIFE',\n",
                            "   'siglaUF': 'PE',\n",
                            "   'sugerida': 'N'},\n",
                            "  {'codigo': 7,\n",
                            "   'digito': '8',\n",
                            "   'nome': 'RECIFE',\n",
                            "   'cep': '50030310',\n",
                            "   'logradouro': 'AV.RIO BRANCO,240',\n",
                            "   'bairro': 'RECIFE ANTIGO',\n",
                            "   'municipio': 'RECIFE',\n",
                            "   'siglaUF': 'PE',\n",
                            "   'sugerida': 'N'},\n",
                            "  {'codigo': 1814,\n",
                            "   'digito': '7',\n",
                            "   'nome': 'SHOPPING TACARUNA',\n",
                            "   'cep': '50110000',\n",
                            "   'logradouro': 'AV.AGAMENON MAGALHAES,153',\n",
                            "   'bairro': 'STO.AMARO',\n",
                            "   'municipio': 'RECIFE',\n",
                            "   'siglaUF': 'PE',\n",
                            "   'sugerida': 'N'},\n",
                            "  {'codigo': 2337,\n",
                            "   'digito': 'X',\n",
                            "   'nome': 'NEOPOLIS',\n",
                            "   'cep': '49980000',\n",
                            "   'logradouro': 'PCA.MONS.JOSE M.DE SANTANA,27',\n",
                            "   'bairro': 'CENTRO',\n",
                            "   'municipio': 'NEOPOLIS',\n",
                            "   'siglaUF': 'SE',\n",
                            "   'sugerida': 'N'},\n",
                            "  {'codigo': 2206,\n",
                            "   'digito': '3',\n",
                            "   'nome': 'JAPARATUBA',\n",
                            "   'cep': '49960000',\n",
                            "   'logradouro': 'AV.OCTAVIO ACCIOLY SOBRAL,68',\n",
                            "   'bairro': 'CENTRO',\n",
                            "   'municipio': 'JAPARATUBA',\n",
                            "   'siglaUF': 'SE',\n",
                            "   'sugerida': 'N'},\n",
                            "  {'codigo': 117,\n",
                            "   'digito': '1',\n",
                            "   'nome': 'PROPRIA',\n",
                            "   'cep': '49900000',\n",
                            "   'logradouro': 'R.LOPES TROVAO,511',\n",
                            "   'bairro': 'CENTRO',\n",
                            "   'municipio': 'PROPRIA',\n",
                            "   'siglaUF': 'SE',\n",
                            "   'sugerida': 'N'}]}"
                        ]
                    },
                    "execution_count": 10,
                    "metadata": {},
                    "output_type": "execute_result"
                }
            ],
            "source": [
                "cnpj = '11435633000149'\n",
                "cep = '50050910'\n",
                "\n",
                "r = requests.get(f\"https://api.hm.bb.com.br/accountability/v3/agencias-proximas?cnpj={cnpj}&cep={cep}\", headers=headers)\n",
                "r.json()"
            ]
        },
        {
            "cell_type": "markdown",
            "metadata": {},
            "source": [
                "## 2.2. Extratos"
            ]
        },
        {
            "cell_type": "code",
            "execution_count": 14,
            "metadata": {},
            "outputs": [
                {
                    "data": {
                        "text/plain": [
                            "{'error': 'Agência e Conta não está vinculado ao Órgão de Controle.'}"
                        ]
                    },
                    "execution_count": 14,
                    "metadata": {},
                    "output_type": "execute_result"
                }
            ],
            "source": [
                "agencia = \"1\"\n",
                "conta = \"1\"\n",
                "data_inicio = \"2023-01-01\"\n",
                "data_fim = \"2023-02-01\"\n",
                "\n",
                "r = requests.get(f\"https://api.hm.bb.com.br/accountability/v3/statements/{agencia}-{conta}/control-agencies?startDate={data_inicio}&endDate={data_fim}\", headers=headers)\n",
                "r.json()"
            ]
        }
    ],
    "metadata": {
        "kernelspec": {
            "display_name": "venv",
            "language": "python",
            "name": "python3"
        },
        "language_info": {
            "codemirror_mode": {
                "name": "ipython",
                "version": 3
            },
            "file_extension": ".py",
            "mimetype": "text/x-python",
            "name": "python",
            "nbconvert_exporter": "python",
            "pygments_lexer": "ipython3",
            "version": "3.9.7"
        },
        "orig_nbformat": 4,
        "vscode": {
            "interpreter": {
                "hash": "67b01790efde30edc759590fc28e3a7b5f3134953e9f7b8bc346e64ecafeaaaa"
            }
        }
    },
    "nbformat": 4,
    "nbformat_minor": 2
}
