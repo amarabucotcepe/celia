{
    "cells": [
        {
            "cell_type": "markdown",
            "metadata": {},
            "source": [
                "# 0. Instalar e importar bibliotecas 📚"
            ]
        },
        {
            "cell_type": "code",
            "execution_count": 1,
            "metadata": {},
            "outputs": [],
            "source": [
                "# !pip install requests\n",
                "# !pip install requests_oauthlib\n",
                "# !pip install oauthlib\n",
                "# !pip install pandas"
            ]
        },
        {
            "cell_type": "code",
            "execution_count": 2,
            "metadata": {},
            "outputs": [],
            "source": [
                "import requests\n",
                "from requests_oauthlib import OAuth2Session\n",
                "from requests_oauthlib import OAuth2Session\n",
                "from requests.auth import HTTPBasicAuth\n",
                "from oauthlib.oauth2 import BackendApplicationClient\n",
                "import json"
            ]
        },
        {
            "cell_type": "code",
            "execution_count": 3,
            "metadata": {},
            "outputs": [],
            "source": [
                "from datetime import datetime as dt\n",
                "import pandas as pd"
            ]
        },
        {
            "cell_type": "code",
            "execution_count": 4,
            "metadata": {},
            "outputs": [],
            "source": [
                "from rjson import RenderJSON #funcionalidade para colapsar as saídas em json"
            ]
        },
        {
            "attachments": {},
            "cell_type": "markdown",
            "metadata": {},
            "source": [
                "# 1. Obter token de acesso 🔑"
            ]
        },
        {
            "cell_type": "markdown",
            "metadata": {},
            "source": [
                "Usar o arquivo json gerado no notebook credentials com client_id e client_secret."
            ]
        },
        {
            "cell_type": "code",
            "execution_count": 5,
            "metadata": {},
            "outputs": [],
            "source": [
                "keys = json.loads(open('keys.json', 'r').read())"
            ]
        },
        {
            "cell_type": "markdown",
            "metadata": {},
            "source": [
                "Ou preencher manualmente os dados das credenciais de acesso"
            ]
        },
        {
            "cell_type": "code",
            "execution_count": 6,
            "metadata": {},
            "outputs": [],
            "source": [
                "# keys = {\n",
                "#     \"client_id\": \"PREENCHER COM CLIENT ID\",\n",
                "#     \"client_secret\": \"PREENCHER COM CLIENT SECRET\",\n",
                "# }"
            ]
        },
        {
            "cell_type": "code",
            "execution_count": 7,
            "metadata": {},
            "outputs": [],
            "source": [
                "client_id = keys['client_id']\n",
                "client_secret = keys['client_secret']\n",
                "scope= \"accountability.statements accountability.request\""
            ]
        },
        {
            "cell_type": "code",
            "execution_count": 8,
            "metadata": {},
            "outputs": [],
            "source": [
                "def get_token(client_id, client_secret):\n",
                "    auth = HTTPBasicAuth(client_id, client_secret)\n",
                "    client = BackendApplicationClient(client_id=client_id)\n",
                "    oauth = OAuth2Session(client=client) \n",
                "    oauth = OAuth2Session(client=client, scope=scope)\n",
                "    return oauth.fetch_token(token_url='https://oauth.hm.bb.com.br/oauth/token', auth=auth)\n",
                "token = get_token(keys['client_id'], keys['client_secret'])"
            ]
        },
        {
            "cell_type": "code",
            "execution_count": 9,
            "metadata": {},
            "outputs": [
                {
                    "name": "stdout",
                    "output_type": "stream",
                    "text": [
                        "validade do token:  01/08/23 12:06:39\n"
                    ]
                }
            ],
            "source": [
                "print('validade do token: ', dt.strftime(dt.fromtimestamp(token['expires_at']), '%d/%m/%y %H:%M:%S'))"
            ]
        },
        {
            "cell_type": "markdown",
            "metadata": {},
            "source": [
                "# 2. Requisições 📞"
            ]
        },
        {
            "cell_type": "markdown",
            "metadata": {},
            "source": [
                "Criar cabeçalho com a chave da aplicação de homologação e token de acesso."
            ]
        },
        {
            "cell_type": "code",
            "execution_count": 10,
            "metadata": {},
            "outputs": [],
            "source": [
                "def set_headers():\n",
                "    gw_dev_app_key = keys['gw_dev_app_key']\n",
                "    headers = {\n",
                "            'accept': 'application/json',\n",
                "            'Authorization': 'Bearer '+token['access_token'],\n",
                "            'X-Application-Key' : gw_dev_app_key\n",
                "            }\n",
                "    return headers"
            ]
        },
        {
            "cell_type": "code",
            "execution_count": 15,
            "metadata": {},
            "outputs": [],
            "source": [
                "path = 'https://api.hm.bb.com.br/accountability/v3'"
            ]
        },
        {
            "cell_type": "markdown",
            "metadata": {},
            "source": [
                "## API 📕"
            ]
        },
        {
            "cell_type": "code",
            "execution_count": 16,
            "metadata": {},
            "outputs": [],
            "source": [
                "token = get_token(keys['client_id'], keys['client_secret'])\n",
                "headers = set_headers()\n",
                "r = requests.get(f\"{path}/swagger\", headers=headers)\n",
                "# r.json()"
            ]
        },
        {
            "cell_type": "code",
            "execution_count": 17,
            "metadata": {},
            "outputs": [
                {
                    "data": {
                        "text/html": [
                            "<div id=\"237bac77-26a5-44a6-a1a9-4f5f28589d24\" style=\"height: 300px; width:100%;\"></div>"
                        ]
                    },
                    "metadata": {},
                    "output_type": "display_data"
                },
                {
                    "data": {
                        "application/javascript": "\n        require([\"https://rawgit.com/caldwell/renderjson/master/renderjson.js\"], function() {\n          document.getElementById('237bac77-26a5-44a6-a1a9-4f5f28589d24').appendChild(renderjson({\"openapi\": \"3.0.1\", \"info\": {\"title\": \"API Accountability\", \"description\": \"pt-BR: API para gerenciar os servi\\u00e7os de presta\\u00e7\\u00e3o de contas, com recursos como extrato de conta, despesa etc.\\n\\nen-US: API to manage the accountability services, with resources like account statement, expense, etc.\", \"contact\": {\"name\": \"Banco do Brasil S.A. - BB for Developers\", \"url\": \"https://developers.bb.com.br\"}, \"version\": \"3.9\"}, \"externalDocs\": {\"url\": \"https://developers.bb.com.br/docs\"}, \"servers\": [{\"url\": \"https://api.desenv.bb.com.br/accountability/v3\", \"description\": \"Desenvolvimento\"}, {\"url\": \"https://api.hm.bb.com.br/accountability/v3\", \"description\": \"Homologa\\u00e7\\u00e3o\"}, {\"url\": \"https://api.bb.com.br/accountability/v3\", \"description\": \"Produ\\u00e7\\u00e3o\"}], \"paths\": {\"/statements/{branchCode}-{accountNumber}\": {\"get\": {\"summary\": \"Repasser's Statement of a Government Program.\", \"description\": \"en-US: It returns the repasser's statement of a government program. \\n\\npt-BR: Retorna o extrato do \\u00f3rg\\u00e3o repassador de um programa do governo.\", \"operationId\": \"ExtratoDoOrgaoRepassadorId\", \"parameters\": [{\"name\": \"gw-dev-app-key\", \"in\": \"query\", \"description\": \"\\u00c9 a chave de acesso do aplicativo do desenvolvedor obtida no Portal do Desenvolvedor. Essa chave ser\\u00e1 usada para identifica\\u00e7\\u00e3o do aplicativo.\", \"required\": true, \"schema\": {\"type\": \"string\"}}, {\"name\": \"Authorization\", \"in\": \"header\", \"description\": \"\\u00c9 o valor do token de acesso fornecido pelo OAuth.\", \"required\": true, \"schema\": {\"type\": \"string\"}}, {\"name\": \"startDate\", \"in\": \"query\", \"description\": \"en-US: Start date.\\n\\npt-BR: Data de in\\u00edcio.\", \"required\": true, \"schema\": {\"type\": \"string\"}}, {\"name\": \"endDate\", \"in\": \"query\", \"description\": \"en-US: End date.\\n\\npt-BR: Data final.\", \"required\": true, \"schema\": {\"type\": \"string\"}}, {\"schema\": {\"type\": \"integer\", \"example\": 1, \"format\": \"int64\"}, \"in\": \"query\", \"name\": \"id\", \"description\": \"en-US: Sequential number of the debit release that has credits (subtransactions) \\n\\n pt-BR: N\\u00famero sequencial do lan\\u00e7amento de d\\u00e9bito que possui cr\\u00e9ditos (subtransa\\u00e7\\u00f5es).\"}], \"responses\": {\"200\": {\"description\": \"en-US: SUCCESS. The request has been fulfilled by the server. \\n\\npt-BR: SUCESSO. A requisi\\u00e7\\u00e3o foi atendida pelo servidor.\", \"content\": {\"application/json\": {\"schema\": {\"$ref\": \"#/components/schemas/StatementResponse\"}}}}, \"400\": {\"description\": \"en-US: BAD REQUEST. The server cannot process the request due to malformed request syntax, invalid request message framing, or invalid values.\\n\\npt-BR: REQUISI\\u00c7\\u00c3O INV\\u00c1LIDA. O servidor n\\u00e3o p\\u00f4de processar a requisi\\u00e7\\u00e3o devido a uma sintaxe de requisi\\u00e7\\u00e3o malformada, estrutura da mensagem da requisi\\u00e7\\u00e3o inv\\u00e1lida, ou valores inv\\u00e1lidos.\", \"content\": {\"application/json\": {\"schema\": {\"$ref\": \"#/components/schemas/Error\"}}}}, \"401\": {\"description\": \"en-US: UNAUTHORIZED. The request requires user authentication.\\n\\npt-BR: N\\u00c3O AUTORIZADO. A requisi\\u00e7\\u00e3o requer autentica\\u00e7\\u00e3o do usu\\u00e1rio.\", \"content\": {\"application/json\": {\"schema\": {\"$ref\": \"#/components/schemas/ErrorOAuthUnauthorized\"}}}}, \"500\": {\"description\": \"en-US: INTERNAL ERROR. The server encountered an unexpected condition which prevented it from fulfilling the request.\\n\\npt-BR: ERRO INTERNO. O servidor encontrou uma condi\\u00e7\\u00e3o inesperada que o impediu de atender a requisi\\u00e7\\u00e3o.\", \"content\": {\"application/json\": {\"schema\": {\"$ref\": \"#/components/schemas/Error\"}}}}}, \"security\": [{\"OAuth2-ClientCredentials\": [\"accountability.statements\"]}], \"tags\": [\"accountability\"]}, \"parameters\": [{\"name\": \"branchCode\", \"in\": \"path\", \"description\": \"en-US: Branch code in the financial institution.\\n\\npt-BR: C\\u00f3digo da ag\\u00eancia na institui\\u00e7\\u00e3o financeira.\", \"required\": true, \"schema\": {\"type\": \"number\"}}, {\"name\": \"accountNumber\", \"in\": \"path\", \"description\": \"en-US: Account number in the financial institution.\\n\\npt-BR: N\\u00famero da conta na institui\\u00e7\\u00e3o financeira.\", \"required\": true, \"schema\": {\"type\": \"number\"}}]}, \"/statements/{branchCode}-{accountNumber}/control-agencies\": {\"get\": {\"summary\": \"Control Agency's Statement of a Government Program.\", \"description\": \"en-US: It returns the Control Agency's statement of a government program. \\n\\npt-BR: Retorna o extrato do \\u00d3rg\\u00e3o de Controle de um programa do governo.\", \"security\": [{\"OAuth2-ClientCredentials\": [\"accountability.statements\"]}], \"tags\": [\"accountability\"], \"responses\": {\"200\": {\"description\": \"en-US: SUCCESS. The request has been fulfilled by the server. \\n\\npt-BR: SUCESSO. A requisi\\u00e7\\u00e3o foi atendida pelo servidor.\", \"content\": {\"application/json\": {\"schema\": {\"$ref\": \"#/components/schemas/StatementResponse\"}}}}, \"400\": {\"description\": \"en-US: BAD REQUEST. The server cannot process the request due to malformed request syntax, invalid request message framing, or invalid values.\\n\\npt-BR: REQUISI\\u00c7\\u00c3O INV\\u00c1LIDA. O servidor n\\u00e3o p\\u00f4de processar a requisi\\u00e7\\u00e3o devido a uma sintaxe de requisi\\u00e7\\u00e3o malformada, estrutura da mensagem da requisi\\u00e7\\u00e3o inv\\u00e1lida, ou valores inv\\u00e1lidos.\", \"content\": {\"application/json\": {\"schema\": {\"$ref\": \"#/components/schemas/Error\"}}}}, \"401\": {\"description\": \"en-US: UNAUTHORIZED. The request requires user authentication.\\n\\npt-BR: N\\u00c3O AUTORIZADO. A requisi\\u00e7\\u00e3o requer autentica\\u00e7\\u00e3o do usu\\u00e1rio.\", \"content\": {\"application/json\": {\"schema\": {\"$ref\": \"#/components/schemas/ErrorOAuthUnauthorized\"}}}}, \"500\": {\"description\": \"en-US: INTERNAL ERROR. The server encountered an unexpected condition which prevented it from fulfilling the request.\\n\\npt-BR: ERRO INTERNO. O servidor encontrou uma condi\\u00e7\\u00e3o inesperada que o impediu de atender a requisi\\u00e7\\u00e3o.\", \"content\": {\"application/json\": {\"schema\": {\"$ref\": \"#/components/schemas/Error\"}}}}, \"502\": {\"description\": \"pt-BR: O servidor, ao atuar como gateway ou proxy, recebeu uma resposta inv\\u00e1lida de um servidor de entrada que acessou ao tentar atender \\u00e0 solicita\\u00e7\\u00e3o.\\n\\nen-US: The server, while acting as a gateway or proxy, received an invalid response from an inbound server it accessed while attempting to fulfill the request.\", \"content\": {\"application/json\": {\"schema\": {\"$ref\": \"#/components/schemas/Error502\"}}}}}, \"parameters\": [{\"name\": \"startDate\", \"in\": \"query\", \"description\": \"en-US: Start date.\\n\\npt-BR: Data de in\\u00edcio.\", \"required\": true, \"schema\": {\"type\": \"string\"}}, {\"name\": \"endDate\", \"in\": \"query\", \"description\": \"en-US: End date.\\n\\npt-BR: Data final.\", \"required\": true, \"schema\": {\"type\": \"string\"}}, {\"name\": \"Authorization\", \"in\": \"header\", \"description\": \"\\u00c9 o valor do token de acesso fornecido pelo OAuth.\\nExemplo: Bearer <acess_token>\", \"required\": true, \"schema\": {\"type\": \"string\"}}, {\"name\": \"gw-dev-app-key\", \"in\": \"query\", \"description\": \"\\u00c9 a chave de acesso do aplicativo do desenvolvedor obtida no Portal do Desenvolvedor. \\nEssa chave ser\\u00e1 usada para identifica\\u00e7\\u00e3o do aplicativo.\", \"required\": true, \"schema\": {\"type\": \"string\"}}], \"operationId\": \"ExtradoOrgaoControleId\"}, \"parameters\": [{\"name\": \"branchCode\", \"in\": \"path\", \"description\": \"en-US: Branch code in the financial institution.\\n\\npt-BR: C\\u00f3digo da ag\\u00eancia na institui\\u00e7\\u00e3o financeira.\", \"required\": true, \"schema\": {}}, {\"name\": \"accountNumber\", \"in\": \"path\", \"description\": \"en-US: Account number in the financial institution.\\n\\npt-BR: N\\u00famero da conta na institui\\u00e7\\u00e3o financeira.\", \"required\": true, \"schema\": {}}]}, \"/expenses/{branchCode}-{accountNumber}/transactions/{transactionId}/documents/{documentId}\": {\"get\": {\"summary\": \"Expenses Document of a Government Program; Documento de Despesas de um Programa do Governo.\", \"description\": \"Expenses Document of a Government Program. \\n\\nDocumento de Despesas de um Programa do Governo.\", \"security\": [{\"OAuth2-ClientCredentials\": [\"accountability.statements\"]}], \"tags\": [\"accountability\"], \"responses\": {\"200\": {\"description\": \"en-US: SUCCESS. The request has been fulfilled by the server. \\n\\npt-BR: SUCESSO. A requisi\\u00e7\\u00e3o foi atendida pelo servidor.\", \"content\": {\"application/json\": {\"schema\": {\"$ref\": \"#/components/schemas/ExpensesResponse\"}}}}, \"400\": {\"description\": \"en-US: BAD REQUEST. The server cannot process the request due to malformed request syntax, invalid request message framing, or invalid values.\\n\\npt-BR: REQUISI\\u00c7\\u00c3O INV\\u00c1LIDA. O servidor n\\u00e3o p\\u00f4de processar a requisi\\u00e7\\u00e3o devido a uma sintaxe de requisi\\u00e7\\u00e3o malformada, estrutura da mensagem da requisi\\u00e7\\u00e3o inv\\u00e1lida, ou valores inv\\u00e1lidos.\", \"content\": {\"application/json\": {\"schema\": {\"$ref\": \"#/components/schemas/Error\"}}}}, \"401\": {\"description\": \"en-US: UNAUTHORIZED. The request requires user authentication.\\n\\npt-BR: N\\u00c3O AUTORIZADO. A requisi\\u00e7\\u00e3o requer autentica\\u00e7\\u00e3o do usu\\u00e1rio.\", \"content\": {\"application/json\": {\"schema\": {\"$ref\": \"#/components/schemas/ErrorOAuthUnauthorized\"}}}}, \"403\": {\"description\": \"NEGADO. O servidor entendeu a requisi\\u00e7\\u00e3o, por\\u00e9m n\\u00e3o a autorizou.\", \"content\": {\"application/json\": {\"schema\": {\"$ref\": \"#/components/schemas/Error\"}}}}, \"500\": {\"description\": \"en-US: INTERNAL ERROR. The server encountered an unexpected condition which prevented it from fulfilling the request.\\n\\npt-BR: ERRO INTERNO. O servidor encontrou uma condi\\u00e7\\u00e3o inesperada que o impediu de atender a requisi\\u00e7\\u00e3o.\", \"content\": {\"application/json\": {\"schema\": {\"$ref\": \"#/components/schemas/Error\"}}}}}, \"parameters\": [{\"name\": \"bookingDate\", \"in\": \"query\", \"description\": \"Date and time when an transaction is posted to an account on the account servicer. Format: YYYY-MM-DD. \\n\\nData e hora em que uma transa\\u00e7\\u00e3o \\u00e9 lan\\u00e7ada em uma conta no agente de contas. Formato: AAAA-MM-DD.\", \"required\": true, \"schema\": {\"type\": \"string\"}}, {\"name\": \"Authorization\", \"in\": \"header\", \"description\": \"\\u00c9 o valor do token de acesso fornecido pelo OAuth.\\nExemplo: Bearer <acess_token>\", \"required\": true, \"schema\": {\"type\": \"string\"}}, {\"name\": \"gw-dev-app-key\", \"in\": \"query\", \"description\": \"\\u00c9 a chave de acesso do aplicativo do desenvolvedor obtida no Portal do Desenvolvedor. \\nEssa chave ser\\u00e1 usada para identifica\\u00e7\\u00e3o do aplicativo.\", \"required\": true, \"schema\": {\"type\": \"string\"}}], \"operationId\": \"DocumentoDeDespesasId\"}, \"parameters\": [{\"name\": \"branchCode\", \"in\": \"path\", \"description\": \"Identifies a specific branch of a financial institution.\\n\\nIdentifica uma ramifica\\u00e7\\u00e3o espec\\u00edfica de uma institui\\u00e7\\u00e3o financeira.\", \"required\": true, \"schema\": {\"type\": \"integer\"}}, {\"name\": \"accountNumber\", \"in\": \"path\", \"description\": \"Identifies a specific account number of a financial institution. \\n\\nIdentifica um n\\u00famero de conta espec\\u00edfico de uma institui\\u00e7\\u00e3o financeira.\", \"required\": true, \"schema\": {\"type\": \"integer\"}}, {\"name\": \"transactionId\", \"in\": \"path\", \"description\": \"Unique and unambiguous identification for the account between the account owner and the account servicer. \\n\\nIdentifica\\u00e7\\u00e3o \\u00fanica e inequ\\u00edvoca para a conta entre o propriet\\u00e1rio da conta e o agente da conta.\", \"required\": true, \"schema\": {\"type\": \"integer\"}}, {\"name\": \"documentId\", \"in\": \"path\", \"description\": \"Sequential identification number of the expense document. \\n\\nN\\u00famero de identifica\\u00e7\\u00e3o seq\\u00fcencial do documento de despesa.\", \"required\": true, \"schema\": {\"type\": \"integer\"}}]}, \"/expenses/{branchCode}-{accountNumber}/transactions/{transactionId}/subTransactions/{subTransactionId}/documents/{documentId}\": {\"get\": {\"summary\": \"Documentos de Despesa Vinculados na Presta\\u00e7\\u00e3o de Contas\", \"operationId\": \"DocumentoDespesasVinculadasId\", \"description\": \"Documentos de Despesa Vinculados na Presta\\u00e7\\u00e3o de Contas\", \"security\": [{\"OAuth2-ClientCredentials\": [\"accountability.statements\"]}], \"tags\": [\"accountability\"], \"responses\": {\"200\": {\"description\": \"en-US: SUCCESS. The request has been fulfilled by the server. \\n\\npt-BR: SUCESSO. A requisi\\u00e7\\u00e3o foi atendida pelo servidor.\", \"content\": {\"application/json\": {\"schema\": {\"$ref\": \"#/components/schemas/ExpensesResponse\"}}}}, \"400\": {\"description\": \"en-US: BAD REQUEST. The server cannot process the request due to malformed request syntax, invalid request message framing, or invalid values.\\n\\npt-BR: REQUISI\\u00c7\\u00c3O INV\\u00c1LIDA. O servidor n\\u00e3o p\\u00f4de processar a requisi\\u00e7\\u00e3o devido a uma sintaxe de requisi\\u00e7\\u00e3o malformada, estrutura da mensagem da requisi\\u00e7\\u00e3o inv\\u00e1lida, ou valores inv\\u00e1lidos.\", \"content\": {\"application/json\": {\"schema\": {\"$ref\": \"#/components/schemas/Error\"}}}}, \"401\": {\"description\": \"en-US: UNAUTHORIZED. The request requires user authentication.\\n\\npt-BR: N\\u00c3O AUTORIZADO. A requisi\\u00e7\\u00e3o requer autentica\\u00e7\\u00e3o do usu\\u00e1rio.\", \"content\": {\"application/json\": {\"schema\": {\"$ref\": \"#/components/schemas/ErrorOAuthUnauthorized\"}}}}, \"403\": {\"description\": \"NEGADO. O servidor entendeu a requisi\\u00e7\\u00e3o, por\\u00e9m n\\u00e3o a autorizou.\", \"content\": {\"application/json\": {\"schema\": {\"$ref\": \"#/components/schemas/Error\"}}}}, \"500\": {\"description\": \"en-US: INTERNAL ERROR. The server encountered an unexpected condition which prevented it from fulfilling the request.\\n\\npt-BR: ERRO INTERNO. O servidor encontrou uma condi\\u00e7\\u00e3o inesperada que o impediu de atender a requisi\\u00e7\\u00e3o.\", \"content\": {\"application/json\": {\"schema\": {\"$ref\": \"#/components/schemas/Error\"}}}}}, \"parameters\": [{\"name\": \"bookingDate\", \"in\": \"query\", \"description\": \"Date and time when an transaction is posted to an account on the account servicer. Format: YYYY-MM-DD. \\n\\nData e hora em que uma transa\\u00e7\\u00e3o \\u00e9 lan\\u00e7ada em uma conta no agente de contas. Formato: AAAA-MM-DD.\", \"required\": true, \"schema\": {\"type\": \"string\"}}, {\"name\": \"Authorization\", \"in\": \"header\", \"description\": \"\\u00c9 o valor do token de acesso fornecido pelo OAuth.\\nExemplo: Bearer <acess_token>\", \"required\": true, \"schema\": {\"type\": \"string\"}}, {\"name\": \"gw-dev-app-key\", \"in\": \"query\", \"description\": \"\\u00c9 a chave de acesso do aplicativo do desenvolvedor obtida no Portal do Desenvolvedor. \\nEssa chave ser\\u00e1 usada para identifica\\u00e7\\u00e3o do aplicativo.\", \"required\": true, \"schema\": {\"type\": \"string\"}}]}, \"parameters\": [{\"name\": \"branchCode\", \"in\": \"path\", \"description\": \"Identifies a specific branch of a financial institution.\\n\\nIdentifica uma ramifica\\u00e7\\u00e3o espec\\u00edfica de uma institui\\u00e7\\u00e3o financeira.\", \"required\": true, \"schema\": {\"type\": \"integer\"}}, {\"name\": \"accountNumber\", \"in\": \"path\", \"description\": \"Identifies a specific account number of a financial institution. \\n\\nIdentifica um n\\u00famero de conta espec\\u00edfico de uma institui\\u00e7\\u00e3o financeira.\", \"required\": true, \"schema\": {\"type\": \"integer\"}}, {\"name\": \"transactionId\", \"in\": \"path\", \"description\": \"Unique and unambiguous identification for the account between the account owner and the account servicer. \\n\\nIdentifica\\u00e7\\u00e3o \\u00fanica e inequ\\u00edvoca para a conta entre o propriet\\u00e1rio da conta e o agente da conta.\", \"required\": true, \"schema\": {\"type\": \"integer\"}}, {\"name\": \"subTransactionId\", \"in\": \"path\", \"required\": true, \"description\": \"N\\u00famero sequencial que identifica o sub-lan\\u00e7amento de d\\u00e9bito no Banco do Brasil, por exemplo lan\\u00e7amentos em lote de folha de pagamento.\\n\", \"schema\": {\"type\": \"integer\"}}, {\"name\": \"documentId\", \"in\": \"path\", \"description\": \"Sequential identification number of the expense document. \\n\\nN\\u00famero de identifica\\u00e7\\u00e3o seq\\u00fcencial do documento de despesa.\", \"required\": true, \"schema\": {\"type\": \"integer\"}}]}, \"/statements/{branchCode}-{accountNumber}/debits/{id}/subtransactions\": {\"get\": {\"summary\": \"Subtransactions extract from the repasser of a Government Program; Extrato de subtransa\\u00e7\\u00f5es do \\u00f3rg\\u00e3o repassador de um Programa do Governo\", \"description\": \"Returns the subtransaction statement of the repasser of a government program. Concept of subtransactions: Input of positive values (one or several) to a negative value.; \\n\\nRetorna o extrato de subtransa\\u00e7\\u00f5es do repassador de um programa do governo. Conceito de subtransa\\u00e7\\u00f5es: Entrada de cr\\u00e9dito (um ou v\\u00e1rios) para um d\\u00e9bito.\", \"security\": [{\"OAuth2-ClientCredentials\": [\"accountability.statements\"]}], \"tags\": [\"accountability\"], \"responses\": {\"200\": {\"description\": \"SUCCESS. The request has been fulfilled by the server. \\n\\nSUCESSO. A requisi\\u00e7\\u00e3o foi atendida pelo servidor.\", \"content\": {\"application/json\": {\"schema\": {\"$ref\": \"#/components/schemas/Subtransactions\"}, \"examples\": {}}}}, \"400\": {\"description\": \"BAD REQUEST. The server cannot process the request due to malformed request syntax, invalid request message framing, or invalid values. \\n\\nREQUISI\\u00c7\\u00c3O INV\\u00c1LIDA. O servidor n\\u00e3o p\\u00f4de processar a requisi\\u00e7\\u00e3o devido a uma sintaxe malformada, estrutura inv\\u00e1lida da mensagem ou valores inv\\u00e1lidos.\", \"content\": {\"application/json\": {\"schema\": {\"$ref\": \"#/components/schemas/Error\"}}}}, \"401\": {\"description\": \"UNAUTHORIZED. The request requires user authentication. Repeat the request with a Authorization header field. \\n\\nN\\u00c3O AUTORIZADO. A requisi\\u00e7\\u00e3o requer autentica\\u00e7\\u00e3o do usu\\u00e1rio. Repita a requisi\\u00e7\\u00e3o com um campo do header de autoriza\\u00e7\\u00e3o.\", \"content\": {\"application/json\": {\"schema\": {\"$ref\": \"#/components/schemas/ErrorOAuthUnauthorized\"}}}}, \"500\": {\"description\": \"INTERNAL ERROR. The server encountered an unexpected condition which prevented it from fulfilling the request. \\n\\nERRO INTERNO. O servidor encontrou uma condi\\u00e7\\u00e3o inesperada que impediu o cumprimento da solicita\\u00e7\\u00e3o.\", \"content\": {\"application/json\": {\"schema\": {\"$ref\": \"#/components/schemas/Error\"}}}}, \"503\": {\"description\": \"SERVICE UNAVAILABLE. The server is currently unable to handle the request due to a temporary overloading or maintenance of the server. \\n\\nSERVI\\u00c7O INDISPON\\u00cdVEL. No momento o servidor n\\u00e3o pode atender a solicita\\u00e7\\u00e3o devido a uma sobrecarga tempor\\u00e1ria ou manuten\\u00e7\\u00e3o do servidor.\", \"content\": {\"application/json\": {\"schema\": {\"$ref\": \"#/components/schemas/Error\"}}}}}, \"operationId\": \"ExtratoSubtrancacoesRepassadorId\", \"parameters\": [{\"schema\": {\"type\": \"string\"}, \"in\": \"header\", \"name\": \"Authorization\", \"description\": \"\\u00c9 o valor do token de acesso fornecido pelo OAuth.Exemplo: Bearer <acess_token>\"}, {\"schema\": {\"type\": \"string\"}, \"in\": \"query\", \"name\": \"idSubtransaction\", \"description\": \"Unique identifier that defines the credit made from a particular debit posting. \\n\\nIdentificador que define o cr\\u00e9dito feito a partir de um lan\\u00e7amento de d\\u00e9bito espec\\u00edfico.\"}, {\"schema\": {\"type\": \"string\"}, \"in\": \"query\", \"name\": \"gw-dev-app-key\", \"description\": \"\\u00c9 a chave de acesso do aplicativo do desenvolvedor obtida no Portal do Desenvolvedor. Essa chave ser\\u00e1 usada para identifica\\u00e7\\u00e3o do aplicativo.\"}]}, \"parameters\": [{\"name\": \"branchCode\", \"in\": \"path\", \"description\": \"Branch code in the financial institution.\\n\\nC\\u00f3digo da ag\\u00eancia na institui\\u00e7\\u00e3o financeira.\", \"required\": true, \"schema\": {\"type\": \"number\"}}, {\"name\": \"accountNumber\", \"in\": \"path\", \"description\": \"Account number in the financial institution.\\n\\nN\\u00famero da conta na institui\\u00e7\\u00e3o financeira.\", \"required\": true, \"schema\": {\"type\": \"number\"}}, {\"name\": \"id\", \"in\": \"path\", \"description\": \"Sequential number of the debit release that has credits (subtransactions);\\n\\nN\\u00famero sequencial do lan\\u00e7amento de d\\u00e9bito que possui cr\\u00e9ditos (subtransa\\u00e7\\u00f5es).\", \"required\": true, \"schema\": {\"type\": \"number\"}}]}, \"/statements/{branchCode}-{accountNumber}/debits/{id}/control-agencies/subtransactions\": {\"get\": {\"summary\": \"Subtransactions extract from the Control Agency of a Government Program; Extrato de subtransa\\u00e7\\u00f5es do \\u00f3rg\\u00e3o de Controle de um Programa do Governo\", \"description\": \"Returns the subtransaction statement of the Control Agency of a government program. Concept of subtransactions: Input of positive values (one or several) to a negative value.; \\n\\nRetorna o extrato de subtransa\\u00e7\\u00f5es do \\u00d3rg\\u00e3o de Controle de um programa do governo. Conceito de subtransa\\u00e7\\u00f5es: Entrada de cr\\u00e9dito (um ou v\\u00e1rios) para um d\\u00e9bito.\", \"security\": [{\"OAuth2-ClientCredentials\": [\"accountability.statements\"]}], \"tags\": [\"accountability\"], \"responses\": {\"200\": {\"description\": \"SUCCESS. The request has been fulfilled by the server. \\n\\nSUCESSO. A requisi\\u00e7\\u00e3o foi atendida pelo servidor.\", \"content\": {\"application/json\": {\"schema\": {\"$ref\": \"#/components/schemas/Subtransactions\"}}}}, \"400\": {\"description\": \"BAD REQUEST. The server cannot process the request due to malformed request syntax, invalid request message framing, or invalid values. \\n\\nREQUISI\\u00c7\\u00c3O INV\\u00c1LIDA. O servidor n\\u00e3o p\\u00f4de processar a requisi\\u00e7\\u00e3o devido a uma sintaxe malformada, estrutura inv\\u00e1lida da mensagem ou valores inv\\u00e1lidos.\", \"content\": {\"application/json\": {\"schema\": {\"$ref\": \"#/components/schemas/Error\"}}}}, \"401\": {\"description\": \"UNAUTHORIZED. The request requires user authentication. Repeat the request with a Authorization header field. \\n\\nN\\u00c3O AUTORIZADO. A requisi\\u00e7\\u00e3o requer autentica\\u00e7\\u00e3o do usu\\u00e1rio. Repita a requisi\\u00e7\\u00e3o com um campo do header de autoriza\\u00e7\\u00e3o.\", \"content\": {\"application/json\": {\"schema\": {\"$ref\": \"#/components/schemas/ErrorOAuthUnauthorized\"}}}}, \"500\": {\"description\": \"INTERNAL ERROR. The server encountered an unexpected condition which prevented it from fulfilling the request. \\n\\nERRO INTERNO. O servidor encontrou uma condi\\u00e7\\u00e3o inesperada que impediu o cumprimento da solicita\\u00e7\\u00e3o.\", \"content\": {\"application/json\": {\"schema\": {\"$ref\": \"#/components/schemas/Error\"}}}}, \"502\": {\"description\": \"pt-BR: O servidor, ao atuar como gateway ou proxy, recebeu uma resposta inv\\u00e1lida de um servidor de entrada que acessou ao tentar atender \\u00e0 solicita\\u00e7\\u00e3o.\\n\\nen-US: The server, while acting as a gateway or proxy, received an invalid response from an inbound server it accessed while attempting to fulfill the request.\", \"content\": {\"application/json\": {\"schema\": {\"$ref\": \"#/components/schemas/Error502\"}}}}, \"503\": {\"description\": \"SERVICE UNAVAILABLE. The server is currently unable to handle the request due to a temporary overloading or maintenance of the server. \\n\\nSERVI\\u00c7O INDISPON\\u00cdVEL. No momento o servidor n\\u00e3o pode atender a solicita\\u00e7\\u00e3o devido a uma sobrecarga tempor\\u00e1ria ou manuten\\u00e7\\u00e3o do servidor.\", \"content\": {\"application/json\": {\"schema\": {\"$ref\": \"#/components/schemas/Error\"}}}}}, \"operationId\": \"ExtratoSubtransacoesOrgaoControleId\", \"parameters\": [{\"name\": \"Authorization\", \"in\": \"header\", \"description\": \"\\u00c9 o valor do token de acesso fornecido pelo OAuth.\\nExemplo: Bearer <acess_token>\", \"required\": true, \"schema\": {\"type\": \"string\"}}, {\"name\": \"gw-dev-app-key\", \"in\": \"query\", \"description\": \"\\u00c9 a chave de acesso do aplicativo do desenvolvedor obtida no Portal do Desenvolvedor. \\nEssa chave ser\\u00e1 usada para identifica\\u00e7\\u00e3o do aplicativo.\", \"required\": true, \"schema\": {\"type\": \"string\"}}]}, \"parameters\": [{\"name\": \"branchCode\", \"in\": \"path\", \"description\": \"Branch code in the financial institution.\\n\\nC\\u00f3digo da ag\\u00eancia na institui\\u00e7\\u00e3o financeira.\", \"required\": true, \"schema\": {\"type\": \"number\"}}, {\"name\": \"accountNumber\", \"in\": \"path\", \"description\": \"Account number in the financial institution.\\n\\nN\\u00famero da conta na institui\\u00e7\\u00e3o financeira.\", \"required\": true, \"schema\": {\"type\": \"number\"}}, {\"name\": \"id\", \"in\": \"path\", \"description\": \"Sequential number of the debit release that has credits (subtransactions);\\n\\nN\\u00famero sequencial do lan\\u00e7amento de d\\u00e9bito que possui cr\\u00e9ditos (subtransa\\u00e7\\u00f5es).\", \"required\": true, \"schema\": {\"type\": \"number\"}}]}, \"/extratos/{agencia}-{contaCorrente}/fundos-investimentos/{fundosInvestimentoId}\": {\"get\": {\"summary\": \"Extratos de Fundos de Investimento do \\u00d3rg\\u00e3o de Repasse\", \"description\": \"Lista Extratos de Fundos de Investimento vinculados a clientes, do tipo Governo, por \\u00d3rg\\u00e3o de Repasse\", \"security\": [{\"OAuth2-ClientCredentials\": [\"accountability.statements\"]}], \"tags\": [\"accountability\"], \"responses\": {\"200\": {\"description\": \"SUCESSO. A requisi\\u00e7\\u00e3o foi atendida pelo servidor.\", \"content\": {\"application/json\": {\"schema\": {\"$ref\": \"#/components/schemas/RespostaExtratoFundosInvestimento\"}}}}, \"400\": {\"description\": \"REQUISI\\u00c7\\u00c3O INV\\u00c1LIDA. O servidor n\\u00e3o p\\u00f4de processar a requisi\\u00e7\\u00e3o devido a uma sintaxe de requisi\\u00e7\\u00e3o malformada, estrutura da mensagem da requisi\\u00e7\\u00e3o inv\\u00e1lida ou valores inv\\u00e1lidos.\", \"content\": {\"application/json\": {\"schema\": {\"$ref\": \"#/components/schemas/Error\"}}}}, \"401\": {\"description\": \"N\\u00c3O AUTORIZADO. A requisi\\u00e7\\u00e3o requer autentica\\u00e7\\u00e3o do usu\\u00e1rio.\", \"content\": {\"application/json\": {\"schema\": {\"$ref\": \"#/components/schemas/ErrorOAuthUnauthorized\"}}}}, \"403\": {\"description\": \"NEGADO. O servidor entendeu a requisi\\u00e7\\u00e3o, por\\u00e9m n\\u00e3o a autorizou.\", \"content\": {\"application/json\": {\"schema\": {\"$ref\": \"#/components/schemas/Error\"}}}}, \"404\": {\"description\": \"N\\u00c3O ENCONTRADO. O servidor n\\u00e3o conseguiu encontrar o recurso solicitado.\"}, \"500\": {\"description\": \"ERRO INTERNO. O servidor encontrou uma condi\\u00e7\\u00e3o inesperada que o impediu de atender a requisi\\u00e7\\u00e3o.\", \"content\": {\"application/json\": {\"schema\": {\"$ref\": \"#/components/schemas/Error\"}}}}, \"502\": {\"description\": \"GATEWAY INV\\u00c1LIDO. O servidor, atuando como um gateway ou proxy, recebeu uma resposta inv\\u00e1lida de um servidor interno que acessou ao tentar atender \\u00e0 solicita\\u00e7\\u00e3o.\", \"content\": {\"application/json\": {\"schema\": {\"$ref\": \"#/components/schemas/Error\"}}}}, \"503\": {\"description\": \"SERVI\\u00c7O INDISPON\\u00cdVEL. Atualmente, o servidor n\\u00e3o pode lidar com a solicita\\u00e7\\u00e3o devido a uma sobrecarga ou manuten\\u00e7\\u00e3o tempor\\u00e1ria do servidor.\", \"content\": {\"application/json\": {\"schema\": {\"$ref\": \"#/components/schemas/Error\"}}}}}, \"parameters\": [{\"name\": \"mes\", \"in\": \"query\", \"description\": \"M\\u00eas de refer\\u00eancia do extrato de fundos de investimento a ser consultado\", \"required\": true, \"schema\": {\"type\": \"number\"}}, {\"name\": \"ano\", \"in\": \"query\", \"description\": \"Ano de refer\\u00eancia do extrato de fundos de investimento a ser consultado\", \"required\": true, \"schema\": {\"type\": \"number\"}}, {\"name\": \"gw-dev-app-key\", \"in\": \"query\", \"description\": \"Chave de acesso do aplicativo do desenvolvedor. Esta chave \\u00e9 \\u00fanica e obtida no Portal \\u201cBB for Developers\\u201d e usada para identificar as requisi\\u00e7\\u00f5es da aplica\\u00e7\\u00e3o do desenvolvedor.\", \"schema\": {\"type\": \"string\"}, \"required\": true}], \"operationId\": \"ExtratosFundosInvestimentoId\"}, \"parameters\": [{\"name\": \"agencia\", \"in\": \"path\", \"description\": \"N\\u00famero da Ag\\u00eancia da conta que recebeu o repasse de recursos financeiros.\", \"required\": true, \"schema\": {\"type\": \"number\"}}, {\"name\": \"contaCorrente\", \"in\": \"path\", \"description\": \"N\\u00famero da Conta Corrente que recebeu o repasse de recursos financeiros.\", \"required\": true, \"schema\": {\"type\": \"number\"}}, {\"name\": \"fundosInvestimentoId\", \"in\": \"path\", \"description\": \"C\\u00f3digo do Fundo de Investimento onde foram aplicados os recursos financeiros recebidos\", \"required\": true, \"schema\": {\"type\": \"number\"}}, {\"name\": \"Authorization\", \"in\": \"header\", \"description\": \"\\u00c9 o valor do token de acesso fornecido pelo OAuth.\\nExemplo: Bearer <acess_token>\", \"required\": true, \"schema\": {\"type\": \"string\"}}]}, \"/extratos/{agencia}-{contaCorrente}/poupanca/{variacaoPoupanca}\": {\"get\": {\"description\": \"Lista Extratos de Poupan\\u00e7as vinculadas a clientes, do tipo Governo, por \\u00d3rg\\u00e3o de Repasse\", \"security\": [{\"OAuth2-ClientCredentials\": [\"accountability.statements\"]}], \"tags\": [\"accountability\"], \"responses\": {\"200\": {\"description\": \"SUCESSO. A requisi\\u00e7\\u00e3o foi atendida pelo servidor.\", \"content\": {\"application/json\": {\"schema\": {\"$ref\": \"#/components/schemas/RespostaGETExtratoPoupancaGoverno\"}}}}, \"400\": {\"description\": \"REQUISI\\u00c7\\u00c3O INV\\u00c1LIDA. O servidor n\\u00e3o p\\u00f4de processar a requisi\\u00e7\\u00e3o devido a uma sintaxe de requisi\\u00e7\\u00e3o malformada, estrutura da mensagem da requisi\\u00e7\\u00e3o inv\\u00e1lida, ou valores inv\\u00e1lidos.\", \"content\": {\"application/json\": {\"schema\": {\"$ref\": \"#/components/schemas/Error\"}}}}, \"401\": {\"description\": \"N\\u00c3O AUTORIZADO. A requisi\\u00e7\\u00e3o requer autentica\\u00e7\\u00e3o do usu\\u00e1rio.\", \"content\": {\"application/json\": {\"schema\": {\"$ref\": \"#/components/schemas/ErrorOAuthUnauthorized\"}}}}, \"403\": {\"description\": \"PROIBIDO. A solicita\\u00e7\\u00e3o foi v\\u00e1lida, mas o servidor est\\u00e1 recusando a a\\u00e7\\u00e3o. O usu\\u00e1rio pode n\\u00e3o ter as permiss\\u00f5es necess\\u00e1rias para um recurso ou pode precisar de uma conta de algum tipo.\", \"content\": {\"application/json\": {\"schema\": {\"$ref\": \"#/components/schemas/Error\"}}}}, \"404\": {\"description\": \"N\\u00c3O ENCONTRADO. O servidor n\\u00e3o pode encontrar o recurso solicitado.\"}, \"409\": {\"description\": \"CONFLITO. A solicita\\u00e7\\u00e3o n\\u00e3o p\\u00f4de ser conclu\\u00edda devido a um conflito com o estado atual do recurso.\", \"content\": {\"application/json\": {\"schema\": {\"$ref\": \"#/components/schemas/Error\"}}}}, \"500\": {\"description\": \"ERRO INTERNO. O servidor encontrou uma condi\\u00e7\\u00e3o inesperada que o impediu de atender a requisi\\u00e7\\u00e3o.\", \"content\": {\"application/json\": {\"schema\": {\"$ref\": \"#/components/schemas/Error\"}}}}}, \"summary\": \"Lista Extratos de Poupan\\u00e7as vinculadas a clientes, do tipo Governo, por \\u00d3rg\\u00e3o de Repasse\", \"operationId\": \"ExtratosPoupancasVinculadasId\"}, \"parameters\": [{\"name\": \"agencia\", \"in\": \"path\", \"description\": \"N\\u00famero da ag\\u00eancia da Conta Corrente\", \"required\": true, \"schema\": {\"type\": \"integer\", \"format\": \"int64\"}}, {\"name\": \"contaCorrente\", \"in\": \"path\", \"description\": \"N\\u00famero da Conta Corrente\", \"required\": true, \"schema\": {\"type\": \"integer\", \"format\": \"int64\"}}, {\"name\": \"variacaoPoupanca\", \"in\": \"path\", \"description\": \"C\\u00f3digo da varia\\u00e7\\u00e3o da Poupan\\u00e7a\\n\", \"required\": true, \"schema\": {\"type\": \"integer\", \"format\": \"int64\"}}, {\"name\": \"mes\", \"in\": \"query\", \"description\": \"M\\u00eas de refer\\u00eancia a ser consultado\", \"required\": true, \"schema\": {\"type\": \"integer\", \"format\": \"int64\"}}, {\"name\": \"ano\", \"in\": \"query\", \"description\": \"Ano de refer\\u00eancia a ser consultado\\n\", \"required\": true, \"schema\": {\"type\": \"integer\", \"format\": \"int64\"}}, {\"name\": \"gw-dev-app-key\", \"in\": \"query\", \"description\": \"\\u00c9 a chave de acesso do aplicativo do desenvolvedor obtida no Portal do Desenvolvedor. \\nEssa chave ser\\u00e1 usada para identifica\\u00e7\\u00e3o do aplicativo.\", \"required\": true, \"schema\": {\"type\": \"string\"}}]}, \"/programas-governo/{numeroProgramaGoverno}/orgaos-repasse/lancamentos-atualizados\": {\"parameters\": [{\"schema\": {\"type\": \"integer\"}, \"name\": \"numeroProgramaGoverno\", \"in\": \"path\", \"required\": true, \"description\": \"N\\u00famero do programa governamental em que a conta corrente est\\u00e1 vinculada para recebimento de repasse da verba p\\u00fablica.\"}], \"get\": {\"summary\": \"Lan\\u00e7amentos Atualizados por \\u00d3rg\\u00e3o de Repasse\", \"tags\": [\"accountability\"], \"responses\": {\"200\": {\"description\": \"OK\", \"content\": {\"application/json\": {\"schema\": {\"$ref\": \"#/components/schemas/RespostaLancamentosOrgaoRepasse\"}, \"examples\": {\"Exemplo\": {\"value\": {\"totalPaginas\": 1, \"listaLancamentos\": [{\"agencia\": 1234, \"contaCorrente\": 0, \"sequencialLancamento\": 0}]}}, \"example-lista-vazia\": {\"value\": {\"totalPaginas\": 0, \"listaLancamentos\": []}}}}}}, \"400\": {\"description\": \"REQUISI\\u00c7\\u00c3O INV\\u00c1LIDA. O servidor n\\u00e3o p\\u00f4de processar a requisi\\u00e7\\u00e3o devido a uma sintaxe de requisi\\u00e7\\u00e3o malformada, estrutura da mensagem da requisi\\u00e7\\u00e3o inv\\u00e1lida, ou valores inv\\u00e1lidos.\", \"content\": {\"application/json\": {\"schema\": {\"$ref\": \"#/components/schemas/Erro-v4\"}}}}, \"401\": {\"description\": \"N\\u00c3O AUTORIZADO. A requisi\\u00e7\\u00e3o requer autentica\\u00e7\\u00e3o do usu\\u00e1rio.\", \"content\": {\"application/json\": {\"schema\": {\"$ref\": \"#/components/schemas/ErrorOAuthUnauthorized\"}}}}, \"403\": {\"description\": \"PROIBIDO. A solicita\\u00e7\\u00e3o foi v\\u00e1lida, mas o servidor est\\u00e1 recusando a a\\u00e7\\u00e3o. O usu\\u00e1rio pode n\\u00e3o ter as permiss\\u00f5es necess\\u00e1rias para um recurso ou pode precisar de uma conta de algum tipo.\", \"content\": {\"application/json\": {\"schema\": {\"$ref\": \"#/components/schemas/Erro-v4\"}}}}, \"404\": {\"description\": \"N\\u00c3O ENCONTRADO. O servidor n\\u00e3o pode encontrar o recurso solicitado.\"}, \"409\": {\"description\": \"CONFLITO. A solicita\\u00e7\\u00e3o n\\u00e3o p\\u00f4de ser conclu\\u00edda devido a um conflito com o estado atual do recurso.\", \"content\": {\"application/json\": {\"schema\": {\"$ref\": \"#/components/schemas/Erro-v4\"}}}}, \"500\": {\"description\": \"ERRO INTERNO. O servidor encontrou uma condi\\u00e7\\u00e3o inesperada que o impediu de atender a requisi\\u00e7\\u00e3o.\", \"content\": {\"application/json\": {\"schema\": {\"$ref\": \"#/components/schemas/Erro-v4\"}}}}}, \"operationId\": \"get-extratos-id-atualizacao-lancamentos\", \"description\": \"Listar lan\\u00e7amentos atualizados, de contas vinculadas ao programa de governo por \\u00d3rg\\u00e3o de Repasse.\", \"security\": [{\"OAuth2-ClientCredentials\": [\"accountability.statements\"]}], \"parameters\": [{\"schema\": {\"type\": \"string\", \"format\": \"date\", \"example\": \"2020-01-01\", \"minLength\": 10, \"maxLength\": 10}, \"in\": \"query\", \"name\": \"dataInicio\", \"description\": \"Data inicial do per\\u00edodo a ser consultado. Per\\u00edodo pesquisado n\\u00e3o deve ser maior do que 31 dias.\", \"required\": true}, {\"schema\": {\"type\": \"string\", \"format\": \"date\", \"example\": \"2020-01-01\", \"minLength\": 10, \"maxLength\": 10}, \"in\": \"query\", \"name\": \"dataFim\", \"required\": true, \"description\": \"Data final do per\\u00edodo a ser consultado. Per\\u00edodo pesquisado n\\u00e3o deve ser maior do que 31 dias.\"}, {\"schema\": {\"type\": \"string\"}, \"in\": \"query\", \"name\": \"gw-dev-app-key\", \"description\": \"\\u00c9 a chave de acesso do aplicativo do desenvolvedor obtida no Portal do Desenvolvedor. Essa chave ser\\u00e1 usada para identifica\\u00e7\\u00e3o do aplicativo.\", \"required\": true}, {\"schema\": {\"type\": \"string\"}, \"in\": \"header\", \"name\": \"Authorization\", \"description\": \"\\u00c9 o valor do token de acesso fornecido pelo OAuth.Exemplo: Bearer <acess_token>\", \"required\": true}, {\"schema\": {\"type\": \"integer\"}, \"in\": \"query\", \"name\": \"pagina\", \"description\": \"N\\u00famero da p\\u00e1gina da resposta aos par\\u00e2metros consultados, inicia na p\\u00e1gina 1.\", \"required\": true}]}}, \"/programas-governo/{numeroProgramaGoverno}/orgaos-repasse/sublancamentos-atualizados\": {\"parameters\": [{\"schema\": {\"type\": \"integer\", \"format\": \"int64\", \"example\": 999}, \"name\": \"numeroProgramaGoverno\", \"in\": \"path\", \"required\": true, \"description\": \"C\\u00f3digo do programa governamental em que a conta corrente est\\u00e1 vinculada para recebimento de repasse da verba p\\u00fablica.\"}], \"get\": {\"summary\": \"sublan\\u00e7amentos Atualizados por \\u00d3rg\\u00e3o de Repasse\", \"tags\": [\"accountability\"], \"responses\": {\"200\": {\"description\": \"OK\", \"content\": {\"application/json\": {\"schema\": {\"description\": \"\", \"type\": \"object\", \"properties\": {\"totalPaginas\": {\"type\": \"integer\", \"description\": \"N\\u00famero total de p\\u00e1ginas retornadas na consulta efetuada.\", \"format\": \"int32\", \"example\": 1}, \"listaSublancamentos\": {\"type\": \"array\", \"uniqueItems\": true, \"description\": \"Quantidade de lan\\u00e7amentos atualizados retornados na p\\u00e1gina consultada.\", \"minItems\": 0, \"items\": {\"type\": \"object\", \"properties\": {\"agencia\": {\"type\": \"integer\", \"description\": \"C\\u00f3digo da ag\\u00eancia vinculada ao programa de governo.\", \"format\": \"int32\", \"example\": 9999}, \"contaCorrente\": {\"type\": \"integer\", \"description\": \"N\\u00famero da conta corrente vinculada ao programa de governo.\", \"format\": \"int64\", \"example\": 9999999999}, \"sequencialLancamento\": {\"type\": \"integer\", \"description\": \"N\\u00famero sequencial \\u00fanico do Lan\\u00e7amento vinculado a conta corrente.\", \"format\": \"int64\", \"example\": 123456789}, \"sequencialSublancamento\": {\"type\": \"integer\", \"description\": \"N\\u00famero sequencial \\u00fanico do Sublan\\u00e7amento vinculado a conta corrente.\", \"format\": \"int64\", \"example\": 987654321}}, \"required\": [\"agencia\", \"contaCorrente\", \"sequencialLancamento\", \"sequencialSublancamento\"]}}}, \"required\": [\"totalPaginas\", \"listaSublancamentos\"]}, \"examples\": {\"Exemplo\": {\"value\": {\"totalPaginas\": 1, \"listaSublancamentos\": [{\"agencia\": 9999, \"contaCorrente\": 9999999999, \"sequencialLancamento\": 123456789, \"sequencialSublancamento\": 987654321}]}}, \"example-lista-vazia\": {\"value\": {\"totalPaginas\": 0, \"listaSublancamentos\": []}}}}}}, \"400\": {\"description\": \"REQUISI\\u00c7\\u00c3O INV\\u00c1LIDA. O servidor n\\u00e3o p\\u00f4de processar a requisi\\u00e7\\u00e3o devido a uma sintaxe de requisi\\u00e7\\u00e3o malformada, estrutura da mensagem da requisi\\u00e7\\u00e3o inv\\u00e1lida, ou valores inv\\u00e1lidos.\", \"content\": {\"application/json\": {\"schema\": {\"$ref\": \"#/components/schemas/Erro-v4\"}}}}, \"401\": {\"description\": \"N\\u00c3O AUTORIZADO. A requisi\\u00e7\\u00e3o requer autentica\\u00e7\\u00e3o do usu\\u00e1rio.\", \"content\": {\"application/json\": {\"schema\": {\"$ref\": \"#/components/schemas/ErrorOAuthUnauthorized\"}}}}, \"403\": {\"description\": \"PROIBIDO. A solicita\\u00e7\\u00e3o foi v\\u00e1lida, mas o servidor est\\u00e1 recusando a a\\u00e7\\u00e3o. O usu\\u00e1rio pode n\\u00e3o ter as permiss\\u00f5es necess\\u00e1rias para um recurso ou pode precisar de uma conta de algum tipo.\", \"content\": {\"application/json\": {\"schema\": {\"$ref\": \"#/components/schemas/Erro-v4\"}}}}, \"404\": {\"description\": \"N\\u00c3O ENCONTRADO. O servidor n\\u00e3o pode encontrar o recurso solicitado.\"}, \"409\": {\"description\": \"CONFLITO. A solicita\\u00e7\\u00e3o n\\u00e3o p\\u00f4de ser conclu\\u00edda devido a um conflito com o estado atual do recurso.\", \"content\": {\"application/json\": {\"schema\": {\"$ref\": \"#/components/schemas/Erro-v4\"}}}}, \"500\": {\"description\": \"ERRO INTERNO. O servidor encontrou uma condi\\u00e7\\u00e3o inesperada que o impediu de atender a requisi\\u00e7\\u00e3o.\", \"content\": {\"application/json\": {\"schema\": {\"$ref\": \"#/components/schemas/Erro-v4\"}}}}}, \"operationId\": \"get-extratos-id-atualizacao-sublancamentos\", \"description\": \"Listar sublan\\u00e7amentos atualizados, de contas vinculadas ao programa de governo por \\u00d3rg\\u00e3o de Repasse.\", \"security\": [{\"OAuth2-ClientCredentials\": [\"accountability.statements\"]}], \"parameters\": [{\"schema\": {\"type\": \"string\", \"format\": \"date\", \"example\": \"2020-01-01\", \"minLength\": 10, \"maxLength\": 10}, \"in\": \"query\", \"name\": \"dataInicio\", \"description\": \"Data inicial do per\\u00edodo a ser consultado. Per\\u00edodo pesquisado n\\u00e3o deve ser maior do que 31 dias.\", \"required\": true}, {\"schema\": {\"type\": \"string\", \"format\": \"date\", \"example\": \"2020-01-01\", \"minLength\": 10, \"maxLength\": 10}, \"in\": \"query\", \"name\": \"dataFim\", \"required\": true, \"description\": \"Data final do per\\u00edodo a ser consultado. Per\\u00edodo pesquisado n\\u00e3o deve ser maior do que 31 dias.\"}, {\"schema\": {\"type\": \"string\"}, \"in\": \"query\", \"name\": \"gw-dev-app-key\", \"description\": \"\\u00c9 a chave de acesso do aplicativo do desenvolvedor obtida no Portal do Desenvolvedor. Essa chave ser\\u00e1 usada para identifica\\u00e7\\u00e3o do aplicativo.\", \"required\": true}, {\"schema\": {\"type\": \"string\"}, \"in\": \"header\", \"name\": \"Authorization\", \"description\": \"\\u00c9 o valor do token de acesso fornecido pelo OAuth.Exemplo: Bearer <acess_token>\", \"required\": true}, {\"schema\": {\"type\": \"integer\"}, \"in\": \"query\", \"name\": \"pagina\", \"description\": \"N\\u00famero da p\\u00e1gina da resposta aos par\\u00e2metros consultados, inicia na p\\u00e1gina 1.\", \"required\": true}]}}, \"/programas-governo/{numeroProgramaGoverno}/categorias\": {\"parameters\": [{\"schema\": {\"type\": \"integer\", \"format\": \"int32\", \"example\": 14, \"minimum\": 1, \"maximum\": 999999999}, \"name\": \"numeroProgramaGoverno\", \"in\": \"path\", \"required\": true, \"description\": \"C\\u00f3digo do programa governamental em que a conta corrente est\\u00e1 vinculada para recebimento de repasse da verba p\\u00fablica.\"}], \"get\": {\"summary\": \"Listar Categorias por Programa de Governo\", \"tags\": [\"accountability\"], \"responses\": {\"200\": {\"description\": \"OK\", \"content\": {\"application/json\": {\"schema\": {\"description\": \"\", \"type\": \"object\", \"properties\": {\"categorias\": {\"type\": \"array\", \"uniqueItems\": true, \"description\": \"Lista com categorias de despesas vinculadas ao programa de governo.\", \"minItems\": 0, \"maxItems\": 600, \"items\": {\"type\": \"object\", \"minProperties\": 4, \"maxProperties\": 4, \"properties\": {\"codigo\": {\"type\": \"integer\", \"description\": \"C\\u00f3digo da categoria.\", \"format\": \"int32\", \"example\": 1, \"minimum\": 1, \"maximum\": 99999}, \"nome\": {\"type\": \"string\", \"description\": \"Nome da categoria.\", \"example\": \"Manuten\\u00e7\\u00e3o\", \"minLength\": 1, \"maxLength\": 120}, \"codigoCategoriaAgrupadora\": {\"type\": \"integer\", \"description\": \"C\\u00f3digo da categoria agrupadora. Indica que esta categoria \\u00e9 subcategoria de outra categoria indicada neste campo.\", \"format\": \"int32\", \"example\": 0, \"minimum\": 0, \"maximum\": 99999}, \"indicadorDespesaAtiva\": {\"type\": \"string\", \"description\": \"Informa se categoria est\\u00e1 dispon\\u00edvel ou n\\u00e3o para utiliza\\u00e7\\u00e3o na presta\\u00e7\\u00e3o de contas via sistema Gest\\u00e3o \\u00c1gil.\", \"example\": \"S\", \"enum\": [\"S\", \"N\"], \"minLength\": 1, \"maxLength\": 1}}, \"required\": [\"codigo\", \"nome\", \"codigoCategoriaAgrupadora\", \"indicadorDespesaAtiva\"]}}}, \"required\": [\"categorias\"]}, \"examples\": {}}}}, \"400\": {\"description\": \"REQUISI\\u00c7\\u00c3O INV\\u00c1LIDA. O servidor n\\u00e3o p\\u00f4de processar a requisi\\u00e7\\u00e3o devido a uma sintaxe de requisi\\u00e7\\u00e3o malformada, estrutura da mensagem da requisi\\u00e7\\u00e3o inv\\u00e1lida, ou valores inv\\u00e1lidos.\", \"content\": {\"application/json\": {\"schema\": {\"$ref\": \"#/components/schemas/Erro-v4\"}}}}, \"401\": {\"description\": \"N\\u00c3O AUTORIZADO. A requisi\\u00e7\\u00e3o requer autentica\\u00e7\\u00e3o do usu\\u00e1rio.\", \"content\": {\"application/json\": {\"schema\": {\"$ref\": \"#/components/schemas/ErrorOAuthUnauthorized\"}}}}, \"404\": {\"description\": \"N\\u00c3O ENCONTRADO. O servidor n\\u00e3o pode encontrar o recurso solicitado.\"}, \"500\": {\"description\": \"ERRO INTERNO. O servidor encontrou uma condi\\u00e7\\u00e3o inesperada que o impediu de atender a requisi\\u00e7\\u00e3o.\", \"content\": {\"application/json\": {\"schema\": {\"$ref\": \"#/components/schemas/Erro-v4\"}}}}}, \"operationId\": \"get-categorias\", \"description\": \"Listar categorias de um programa de governo, vinculada ao \\u00f3rg\\u00e3o de repasse de verba p\\u00fablica.\", \"security\": [{\"OAuth2-ClientCredentials\": [\"accountability.statements\"]}], \"parameters\": [{\"schema\": {\"type\": \"string\"}, \"in\": \"query\", \"name\": \"gw-dev-app-key\", \"description\": \"\\u00c9 a chave de acesso do aplicativo do desenvolvedor obtida no Portal do Desenvolvedor. Essa chave ser\\u00e1 usada para identifica\\u00e7\\u00e3o do aplicativo.\", \"required\": true}, {\"schema\": {\"type\": \"string\"}, \"in\": \"header\", \"name\": \"Authorization\", \"description\": \"\\u00c9 o valor do token de acesso fornecido pelo OAuth.Exemplo: Bearer <acess_token>\", \"required\": true}]}}, \"/saldos/{agencia}-{contaCorrente}/aplicacoes-financeiras\": {\"parameters\": [{\"schema\": {\"type\": \"string\"}, \"name\": \"agencia\", \"in\": \"path\", \"required\": true}, {\"schema\": {\"type\": \"string\"}, \"name\": \"contaCorrente\", \"in\": \"path\", \"required\": true}], \"get\": {\"summary\": \"Saldo de Aplica\\u00e7\\u00f5es Financeiras\", \"description\": \"Listar o saldo de aplica\\u00e7\\u00f5es financeiras por ag\\u00eancia e conta corrente benefici\\u00e1ria de repasses de recursos do governo.\", \"tags\": [\"accountability\"], \"security\": [{\"OAuth2-ClientCredentials\": [\"accountability.statements\"]}], \"responses\": {\"200\": {\"description\": \"SUCESSO. A requisi\\u00e7\\u00e3o foi atendida pelo servidor.\", \"content\": {\"application/json\": {\"schema\": {\"description\": \"\", \"type\": \"object\", \"properties\": {\"dataSaldo\": {\"type\": \"string\", \"description\": \"Data em que o valor do saldo de aplica\\u00e7\\u00f5es foi processado.\", \"example\": \"02/01/2021\"}, \"valorDisponibilidade\": {\"type\": \"number\", \"description\": \"Valor do saldo de aplica\\u00e7\\u00f5es vinculados a ag\\u00eancia e conta corrente.\", \"example\": 99.43, \"format\": \"double\"}, \"operacoes\": {\"type\": \"array\", \"minItems\": 0, \"maxItems\": 100, \"description\": \"Lista de opera\\u00e7\\u00f5es de aplica\\u00e7\\u00f5es financeiras \", \"items\": {\"type\": \"object\", \"properties\": {\"codigo\": {\"type\": \"integer\", \"description\": \"C\\u00f3digo num\\u00e9rico referente ao produto da aplica\\u00e7\\u00e3o financeira.\", \"example\": 3, \"format\": \"int32\"}, \"modalidade\": {\"type\": \"integer\", \"description\": \"C\\u00f3digo num\\u00e9rico referente a modalidade da aplica\\u00e7\\u00e3o financeira.\", \"example\": 0, \"format\": \"int32\"}, \"grupoAtivo\": {\"type\": \"integer\", \"description\": \"C\\u00f3digo num\\u00e9rico referente ao grupo da aplica\\u00e7\\u00e3o financeira.\", \"example\": 0, \"format\": \"int32\"}, \"tipo\": {\"type\": \"string\", \"description\": \"Descri\\u00e7\\u00e3o referente ao tipo de opera\\u00e7\\u00e3o da aplica\\u00e7\\u00e3o financeira.\", \"maxLength\": 50, \"example\": \"Poupan\\u00e7a\"}, \"valor\": {\"type\": \"number\", \"description\": \"Valor referente a aplica\\u00e7\\u00e3o financeira.\", \"example\": 113, \"format\": \"double\"}, \"indicadorSaldoNaoDisponivel\": {\"type\": \"string\", \"description\": \"Indica se no momento do c\\u00e1lculo do saldo de disponibilidade, alguma aplica\\u00e7\\u00e3o encontrava-se indispon\\u00edvel. Caso retorne valor igual a 'S' o cliente poder\\u00e1 verificar na listagem o detalhamento da indisponibilidade.\", \"enum\": [\"S\", \"N\"], \"example\": \"N\"}, \"mensagemSaldoApurado\": {\"type\": \"string\", \"description\": \"Descreve se o saldo foi processado ou est\\u00e1 indispon\\u00edvel para processamento.\", \"example\": \"Saldo indispon\\u00edvel: Titulo Publico Federal\", \"maxLength\": 80}}}}}}, \"examples\": {}}}}, \"400\": {\"description\": \"REQUISI\\u00c7\\u00c3O INV\\u00c1LIDA. O servidor n\\u00e3o p\\u00f4de processar a requisi\\u00e7\\u00e3o devido a uma sintaxe de requisi\\u00e7\\u00e3o malformada, estrutura da mensagem da requisi\\u00e7\\u00e3o inv\\u00e1lida ou valores inv\\u00e1lidos.\", \"content\": {\"application/json\": {\"schema\": {\"$ref\": \"#/components/schemas/Erro-v4\"}}}}, \"401\": {\"description\": \"N\\u00c3O AUTORIZADO. A requisi\\u00e7\\u00e3o requer autentica\\u00e7\\u00e3o do usu\\u00e1rio.\", \"content\": {\"application/json\": {\"schema\": {\"$ref\": \"#/components/schemas/ErrorOAuthUnauthorized\"}}}}, \"403\": {\"description\": \"NEGADO. O servidor entendeu a requisi\\u00e7\\u00e3o, por\\u00e9m n\\u00e3o a autorizou.\", \"content\": {\"application/json\": {\"schema\": {\"$ref\": \"#/components/schemas/Erro-v4\"}}}}, \"404\": {\"description\": \"N\\u00c3O ENCONTRADO. O servidor n\\u00e3o conseguiu encontrar o recurso solicitado.\"}, \"500\": {\"description\": \"ERRO INTERNO. O servidor encontrou uma condi\\u00e7\\u00e3o inesperada que o impediu de atender a requisi\\u00e7\\u00e3o.\", \"content\": {\"application/json\": {\"schema\": {\"$ref\": \"#/components/schemas/Erro-v4\"}}}}}, \"operationId\": \"saldoAplicacaoFinanceiras\", \"parameters\": [{\"name\": \"agencia\", \"in\": \"path\", \"description\": \"N\\u00famero da Ag\\u00eancia da conta que recebeu o repasse de recursos financeiros.\", \"required\": true, \"schema\": {\"type\": \"number\"}}, {\"name\": \"contaCorrente\", \"in\": \"path\", \"description\": \"N\\u00famero da Conta Corrente que recebeu o repasse de recursos financeiros.\", \"required\": true, \"schema\": {\"type\": \"number\"}}, {\"name\": \"Authorization\", \"in\": \"header\", \"description\": \"\\u00c9 o valor do token de acesso fornecido pelo OAuth.\\nExemplo: Bearer <acess_token>\", \"required\": true, \"schema\": {\"type\": \"string\"}}]}}, \"/agencias-proximas\": {\"get\": {\"summary\": \"Listar Ag\\u00eancias Pr\\u00f3ximas\", \"description\": \"Lista as ag\\u00eancias do Banco do Brasil em que o cliente j\\u00e1 tenha relacionamento e/ou localizadas pr\\u00f3ximas ao CEP informado.\", \"operationId\": \"AgenciasProximasId\", \"security\": [{\"OAuth2-ClientCredentials\": [\"accountability.statements\"]}], \"parameters\": [{\"name\": \"gw-dev-app-key\", \"in\": \"query\", \"description\": \"\\u00c9 a chave de acesso do aplicativo do desenvolvedor obtida no Portal do Desenvolvedor. Essa chave ser\\u00e1 usada para identifica\\u00e7\\u00e3o do aplicativo.\", \"required\": true, \"schema\": {\"type\": \"string\"}}, {\"name\": \"Authorization\", \"in\": \"header\", \"description\": \"\\u00c9 o valor do token de acesso fornecido pelo OAuth.\", \"required\": true, \"schema\": {\"type\": \"string\"}}, {\"name\": \"cnpj\", \"in\": \"query\", \"description\": \"Documento de identifica\\u00e7\\u00e3o do cliente (CNPJ), informado para verificar se j\\u00e1 existe ag\\u00eancia BB de relacionamento com o cliente.\", \"required\": true, \"schema\": {\"type\": \"string\", \"example\": \"33000167109111\"}}, {\"name\": \"cep\", \"in\": \"query\", \"description\": \"C\\u00f3digo postal (CEP), utilizado na consulta para identificar ag\\u00eancias pr\\u00f3ximas ao endere\\u00e7o do cliente.\", \"required\": true, \"schema\": {\"type\": \"string\", \"example\": \"70774-100\"}}], \"responses\": {\"200\": {\"description\": \"en-US: SUCCESS. The request has been fulfilled by the server. \\n\\npt-BR: SUCESSO. A requisi\\u00e7\\u00e3o foi atendida pelo servidor.\", \"content\": {\"application/json\": {\"schema\": {\"$ref\": \"#/components/schemas/RespostaListaAgencias\"}}}}, \"400\": {\"description\": \"en-US: BAD REQUEST. The server cannot process the request due to malformed request syntax, invalid request message framing, or invalid values.\\n\\npt-BR: REQUISI\\u00c7\\u00c3O INV\\u00c1LIDA. O servidor n\\u00e3o p\\u00f4de processar a requisi\\u00e7\\u00e3o devido a uma sintaxe de requisi\\u00e7\\u00e3o malformada, estrutura da mensagem da requisi\\u00e7\\u00e3o inv\\u00e1lida, ou valores inv\\u00e1lidos.\", \"content\": {\"application/json\": {\"schema\": {\"$ref\": \"#/components/schemas/Error\"}}}}, \"401\": {\"description\": \"en-US: UNAUTHORIZED. The request requires user authentication.\\n\\npt-BR: N\\u00c3O AUTORIZADO. A requisi\\u00e7\\u00e3o requer autentica\\u00e7\\u00e3o do usu\\u00e1rio.\", \"content\": {\"application/json\": {\"schema\": {\"$ref\": \"#/components/schemas/ErrorOAuthUnauthorized\"}}}}, \"500\": {\"description\": \"en-US: INTERNAL ERROR. The server encountered an unexpected condition which prevented it from fulfilling the request.\\n\\npt-BR: ERRO INTERNO. O servidor encontrou uma condi\\u00e7\\u00e3o inesperada que o impediu de atender a requisi\\u00e7\\u00e3o.\", \"content\": {\"application/json\": {\"schema\": {\"$ref\": \"#/components/schemas/Error\"}}}}}, \"tags\": [\"accountability\"]}}, \"/saldos/{agencia}-{contaCorrente}/conta-corrente\": {\"parameters\": [{\"schema\": {\"type\": \"string\"}, \"name\": \"agencia\", \"in\": \"path\", \"required\": true, \"description\": \"C\\u00f3digo num\\u00e9rico da ag\\u00eancia em que a conta corrente est\\u00e1 vinculada para recebimento de repasse da verba p\\u00fablica.\"}, {\"schema\": {\"type\": \"string\"}, \"name\": \"contaCorrente\", \"in\": \"path\", \"required\": true, \"description\": \"Num\\u00e9rico da conta corrente vinculada a programa de governo para recebimento de repasse da verba p\\u00fablica.\"}], \"get\": {\"summary\": \"Saldo Atual da Conta Corrente por Orgao de Repasse\", \"tags\": [\"accountability\"], \"responses\": {\"200\": {\"description\": \"SUCESSO. A requisi\\u00e7\\u00e3o foi atendida pelo servidor.\", \"content\": {\"application/json\": {\"schema\": {\"type\": \"object\", \"properties\": {\"dataSaldo\": {\"type\": \"string\", \"example\": \"20/08/2021\", \"description\": \"Data em que o valor do saldo da conta corrente foi processado. Formato: DD/MM/AAAA.\"}, \"valorDisponibilidade\": {\"type\": \"number\", \"format\": \"double\", \"example\": 1999999.99, \"description\": \"Valor do saldo da conta corrente vinculada ao org\\u00e3o de repasse de verba p\\u00fablica.\"}}}}}}, \"400\": {\"description\": \"REQUISI\\u00c7\\u00c3O INV\\u00c1LIDA. O servidor n\\u00e3o p\\u00f4de processar a requisi\\u00e7\\u00e3o devido a uma sintaxe de requisi\\u00e7\\u00e3o malformada, estrutura da mensagem da requisi\\u00e7\\u00e3o inv\\u00e1lida ou valores inv\\u00e1lidos.\", \"content\": {\"application/json\": {\"schema\": {\"$ref\": \"#/components/schemas/Erro-v4\"}}}}, \"401\": {\"description\": \"N\\u00c3O AUTORIZADO. A requisi\\u00e7\\u00e3o requer autentica\\u00e7\\u00e3o do usu\\u00e1rio.\", \"content\": {\"application/json\": {\"schema\": {\"$ref\": \"#/components/schemas/ErrorOAuthUnauthorized\"}}}}, \"403\": {\"description\": \"NEGADO. O servidor entendeu a requisi\\u00e7\\u00e3o, por\\u00e9m n\\u00e3o a autorizou.\", \"content\": {\"application/json\": {\"schema\": {\"$ref\": \"#/components/schemas/Erro-v4\"}}}}, \"404\": {\"description\": \"N\\u00c3O ENCONTRADO. O servidor n\\u00e3o conseguiu encontrar o recurso solicitado.\"}, \"500\": {\"description\": \"ERRO INTERNO. O servidor encontrou uma condi\\u00e7\\u00e3o inesperada que o impediu de atender a requisi\\u00e7\\u00e3o.\", \"content\": {\"application/json\": {\"schema\": {\"$ref\": \"#/components/schemas/Erro-v4\"}}}}}, \"operationId\": \"get-saldos-agencia---contaCorrente-conta-corrente\", \"description\": \"Consultar saldo de conta corrente, vinculada ao \\u00f3rg\\u00e3o de repasse de verba p\\u00fablica.\", \"security\": [{\"OAuth2-ClientCredentials\": [\"accountability.statements\"]}], \"parameters\": [{\"schema\": {\"type\": \"string\"}, \"in\": \"header\", \"name\": \"Authorization\", \"description\": \"\\u00c9 o valor do token de acesso fornecido pelo OAuth.Exemplo: Bearer <acess_token>\", \"required\": true}]}}, \"/extratos/{agencia}-{contaCorrente}/fundos-investimentos/{fundosInvestimentoId}/control-agencies\": {\"parameters\": [{\"schema\": {\"type\": \"string\"}, \"name\": \"agencia\", \"in\": \"path\", \"required\": true}, {\"schema\": {\"type\": \"string\"}, \"name\": \"contaCorrente\", \"in\": \"path\", \"required\": true}, {\"schema\": {\"type\": \"string\"}, \"name\": \"fundosInvestimentoId\", \"in\": \"path\", \"required\": true}], \"get\": {\"summary\": \"Extrato de Fundos de Investimento Por \\u00d3rg\\u00e3o de Controle\", \"tags\": [\"accountability\"], \"responses\": {\"200\": {\"description\": \"SUCESSO. A requisi\\u00e7\\u00e3o foi atendida pelo servidor.\", \"content\": {\"application/json\": {\"schema\": {\"$ref\": \"#/components/schemas/RespostaExtratoFundosInvestimento\"}}}}, \"400\": {\"description\": \"REQUISI\\u00c7\\u00c3O INV\\u00c1LIDA. O servidor n\\u00e3o p\\u00f4de processar a requisi\\u00e7\\u00e3o devido a uma sintaxe de requisi\\u00e7\\u00e3o malformada, estrutura da mensagem da requisi\\u00e7\\u00e3o inv\\u00e1lida ou valores inv\\u00e1lidos.\", \"content\": {\"application/json\": {\"schema\": {\"$ref\": \"#/components/schemas/Error\"}}}}, \"401\": {\"description\": \"N\\u00c3O AUTORIZADO. A requisi\\u00e7\\u00e3o requer autentica\\u00e7\\u00e3o do usu\\u00e1rio.\", \"content\": {\"application/json\": {\"schema\": {\"$ref\": \"#/components/schemas/ErrorOAuthUnauthorized\"}}}}, \"403\": {\"description\": \"NEGADO. O servidor entendeu a requisi\\u00e7\\u00e3o, por\\u00e9m n\\u00e3o a autorizou.\", \"content\": {\"application/json\": {\"schema\": {\"$ref\": \"#/components/schemas/Error\"}}}}, \"404\": {\"description\": \"N\\u00c3O ENCONTRADO. O servidor n\\u00e3o conseguiu encontrar o recurso solicitado.\"}, \"500\": {\"description\": \"ERRO INTERNO. O servidor encontrou uma condi\\u00e7\\u00e3o inesperada que o impediu de atender a requisi\\u00e7\\u00e3o.\", \"content\": {\"application/json\": {\"schema\": {\"$ref\": \"#/components/schemas/Error\"}}}}, \"502\": {\"description\": \"GATEWAY INV\\u00c1LIDO. O servidor, atuando como um gateway ou proxy, recebeu uma resposta inv\\u00e1lida de um servidor interno que acessou ao tentar atender \\u00e0 solicita\\u00e7\\u00e3o.\", \"content\": {\"application/json\": {\"schema\": {\"$ref\": \"#/components/schemas/Error\"}}}}, \"503\": {\"description\": \"SERVI\\u00c7O INDISPON\\u00cdVEL. Atualmente, o servidor n\\u00e3o pode lidar com a solicita\\u00e7\\u00e3o devido a uma sobrecarga ou manuten\\u00e7\\u00e3o tempor\\u00e1ria do servidor.\", \"content\": {\"application/json\": {\"schema\": {\"$ref\": \"#/components/schemas/Error\"}}}}}, \"operationId\": \"get-extratos-agencia---contaCorrente-fundos-investimentos-fundosInvestimentoId-control-agencies\", \"description\": \"Listar Extratos de Fundos de Investimento vinculados aos clientes governo, por \\u00f3rg\\u00e3o controlador.\", \"security\": [{\"OAuth2-ClientCredentials\": [\"accountability.statements\"]}], \"parameters\": [{\"schema\": {\"type\": \"number\"}, \"in\": \"query\", \"name\": \"mes\", \"description\": \"M\\u00eas de refer\\u00eancia do extrato de fundos de investimento a ser consultado\", \"required\": true}, {\"schema\": {\"type\": \"number\"}, \"in\": \"query\", \"name\": \"ano\", \"description\": \"Ano de refer\\u00eancia do extrato de fundos de investimento a ser consultado\", \"required\": true}, {\"schema\": {\"type\": \"string\"}, \"in\": \"query\", \"name\": \"gw-dev-app-key\", \"description\": \"Chave de acesso do aplicativo do desenvolvedor. Esta chave \\u00e9 \\u00fanica e obtida no Portal \\u201cBB for Developers\\u201d e usada para identificar as requisi\\u00e7\\u00f5es da aplica\\u00e7\\u00e3o do desenvolvedor.\", \"required\": true}]}}, \"/extratos/{agencia}-{contaCorrente}/poupanca/{variacaoPoupanca}/orgao-controle\": {\"parameters\": [{\"schema\": {\"type\": \"string\"}, \"name\": \"agencia\", \"in\": \"path\", \"required\": true}, {\"schema\": {\"type\": \"string\"}, \"name\": \"contaCorrente\", \"in\": \"path\", \"required\": true}, {\"schema\": {\"type\": \"string\"}, \"name\": \"variacaoPoupanca\", \"in\": \"path\", \"required\": true}], \"get\": {\"summary\": \"Extrato de Poupan\\u00e7a por \\u00d3rg\\u00e3o de Controle\", \"tags\": [\"accountability\"], \"responses\": {\"200\": {\"description\": \"SUCESSO. A requisi\\u00e7\\u00e3o foi atendida pelo servidor.\", \"content\": {\"application/json\": {\"schema\": {\"$ref\": \"#/components/schemas/RespostaGETExtratoPoupancaGoverno\"}}}}, \"400\": {\"description\": \"REQUISI\\u00c7\\u00c3O INV\\u00c1LIDA. O servidor n\\u00e3o p\\u00f4de processar a requisi\\u00e7\\u00e3o devido a uma sintaxe de requisi\\u00e7\\u00e3o malformada, estrutura da mensagem da requisi\\u00e7\\u00e3o inv\\u00e1lida ou valores inv\\u00e1lidos.\", \"content\": {\"application/json\": {\"schema\": {\"$ref\": \"#/components/schemas/Error\"}}}}, \"401\": {\"description\": \"N\\u00c3O AUTORIZADO. A requisi\\u00e7\\u00e3o requer autentica\\u00e7\\u00e3o do usu\\u00e1rio.\", \"content\": {\"application/json\": {\"schema\": {\"$ref\": \"#/components/schemas/ErrorOAuthUnauthorized\"}}}}, \"403\": {\"description\": \"NEGADO. O servidor entendeu a requisi\\u00e7\\u00e3o, por\\u00e9m n\\u00e3o a autorizou.\", \"content\": {\"application/json\": {\"schema\": {\"$ref\": \"#/components/schemas/Error\"}}}}, \"404\": {\"description\": \"N\\u00c3O ENCONTRADO. O servidor n\\u00e3o conseguiu encontrar o recurso solicitado.\"}, \"500\": {\"description\": \"ERRO INTERNO. O servidor encontrou uma condi\\u00e7\\u00e3o inesperada que o impediu de atender a requisi\\u00e7\\u00e3o.\"}, \"502\": {\"description\": \"GATEWAY INV\\u00c1LIDO. O servidor, atuando como um gateway ou proxy, recebeu uma resposta inv\\u00e1lida de um servidor interno que acessou ao tentar atender \\u00e0 solicita\\u00e7\\u00e3o.\", \"content\": {\"application/json\": {\"schema\": {\"$ref\": \"#/components/schemas/Error\"}}}}, \"503\": {\"description\": \"SERVI\\u00c7O INDISPON\\u00cdVEL. Atualmente, o servidor n\\u00e3o pode lidar com a solicita\\u00e7\\u00e3o devido a uma sobrecarga ou manuten\\u00e7\\u00e3o tempor\\u00e1ria do servidor.\", \"content\": {\"application/json\": {\"schema\": {\"$ref\": \"#/components/schemas/Error\"}}}}}, \"operationId\": \"get-extratos-agencia---contaCorrente-poupanca-variacaoPoupanca-orgao-controle\", \"security\": [{\"OAuth2-ClientCredentials\": [\"accountability.statements\"]}], \"parameters\": [{\"schema\": {\"type\": \"integer\", \"format\": \"int32\", \"minimum\": 0, \"example\": 51, \"maximum\": 9999}, \"in\": \"query\", \"name\": \"codigoVariacao\", \"description\": \"M\\u00eas de refer\\u00eancia do extrato de fundos de investimento a ser consultado\", \"required\": true}, {\"schema\": {\"type\": \"string\"}, \"in\": \"query\", \"name\": \"gw-dev-app-key\", \"description\": \"Chave de acesso do aplicativo do desenvolvedor. Esta chave \\u00e9 \\u00fanica e obtida no Portal \\u201cBB for Developers\\u201d e usada para identificar as requisi\\u00e7\\u00f5es da aplica\\u00e7\\u00e3o do desenvolvedor.\", \"required\": true}], \"description\": \"Listar Extratos de Poupan\\u00e7a vinculados a clientes governo por \\u00d3rg\\u00e3o de Controle de Recursos de Governo.\"}}, \"/orgaos-repasse/lancamentos-credito/{ordemBancaria}-{item}/categorias-despesa\": {\"parameters\": [{\"schema\": {\"type\": \"integer\", \"format\": \"int32\", \"example\": 999}, \"name\": \"ordemBancaria\", \"in\": \"path\", \"required\": true, \"description\": \"N\\u00famero da ordem banc\\u00e1ria que identifica um pagamento\"}, {\"schema\": {\"type\": \"integer\", \"format\": \"int32\", \"example\": 999}, \"name\": \"item\", \"in\": \"path\", \"required\": true, \"description\": \"N\\u00famero que identifica um item dentro uma de uma ordem banc\\u00e1ria\"}], \"post\": {\"summary\": \"Incluir Categoria de Despesa em Lan\\u00e7amento de Cr\\u00e9dito por \\u00d3rg\\u00e3o de Repasse\", \"operationId\": \"post-orgaos-repasse-lancamentos-credito-ordemBancaria---item-categorias-despesa\", \"responses\": {\"200\": {\"description\": \"SUCESSO. A requisi\\u00e7\\u00e3o foi atendida pelo servidor.\", \"content\": {\"application/json\": {\"schema\": {\"description\": \"\", \"type\": \"object\", \"x-examples\": {\"example-1\": {\"timestampInclusaoCategoriaDespesa\": \"2021-11-16-10.56.07.457763\"}}, \"properties\": {\"timestampInclusaoCategoriaDespesa\": {\"type\": \"string\", \"minLength\": 1, \"description\": \"Momento da categoriza\\u00e7\\u00e3o do lan\\u00e7amento de cr\\u00e9dido destinado o repasse de verba p\\u00fablica \", \"example\": \"2021-11-16-10.56.07.457763\"}}, \"required\": [\"timestampInclusaoCategoriaDespesa\"]}}}, \"headers\": {\"Content-Type\": {\"schema\": {\"type\": \"string\"}, \"description\": \"application/json\"}}}, \"400\": {\"description\": \"REQUISI\\u00c7\\u00c3O INV\\u00c1LIDA. O servidor n\\u00e3o p\\u00f4de processar a requisi\\u00e7\\u00e3o devido a uma sintaxe de requisi\\u00e7\\u00e3o malformada, estrutura da mensagem da requisi\\u00e7\\u00e3o inv\\u00e1lida ou valores inv\\u00e1lidos.\", \"content\": {\"application/json\": {\"schema\": {\"$ref\": \"#/components/schemas/Erro-v4\"}}}}, \"401\": {\"description\": \"N\\u00c3O AUTORIZADO. A requisi\\u00e7\\u00e3o requer autentica\\u00e7\\u00e3o do usu\\u00e1rio.\", \"content\": {\"application/json\": {\"schema\": {\"$ref\": \"#/components/schemas/ErrorOAuthUnauthorized\"}}}}, \"403\": {\"description\": \"NEGADO. O servidor entendeu a requisi\\u00e7\\u00e3o, por\\u00e9m n\\u00e3o a autorizou.\", \"content\": {\"application/json\": {\"schema\": {\"$ref\": \"#/components/schemas/Erro-v4\"}}}}, \"404\": {\"description\": \"N\\u00c3O ENCONTRADO. O servidor n\\u00e3o conseguiu encontrar o recurso solicitado.\"}, \"409\": {\"description\": \"CONFLITO. A solicita\\u00e7\\u00e3o n\\u00e3o p\\u00f4de ser conclu\\u00edda devido a um conflito com o estado atual do recurso de destino.\", \"content\": {\"application/json\": {\"schema\": {\"$ref\": \"#/components/schemas/Erro-v4\"}}}}, \"422\": {\"description\": \"ENTIDADE N\\u00c3O PROCESS\\u00c1VEL. O servidor entende o tipo de conte\\u00fado da  solicita\\u00e7\\u00e3o e a sintaxe da solicita\\u00e7\\u00e3o est\\u00e1 correta, mas n\\u00e3o foi poss\\u00edvel processar a requisi\\u00e7\\u00e3o devido a um erro sem\\u00e2ntico (valores dos campos informados s\\u00e3o negocialmente inv\\u00e1lidos).\", \"content\": {\"application/json\": {\"schema\": {\"$ref\": \"#/components/schemas/Erro-v4\"}}}}, \"500\": {\"description\": \"ERRO INTERNO. O servidor encontrou uma condi\\u00e7\\u00e3o inesperada que o impediu de atender a requisi\\u00e7\\u00e3o.\", \"content\": {\"application/json\": {\"schema\": {\"$ref\": \"#/components/schemas/Erro-v4\"}}}}}, \"tags\": [\"accountability\"], \"description\": \"Inclui categoria de despesa em lan\\u00e7amento de cr\\u00e9dito por \\u00d3rg\\u00e3o de Repasse\", \"security\": [{\"OAuth2-ClientCredentials\": [\"accountability.request\"]}], \"parameters\": [{\"schema\": {\"type\": \"string\"}, \"in\": \"query\", \"name\": \"gw-dev-app-key\", \"description\": \"Chave de acesso do aplicativo do desenvolvedor. Esta chave \\u00e9 \\u00fanica e obtida no Portal \\u201cBB for Developers\\u201d e usada para identificar as requisi\\u00e7\\u00f5es da aplica\\u00e7\\u00e3o do desenvolvedor.\", \"required\": true}, {\"schema\": {\"type\": \"string\"}, \"in\": \"header\", \"name\": \"Authorization\", \"description\": \"\\u00c9 o valor do token de acesso fornecido pelo OAuth.Exemplo: Bearer <acess_token>\", \"required\": true}], \"requestBody\": {\"content\": {\"application/json\": {\"schema\": {\"description\": \"\", \"type\": \"object\", \"x-examples\": {\"example-1\": {\"agencia\": 551, \"contaCorrente\": 5420, \"codigoContrato\": 999, \"codigoUnidadeGestora\": \"00000100001\", \"codigoCategoriaDespesa\": 2, \"codigoListagemCliente\": \"RE202100148\"}}, \"properties\": {\"agencia\": {\"type\": \"integer\", \"format\": \"int32\", \"description\": \"C\\u00f3digo num\\u00e9rico da ag\\u00eancia em que a conta corrente est\\u00e1 vinculada para recebimento de repasse da verba p\\u00fablica\", \"example\": 551}, \"contaCorrente\": {\"type\": \"integer\", \"format\": \"int32\", \"description\": \"N\\u00famero da conta corrente vinculada a programa de governo para recebimento de repasse da verba p\\u00fablica\", \"example\": 5420}, \"codigoContrato\": {\"type\": \"integer\", \"format\": \"int32\", \"description\": \"C\\u00f3digo do contrato do cliente que efetuar\\u00e1 pagamento de ordens banc\\u00e1rias\", \"example\": 999}, \"codigoUnidadeGestora\": {\"type\": \"string\", \"minLength\": 1, \"description\": \"Campo informado pelos clientes governo que correspondem a uma autarquia ou secretaria. Composi\\u00e7\\u00e3o: XXXXXXYYYYY, onde XXXXXX corresponde a Unidade gestor e YYYYY corresponde \\u00e0 gest\\u00e3o. \\nRecebido do arquivo remessa do cliente\", \"example\": \"00000100001\"}, \"codigoCategoriaDespesa\": {\"type\": \"integer\", \"format\": \"int32\", \"description\": \"C\\u00f3digo utilizado para vincular o lan\\u00e7amento de cr\\u00e9dito do extrato, a uma categoria da despesa a qual est\\u00e1 destinado o repasse de verba p\\u00fablica\\n\\nExemplos:\\n1 - Aquisi\\u00e7\\u00e3o\\n2 - Manuten\\u00e7\\u00e3o\\n3 - Reforma\", \"example\": 1}, \"codigoListagemCliente\": {\"type\": \"string\", \"minLength\": 1, \"description\": \"C\\u00f3digo da listagem do cliente informado no cadastro\", \"example\": \"RE202100148\"}}, \"required\": [\"agencia\", \"contaCorrente\", \"codigoContrato\", \"codigoUnidadeGestora\", \"codigoCategoriaDespesa\", \"codigoListagemCliente\"]}}}, \"description\": \"\"}}}, \"/accountability/v3/orgaos-repasse/{agencia}-{contaCorrente}/lancamentos-credito\": {\"parameters\": [{\"schema\": {\"type\": \"string\"}, \"name\": \"agencia\", \"in\": \"path\", \"required\": true, \"description\": \"C\\u00f3digo num\\u00e9rico da ag\\u00eancia em que a conta corrente est\\u00e1 vinculada para recebimento de repasse da verba p\\u00fablica.\"}, {\"schema\": {\"type\": \"string\"}, \"name\": \"contaCorrente\", \"in\": \"path\", \"required\": true, \"description\": \"Num\\u00e9rico da conta corrente vinculada a programa de governo para recebimento de repasse da verba p\\u00fablica.\"}], \"post\": {\"summary\": \"Incluir Identifica\\u00e7\\u00e3o de Lan\\u00e7amento de Cr\\u00e9dito por \\u00d3rg\\u00e3o de Repasse\", \"operationId\": \"post-accountability-v3-orgaos-repasse-agencia---contaCorrente-lancamentos-credito\", \"responses\": {\"200\": {\"description\": \"SUCESSO. A requisi\\u00e7\\u00e3o foi atendida pelo servidor.\", \"content\": {\"application/json\": {\"schema\": {\"$ref\": \"#/components/schemas/RespostaIncluirIdentificacaoLancamentos\"}}}}, \"400\": {\"description\": \"REQUISI\\u00c7\\u00c3O INV\\u00c1LIDA. O servidor n\\u00e3o p\\u00f4de processar a requisi\\u00e7\\u00e3o devido a uma sintaxe de requisi\\u00e7\\u00e3o malformada, estrutura da mensagem da requisi\\u00e7\\u00e3o inv\\u00e1lida ou valores inv\\u00e1lidos.\", \"content\": {\"application/json\": {\"schema\": {\"$ref\": \"#/components/schemas/Error\"}}}}, \"401\": {\"description\": \"N\\u00c3O AUTORIZADO. A requisi\\u00e7\\u00e3o requer autentica\\u00e7\\u00e3o do usu\\u00e1rio.\", \"content\": {\"application/json\": {\"schema\": {\"$ref\": \"#/components/schemas/ErrorOAuthUnauthorized\"}}}}, \"403\": {\"description\": \"NEGADO. O servidor entendeu a requisi\\u00e7\\u00e3o, por\\u00e9m n\\u00e3o a autorizou.\", \"content\": {\"application/json\": {\"schema\": {\"$ref\": \"#/components/schemas/Error\"}}}}, \"404\": {\"description\": \"N\\u00c3O ENCONTRADO. O servidor n\\u00e3o conseguiu encontrar o recurso solicitado.\"}, \"500\": {\"description\": \"ERRO INTERNO. O servidor encontrou uma condi\\u00e7\\u00e3o inesperada que o impediu de atender a requisi\\u00e7\\u00e3o.\"}, \"502\": {\"description\": \"GATEWAY INV\\u00c1LIDO. O servidor, atuando como um gateway ou proxy, recebeu uma resposta inv\\u00e1lida de um servidor interno que acessou ao tentar atender \\u00e0 solicita\\u00e7\\u00e3o.\", \"content\": {\"application/json\": {\"schema\": {\"$ref\": \"#/components/schemas/Error\"}}}}, \"503\": {\"description\": \"SERVI\\u00c7O INDISPON\\u00cdVEL. Atualmente, o servidor n\\u00e3o pode lidar com a solicita\\u00e7\\u00e3o devido a uma sobrecarga ou manuten\\u00e7\\u00e3o tempor\\u00e1ria do servidor.\", \"content\": {\"application/json\": {\"schema\": {\"$ref\": \"#/components/schemas/Error\"}}}}}, \"tags\": [\"accountability\"], \"requestBody\": {\"content\": {\"application/json\": {\"schema\": {\"type\": \"object\", \"properties\": {\"numeroBancario\": {\"type\": \"integer\", \"description\": \"N\\u00famero banc\\u00e1rio no SIAFI (Sistema Integrado de Administra\\u00e7\\u00e3o Financeira) vinculado a um lan\\u00e7amento de cr\\u00e9dito de repasse de verba p\\u00fablica.\", \"example\": 103491100, \"format\": \"int64\"}, \"numeroSequencialOrdemBancaria\": {\"type\": \"integer\", \"description\": \"N\\u00famero sequencial da ordem banc\\u00e1ria que identifica um pagamento.\", \"example\": 132, \"format\": \"int32\"}, \"dataLancamento\": {\"type\": \"string\", \"description\": \"Data do lan\\u00e7amento de cr\\u00e9dito processado no sistema OBT, no padr\\u00e3o AAAA-MM-DD\", \"example\": \"2022-01-06\"}, \"numeroCompanhia\": {\"type\": \"integer\", \"description\": \"N\\u00famero enviado pelo \\u00f3rg\\u00e3o de repasse que indica o destino da despesa, por exemplo um hospital, escola, companhia, estabelecimento, CNES...\", \"example\": 6391281, \"format\": \"int64\"}, \"valorFracionado\": {\"type\": \"number\", \"description\": \"Valor monet\\u00e1rio enviado pelo \\u00f3rg\\u00e3o de repasse, que estabelece uma fra\\u00e7\\u00e3o do valor do lan\\u00e7amento de cr\\u00e9dito a ser gasto na despesa identificada.\", \"example\": 1000000000000000, \"format\": \"double\"}, \"tipoIdentificacao\": {\"type\": \"integer\", \"description\": \"N\\u00famero enviado pelo \\u00f3rg\\u00e3o de repasse que classifica o tipo de despesa para o qual o lan\\u00e7amento de cr\\u00e9dito foi destinado.\", \"example\": 2, \"format\": \"int32\"}, \"codigoIdentificacao\": {\"type\": \"string\", \"description\": \"C\\u00f3digo enviado pelo \\u00f3rg\\u00e3o de repasse que classifica a despesa para o qual o lan\\u00e7amento de cr\\u00e9dito foi destinado.\", \"example\": \"36000400582202100\"}}, \"required\": [\"numeroBancario\", \"numeroSequencialOrdemBancaria\", \"dataLancamento\", \"tipoIdentificacao\", \"codigoIdentificacao\"]}, \"examples\": {\"example-1\": {\"value\": {\"numeroBancario\": 103491100, \"numeroSequencialOrdemBancaria\": 132, \"dataLancamento\": \"2022-01-06\", \"numeroCompanhia\": 6391281, \"valorFracionado\": 1000000000000000, \"tipoIdentificacao\": 2, \"codigoIdentificacao\": \"36000400582202100\"}}}}}}, \"description\": \"Incluir identifica\\u00e7\\u00e3o de lan\\u00e7amento de cr\\u00e9dito por \\u00d3rg\\u00e3o de Repasse\", \"security\": [{\"OAuth2-ClientCredentials\": [\"accountability.request\"]}], \"parameters\": [{\"schema\": {\"type\": \"string\"}, \"in\": \"header\", \"name\": \"Authorization\", \"description\": \"\\u00c9 o valor do token de acesso fornecido pelo OAuth.Exemplo: Bearer <acess_token>\", \"required\": true}, {\"schema\": {\"type\": \"string\"}, \"in\": \"query\", \"name\": \"gw-dev-app-key\", \"description\": \"Chave de acesso do aplicativo do desenvolvedor. Esta chave \\u00e9 \\u00fanica e obtida no Portal \\u201cBB for Developers\\u201d e usada para identificar as requisi\\u00e7\\u00f5es da aplica\\u00e7\\u00e3o do desenvolvedor.\", \"required\": true}]}}, \"/accountability/v3/orgaos-repasse/{agencia}-{contaCorrente}/lancamentos-credito/{sequencialLancamento}-{sequencialIdentificacao}\": {\"parameters\": [{\"schema\": {\"type\": \"string\"}, \"name\": \"agencia\", \"in\": \"path\", \"required\": true, \"description\": \"C\\u00f3digo num\\u00e9rico da ag\\u00eancia em que a conta corrente est\\u00e1 vinculada para recebimento de repasse da verba p\\u00fablica.\"}, {\"schema\": {\"type\": \"string\"}, \"name\": \"contaCorrente\", \"in\": \"path\", \"required\": true, \"description\": \"Num\\u00e9rico da conta corrente vinculada a programa de governo para recebimento de repasse da verba p\\u00fablica.\"}, {\"schema\": {\"type\": \"string\"}, \"name\": \"sequencialLancamento\", \"in\": \"path\", \"required\": true, \"description\": \"N\\u00famero gerado pelo sistema GFA - Gest\\u00e3o \\u00c1gil, que retorna o lan\\u00e7amento processado.\"}, {\"schema\": {\"type\": \"string\"}, \"name\": \"sequencialIdentificacao\", \"in\": \"path\", \"required\": true, \"description\": \"N\\u00famero gerado pelo sistema GFA - Gest\\u00e3o \\u00c1gil, que retorna a identifica\\u00e7\\u00e3o do lan\\u00e7amento processado.\"}], \"delete\": {\"summary\": \"Excluir Identifica\\u00e7\\u00e3o de Lan\\u00e7amento de Cr\\u00e9dito por \\u00d3rg\\u00e3o de Repasse\", \"operationId\": \"delete-accountability-v3-orgaos-repasse-agencia---contaCorrente-lancamentos-credito-sequencialLancamento---sequencialIdentificacao\", \"responses\": {\"200\": {\"description\": \"SUCESSO. A requisi\\u00e7\\u00e3o foi atendida pelo servidor.\", \"content\": {\"application/json\": {\"schema\": {\"$ref\": \"#/components/schemas/RespostaExcluirIdentificacaoLancamentos\"}}}}, \"400\": {\"description\": \"REQUISI\\u00c7\\u00c3O INV\\u00c1LIDA. O servidor n\\u00e3o p\\u00f4de processar a requisi\\u00e7\\u00e3o devido a uma sintaxe de requisi\\u00e7\\u00e3o malformada, estrutura da mensagem da requisi\\u00e7\\u00e3o inv\\u00e1lida ou valores inv\\u00e1lidos.\", \"content\": {\"application/json\": {\"schema\": {\"$ref\": \"#/components/schemas/Error\"}}}}, \"401\": {\"description\": \"N\\u00c3O AUTORIZADO. A requisi\\u00e7\\u00e3o requer autentica\\u00e7\\u00e3o do usu\\u00e1rio.\", \"content\": {\"application/json\": {\"schema\": {\"$ref\": \"#/components/schemas/ErrorOAuthUnauthorized\"}}}}, \"403\": {\"description\": \"NEGADO. O servidor entendeu a requisi\\u00e7\\u00e3o, por\\u00e9m n\\u00e3o a autorizou.\", \"content\": {\"application/json\": {\"schema\": {\"$ref\": \"#/components/schemas/Error\"}}}}, \"404\": {\"description\": \"N\\u00c3O ENCONTRADO. O servidor n\\u00e3o conseguiu encontrar o recurso solicitado.\"}, \"500\": {\"description\": \"ERRO INTERNO. O servidor encontrou uma condi\\u00e7\\u00e3o inesperada que o impediu de atender a requisi\\u00e7\\u00e3o.\"}, \"502\": {\"description\": \"GATEWAY INV\\u00c1LIDO. O servidor, atuando como um gateway ou proxy, recebeu uma resposta inv\\u00e1lida de um servidor interno que acessou ao tentar atender \\u00e0 solicita\\u00e7\\u00e3o.\", \"content\": {\"application/json\": {\"schema\": {\"$ref\": \"#/components/schemas/Error\"}}}}, \"503\": {\"description\": \"SERVI\\u00c7O INDISPON\\u00cdVEL. Atualmente, o servidor n\\u00e3o pode lidar com a solicita\\u00e7\\u00e3o devido a uma sobrecarga ou manuten\\u00e7\\u00e3o tempor\\u00e1ria do servidor.\", \"content\": {\"application/json\": {\"schema\": {\"$ref\": \"#/components/schemas/Error\"}}}}}, \"tags\": [\"accountability\"], \"description\": \"Excluir identifica\\u00e7\\u00e3o de lan\\u00e7amento de cr\\u00e9dito por \\u00d3rg\\u00e3o de Repasse  \", \"security\": [{\"OAuth2-ClientCredentials\": [\"accountability.request\"]}], \"parameters\": [{\"schema\": {\"type\": \"string\"}, \"in\": \"header\", \"name\": \"Authorization\", \"description\": \"\\u00c9 o valor do token de acesso fornecido pelo OAuth.Exemplo: Bearer <acess_token>\", \"required\": true}, {\"schema\": {\"type\": \"string\"}, \"in\": \"query\", \"name\": \"gw-dev-app-key\", \"description\": \"Chave de acesso do aplicativo do desenvolvedor. Esta chave \\u00e9 \\u00fanica e obtida no Portal \\u201cBB for Developers\\u201d e usada para identificar as requisi\\u00e7\\u00f5es da aplica\\u00e7\\u00e3o do desenvolvedor.\", \"required\": true}]}}, \"/orgaos-repasse/{agencia}-{contaCorrente}/lancamentos-debito\": {\"parameters\": [{\"schema\": {\"type\": \"string\"}, \"name\": \"agencia\", \"in\": \"path\", \"required\": true, \"description\": \"C\\u00f3digo num\\u00e9rico da ag\\u00eancia em que a conta corrente est\\u00e1 vinculada para recebimento de repasse da verba p\\u00fablica.\"}, {\"schema\": {\"type\": \"string\"}, \"name\": \"contaCorrente\", \"in\": \"path\", \"required\": true, \"description\": \"Num\\u00e9rico da conta corrente vinculada a programa de governo para recebimento de repasse da verba p\\u00fablica.\"}], \"get\": {\"summary\": \"Consultar Identifica\\u00e7\\u00e3o de Lan\\u00e7amento de D\\u00e9bito por \\u00d3rg\\u00e3o de Repasse\", \"operationId\": \"get-accountability-v3-orgaos-repasse-agencia---contaCorrente-lancamentos-debito\", \"responses\": {\"200\": {\"description\": \"SUCESSO. A requisi\\u00e7\\u00e3o foi atendida pelo servidor.\", \"content\": {\"application/json\": {\"schema\": {\"$ref\": \"#/components/schemas/RespostaConsultarIdentificacaoLancamentos\"}}}}, \"400\": {\"description\": \"REQUISI\\u00c7\\u00c3O INV\\u00c1LIDA. O servidor n\\u00e3o p\\u00f4de processar a requisi\\u00e7\\u00e3o devido a uma sintaxe de requisi\\u00e7\\u00e3o malformada, estrutura da mensagem da requisi\\u00e7\\u00e3o inv\\u00e1lida ou valores inv\\u00e1lidos.\", \"content\": {\"application/json\": {\"schema\": {\"$ref\": \"#/components/schemas/Error\"}}}}, \"401\": {\"description\": \"N\\u00c3O AUTORIZADO. A requisi\\u00e7\\u00e3o requer autentica\\u00e7\\u00e3o do usu\\u00e1rio.\", \"content\": {\"application/json\": {\"schema\": {\"$ref\": \"#/components/schemas/ErrorOAuthUnauthorized\"}}}}, \"403\": {\"description\": \"NEGADO. O servidor entendeu a requisi\\u00e7\\u00e3o, por\\u00e9m n\\u00e3o a autorizou.\", \"content\": {\"application/json\": {\"schema\": {\"$ref\": \"#/components/schemas/Error\"}}}}, \"404\": {\"description\": \"N\\u00c3O ENCONTRADO. O servidor n\\u00e3o conseguiu encontrar o recurso solicitado.\"}, \"500\": {\"description\": \"ERRO INTERNO. O servidor encontrou uma condi\\u00e7\\u00e3o inesperada que o impediu de atender a requisi\\u00e7\\u00e3o.\"}, \"502\": {\"description\": \"GATEWAY INV\\u00c1LIDO. O servidor, atuando como um gateway ou proxy, recebeu uma resposta inv\\u00e1lida de um servidor interno que acessou ao tentar atender \\u00e0 solicita\\u00e7\\u00e3o.\", \"content\": {\"application/json\": {\"schema\": {\"$ref\": \"#/components/schemas/Error\"}}}}, \"503\": {\"description\": \"SERVI\\u00c7O INDISPON\\u00cdVEL. Atualmente, o servidor n\\u00e3o pode lidar com a solicita\\u00e7\\u00e3o devido a uma sobrecarga ou manuten\\u00e7\\u00e3o tempor\\u00e1ria do servidor.\", \"content\": {\"application/json\": {\"schema\": {\"$ref\": \"#/components/schemas/Error\"}}}}}, \"description\": \"Consultar identifica\\u00e7\\u00e3o de lan\\u00e7amento de d\\u00e9bito por \\u00d3rg\\u00e3o de Repasse\", \"security\": [{\"OAuth2-ClientCredentials\": [\"accountability.statements\"]}], \"parameters\": [{\"schema\": {\"type\": \"string\"}, \"in\": \"header\", \"name\": \"Authorization\", \"description\": \"\\u00c9 o valor do token de acesso fornecido pelo OAuth.Exemplo: Bearer <acess_token>\", \"required\": true}, {\"schema\": {\"type\": \"string\"}, \"in\": \"query\", \"name\": \"numeroPagina\", \"description\": \"N\\u00famero da p\\u00e1gina a ser consultada, inicia na p\\u00e1gina 1, retorna de 100 em 100 registros.\"}, {\"schema\": {\"type\": \"string\"}, \"in\": \"query\", \"name\": \"gw-dev-app-key\", \"description\": \"Chave de acesso do aplicativo do desenvolvedor. Esta chave \\u00e9 \\u00fanica e obtida no Portal \\u201cBB for Developers\\u201d e usada para identificar as requisi\\u00e7\\u00f5es da aplica\\u00e7\\u00e3o do desenvolvedor.\", \"required\": true}], \"tags\": [\"accountability\"]}}}, \"components\": {\"schemas\": {\"Error\": {\"type\": \"object\", \"description\": \"en-US: Representation of an error object.\\n\\npt-BR: Representa\\u00e7\\u00e3o de um objeto de erro.\", \"properties\": {\"errors\": {\"type\": \"array\", \"description\": \"en-US: Specifies a possible error. \\n\\npt-BR: Especifica um poss\\u00edvel erro.\", \"items\": {\"required\": [\"code\", \"message\"], \"type\": \"object\", \"properties\": {\"code\": {\"type\": \"string\", \"description\": \"en-US: Specifies a possible error. \\n\\npt-BR: Especifica um poss\\u00edvel erro.\"}, \"message\": {\"type\": \"string\", \"description\": \"en-US: Specifies the message of an error. \\n\\npt-BR: Especifica a mensagem de um erro.\"}}}}}, \"required\": [\"errors\"]}, \"Erro-v4\": {\"type\": \"object\", \"description\": \"Representa os campos de erro de uma requisi\\u00e7\\u00e3o a um recurso.\", \"properties\": {\"erros\": {\"type\": \"array\", \"description\": \"Lista que cont\\u00e9m os objetos de erro.\", \"items\": {\"type\": \"object\", \"description\": \"Objeto de erro.\", \"properties\": {\"codigo\": {\"type\": \"string\", \"description\": \"C\\u00f3digo da mensagem de erro.\", \"example\": \"9999999\"}, \"versao\": {\"type\": \"string\", \"description\": \"Vers\\u00e3o da mensagem de erro.\", \"example\": \"1\"}, \"mensagem\": {\"type\": \"string\", \"description\": \"Mensagem de erro.\", \"example\": \"Erros do tipo 4XX s\\u00e3o erros de chamada de responsabilidade de quem est\\u00e1 acionando este recurso. Erros do tipo 5XX s\\u00e3o erros internos no BB.\"}, \"ocorrencia\": {\"type\": \"string\", \"description\": \"C\\u00f3digo da ocorr\\u00eancia do erro. N\\u00e3o se trata de c\\u00f3digo HTTP.\", \"example\": \"2AzBShK/zFE=C0700051620C\"}}}}}}, \"ErrorOAuthUnauthorized\": {\"type\": \"object\", \"description\": \"en-US: Representation of an OAuth 2.0 Error Object. \\n\\npt-BR: Representa\\u00e7\\u00e3o de um objeto de erro do OAuth 2.0.\", \"properties\": {\"statusCode\": {\"type\": \"number\", \"description\": \"en-US: Status code of the error.\\n\\npt-BR: C\\u00f3digo do estado do erro.\"}, \"error\": {\"type\": \"string\", \"description\": \"en-US: Type of the error.\\n\\npt-BR: Tipo do erro.\"}, \"message\": {\"type\": \"string\", \"description\": \"en-US: Message of the error. \\n\\npt-BR: Mensagem do erro.\"}, \"attributes\": {\"type\": \"object\", \"description\": \"en-US: Attributes of the error. \\n\\npt-BR: Atributos do erro.\", \"properties\": {\"error\": {\"type\": \"string\", \"description\": \"en-US: Message of the error. \\n\\npt-BR: Mensagem do erro.\"}}}}}, \"RespostaListaAgencias\": {\"description\": \"Campos da lista de ag\\u00eancias pr\\u00f3ximas ao cliente.\", \"type\": \"object\", \"properties\": {\"listaAgencia\": {\"type\": \"array\", \"minItems\": 0, \"maxItems\": 50, \"items\": {\"type\": \"object\", \"properties\": {\"codigo\": {\"type\": \"number\", \"example\": 2727, \"description\": \"C\\u00f3digo de ag\\u00eancia do Banco do Brasil em que o cliente j\\u00e1 tenha relacionamento e/ou localizadas pr\\u00f3ximas ao CEP informado.\"}, \"digito\": {\"type\": \"string\", \"maxLength\": 2, \"example\": \"0\", \"description\": \"C\\u00f3digo do d\\u00edgito verificador da ag\\u00eancia do Banco do Brasil em que o cliente j\\u00e1 tenha relacionamento e/ou localizadas pr\\u00f3ximas ao CEP informado.\"}, \"nome\": {\"type\": \"string\", \"example\": \"ASA NORTE 316\", \"maxLength\": 20, \"description\": \"Nome da ag\\u00eancia do Banco do Brasil em que o cliente j\\u00e1 tenha relacionamento e/ou localizadas pr\\u00f3ximas ao CEP informado.\"}, \"cep\": {\"type\": \"string\", \"maxLength\": 9, \"example\": \"70775530\", \"description\": \"C\\u00f3digo postal (CEP) da ag\\u00eancia  do Banco do Brasil em que o cliente j\\u00e1 tenha relacionamento e/ou localizadas pr\\u00f3ximas ao CEP informado.\"}, \"logradouro\": {\"type\": \"string\", \"maxLength\": 60, \"example\": \"CLN 316 BLOCO C LOJA 80\", \"description\": \"Detalhamento da localiza\\u00e7\\u00e3o da ag\\u00eancia do Banco do Brasil em que o cliente j\\u00e1 tenha relacionamento e/ou localizadas pr\\u00f3ximas ao CEP informado.\"}, \"bairro\": {\"type\": \"string\", \"maxLength\": 60, \"example\": \"ASA NORTE\", \"description\": \"Nome do bairro onde est\\u00e1 localizada a ag\\u00eancia do Banco do Brasil em que o cliente j\\u00e1 tenha relacionamento e/ou localizadas pr\\u00f3ximas ao CEP informado.\"}, \"municipio\": {\"type\": \"string\", \"maxLength\": 30, \"example\": \"BRASILIA\", \"description\": \"Nome da cidade onde est\\u00e1 localizada a ag\\u00eancia  do Banco do Brasil em que o cliente j\\u00e1 tenha relacionamento e/ou localizadas pr\\u00f3ximas ao CEP informado.\"}, \"siglaUF\": {\"type\": \"string\", \"maxLength\": 2, \"example\": \"DF\", \"description\": \"Sigla do unidade da federa\\u00e7\\u00e3o onde est\\u00e1 localizada a ag\\u00eancia do Banco do Brasil em que o cliente j\\u00e1 tenha relacionamento e/ou localizadas pr\\u00f3ximas ao CEP informado.\"}, \"sugerida\": {\"type\": \"string\", \"example\": \"S\", \"minLength\": 1, \"maxLength\": 1, \"enum\": [\"S\", \"N\"], \"description\": \"Campo que identifica se o cliente j\\u00e1 possue relacionamento com o Banco do Brasil atrav\\u00e9s da ag\\u00eancia.\"}}}}, \"quantidadeAgencia\": {\"type\": \"integer\", \"example\": 1, \"description\": \"Quantidade de ag\\u00eancias do Banco do Brasil em que o cliente j\\u00e1 tenha relacionamento e/ou localizadas pr\\u00f3ximas ao CEP informado.\", \"format\": \"int32\"}}}, \"StatementResponse\": {\"type\": \"object\", \"description\": \"en-US: Representation of the fields of account statement request.\\n\\npt-BR: Representa\\u00e7\\u00e3o dos campos do pedido de extrato de conta.\", \"properties\": {\"governmentProgramCode\": {\"type\": \"number\", \"description\": \"en-US: Government program code.\\n\\npt-BR: C\\u00f3digo do programa de governo.\", \"example\": 99}, \"governmentProgramName\": {\"type\": \"string\", \"description\": \"en-US: Government program name.\\n\\npt-BR: Nome do programa de governo.\", \"example\": \"FNS\"}, \"governmentSubProgramCode\": {\"type\": \"number\", \"description\": \"en-US: Government subprogram code.\\n\\npt-BR: C\\u00f3digo do subprograma de governo.\", \"example\": 0}, \"governmentSubProgramName\": {\"type\": \"string\", \"description\": \"en-US: Government subprogram name.\\n\\npt-BR: Nome do subprograma de governo.\"}, \"transactions\": {\"type\": \"array\", \"description\": \"en-US: Set of transactions.\\n\\npt-BR: Conjunto de lan\\u00e7amentos.\", \"items\": {\"type\": \"object\", \"properties\": {\"id\": {\"type\": \"number\", \"description\": \"en-US: Unique identification of each transaction in the customer account.\\n\\npt-BR: Identifica\\u00e7\\u00e3o \\u00fanica de cada lan\\u00e7amento na conta do cliente.\", \"example\": 169}, \"bookingDate\": {\"type\": \"string\", \"description\": \"en-US: Date of the transaction.\\n\\npt-BR: Data do lan\\u00e7amento.\", \"pattern\": \"dd/MM/yyyy\"}, \"orderIndex\": {\"type\": \"number\", \"description\": \"en-US: Ordered identification of the transaction within the report to a specific time period.\\n\\npt-BR: Identifica\\u00e7\\u00e3o ordenada da transa\\u00e7\\u00e3o dentro do relat\\u00f3rio para um per\\u00edodo de tempo espec\\u00edfico.\", \"example\": 4}, \"valueDate\": {\"type\": \"string\", \"description\": \"en-US: Date at which assets become available to the account owner in case of a credit entry, or cease to be available to the account owner in case of a debit entry. This field represents the balance sheet date.\\n\\npt-BR: Data em que os recursos ficam dispon\\u00edveis para o propriet\\u00e1rio da conta, no caso de uma entrada de cr\\u00e9dito, ou deixam de estar dispon\\u00edveis para o propriet\\u00e1rio da conta, no caso de uma entrada de d\\u00e9bito. Este campo representa a data do balan\\u00e7o.\", \"pattern\": \"dd/MM/yyyy\"}, \"referenceNumber\": {\"type\": \"number\", \"description\": \"en-US: Unique reference of the transaction.\\n\\npt-BR: Refer\\u00eancia \\u00fanica para a transa\\u00e7\\u00e3o.\", \"example\": 30703}, \"value\": {\"type\": \"number\", \"description\": \"en-US: Amount of money.\\n\\npt-BR: Quantia de dinheiro.\", \"example\": 1975233.07}, \"accountBalance\": {\"type\": \"number\", \"minimum\": 0, \"maximum\": 1000000000000000, \"description\": \"en-US: The account balance after accounting of the transaction. WARNING: be notice that this field may not be present in the JSON Object.\\npt-BR: O saldo da conta ap\\u00f3s contabiliza\\u00e7\\u00e3o do lan\\u00e7amento. Aviso: note que este campo pode n\\u00e3o estar presente no Objeto JSON.\", \"example\": 1717212.98}, \"descriptionCode\": {\"type\": \"number\", \"description\": \"en-US: Description code of the transaction.\\n\\npt-BR: C\\u00f3digo de descri\\u00e7\\u00e3o do lan\\u00e7amento.\", \"example\": 362}, \"descriptionName\": {\"type\": \"string\", \"description\": \"en-US: Description of the transaction.\\n\\npt-BR: Descri\\u00e7\\u00e3o do lan\\u00e7amento.\", \"example\": \"Pagamento conta luz\"}, \"descriptionBatchNumber\": {\"type\": \"number\", \"description\": \"en-US: Processing batch of the transaction.\\n\\npt-BR: Lote de processamento do lan\\u00e7amento.\", \"example\": 13105}, \"creditDebitIndicator\": {\"type\": \"string\", \"description\": \"en-US: An indicator of credit transaction or debit one. Letter \\\"C\\\" stands for Credit and letter \\\"D\\\" stands for Debit.\\n\\npt-BR: Um indicador de transa\\u00e7\\u00e3o de cr\\u00e9dito ou de d\\u00e9bito. Letra \\\"C\\\" significa Cr\\u00e9dito, e letra \\\"D\\\" significa D\\u00e9bito.\", \"example\": \"D\"}, \"beneficiaryBankIdentifierCode\": {\"type\": \"number\", \"description\": \"en-US: Financial institution code of the beneficiary.\\n\\npt-BR: C\\u00f3digo da institui\\u00e7\\u00e3o financeira do benefici\\u00e1rio.\", \"example\": 1}, \"beneficiaryBranchCode\": {\"type\": \"number\", \"description\": \"en-US: Branch code of the beneficiary.\\n\\npt-BR: C\\u00f3digo da ag\\u00eancia do benefici\\u00e1rio.\", \"example\": 7984}, \"beneficiaryAccountNumber\": {\"type\": \"number\", \"description\": \"en-US: Account number of beneficiary.\\n\\npt-BR: N\\u00famero de conta do benefici\\u00e1rio.\", \"example\": 4010}, \"beneficiaryPersonType\": {\"type\": \"number\", \"description\": \"en-US: Beneficiary\\u2019s person type represented by: 1 for Natural Person, 2 for Legal Person, and 0 if no beneficiary exists.\\n\\npt-BR: Tipo de pessoa do benefici\\u00e1rio, representado por: 1 para Pessoa F\\u00edsica, 2 para Pessoa Jur\\u00eddica e 0 se n\\u00e3o houver benefici\\u00e1rio.\", \"example\": 1}, \"beneficiaryDocumentId\": {\"type\": \"number\", \"description\": \"en-US: Identification document of beneficiary.\\n\\npt-BR: Documento de identifica\\u00e7\\u00e3o do benefici\\u00e1rio.\", \"example\": 32702964877}, \"beneficiaryName\": {\"type\": \"string\", \"description\": \"en-US: Beneficiary\\u2019s name.\\n\\npt-BR: Nome do benefici\\u00e1rio.\", \"example\": \"BRUNO P SIQUEIRA\"}, \"pendingExpenseConciliation\": {\"type\": \"boolean\", \"description\": \"en-US: Indicator of pending expense conciliation.\\n\\npt-BR: Indicador de concilia\\u00e7\\u00e3o de despesas pendente.\", \"example\": false}, \"attachedExpenseDocumentIndicator\": {\"type\": \"boolean\", \"description\": \"en-US: Indicator of any document attached to an expense transaction.\\n\\npt-BR: Indicador de qualquer documento anexado a uma transa\\u00e7\\u00e3o de despesa.\", \"example\": false}, \"expenseCategoryCode\": {\"type\": \"number\", \"description\": \"en-US: Expense category code assigned to the transaction.\\n\\npt-BR: C\\u00f3digo de categoria de despesas atribu\\u00eddo a transa\\u00e7\\u00e3o.\", \"example\": 11}, \"expenseIdentificationStatus\": {\"type\": \"number\", \"description\": \"en-US: Status of expense identification represented by: 1 for Pending Invoice, 2 for Pending Categorization, 3 for Pending Invoice and Categorization, 4 for Transaction Needs no Expense Identification and 5 for Transaction with no Pending Items.\\n\\npt-BR: Estado da identifica\\u00e7\\u00e3o de despesas, representado por: 1 para Fatura Pendente, 2 para Categoriza\\u00e7\\u00e3o Pendente, 3 paraFatura Pendente e Categoriza\\u00e7\\u00e3o, 4 para Transa\\u00e7\\u00e3o n\\u00e3o Precisa de Identifica\\u00e7\\u00e3o de Despesas, e 5 para Transa\\u00e7\\u00e3o sem Itens Pendentes.\", \"example\": 0}, \"subTransactionQuantity\": {\"type\": \"number\", \"description\": \"pt-BR: Quantidade de cr\\u00e9ditos efetuados \\u00e0 partir do lan\\u00e7amento de d\\u00e9bito principal.\", \"example\": 0}, \"bankOrderRuleCode\": {\"type\": \"number\", \"example\": 1, \"description\": \"en-US: Unique code that identifies a Payment Transfer Program, source of funds for payment of Bank Orders. Examples:\\n- FUNDEB (Basic Education Maintenance and Development Fund),\\n- FIES (Higher Education Student Financing Fund) en-BR: Unique code that identifies a Payment Transfer Program, source of funds for payment of Bank Orders.\\n\\n\\n\\npt-BR: C\\u00f3digo \\u00fanico que identifica um Programa de Repasse de Pagamento, origem de recursos para pagamento de Ordens Banc\\u00e1rias.\\nexemplo:\\n- FUNDEB (Fundo de Manuten\\u00e7\\u00e3o e Desenvolvimento da Educa\\u00e7\\u00e3o B\\u00e1sica),\\n- FIES (Fundo de Financiamento ao Estudante do Ensino Superior)pt-BR: C\\u00f3digo \\u00fanico que identifica um Programa de Repasse de Pagamento, origem de recursos para pagamento de Ordens Banc\\u00e1rias.\\nexemplo:\"}, \"bankOrderPurposeCode\": {\"type\": \"number\", \"example\": 10, \"description\": \"en-US: ID that identifies the purpose of transferring account value from a government entity to a government entity.\\npt-BR: C\\u00f3digo que explicita a finalidade da transferencia de valor de conta entre ente governamental para ente governamental.\\n\"}, \"bankOrderPurposeDescription\": {\"type\": \"string\", \"example\": \"Remunera\\u00e7\\u00e3o de profissionais do magist\\u00e9rio da educa\\u00e7\\u00e3o b\\u00e1sica\", \"description\": \"en-US: Bank Order purpose description.\\npt-BR: Texto da finalidade do pagamento.\"}, \"expenseSequentialNumber\": {\"type\": \"number\", \"description\": \"en-US: Number expense document.\\n\\npt-BR: N\\u00famero do documento de despesa.\"}, \"expensesCategory\": {\"type\": \"array\", \"description\": \"en-US: Set of expense category concerning to the transaction.\\n\\npt-BR: Conjunto de categoria de despesas referente \\u00e0 transa\\u00e7\\u00e3o.\", \"items\": {\"type\": \"object\", \"properties\": {\"code\": {\"type\": \"number\", \"description\": \"en-US: Expense category code.\\n\\npt-BR: C\\u00f3digo de categoria da despesa.\", \"example\": 11}, \"parentCode\": {\"type\": \"number\", \"description\": \"en-US: Parent category code linked to current category code.\\n\\npt-BR: C\\u00f3digo de categoria pai vinculado ao c\\u00f3digo de categoria atual.\", \"example\": 1}}}}, \"expensesDocuments\": {\"type\": \"array\", \"description\": \"en-US: Expense Documents identification.\\n\\npt-BR: Identifica\\u00e7\\u00e3o de documentos de despesas.\", \"items\": {\"type\": \"number\"}}}}}}}, \"Subtransactions\": {\"type\": \"object\", \"properties\": {\"governmentProgramCode\": {\"type\": \"number\", \"description\": \"Identification of government program code. \\n\\nC\\u00f3digo do programa governamental.\", \"example\": 1}, \"governmentProgramName\": {\"type\": \"string\", \"description\": \"Identification of government program name. \\n\\nNome do programa do governo.\", \"example\": \"PDDE - TESTE\"}, \"governmentSubProgramCode\": {\"type\": \"number\", \"description\": \"Identification of government sub-program code. \\n\\nC\\u00f3digo do subprograma do governo.\", \"example\": 11}, \"governmentSubProgramName\": {\"type\": \"string\", \"description\": \"en-US: Government subprogram name.\\n\\npt-BR: Nome do subprograma de governo.\"}, \"subtransactions\": {\"type\": \"array\", \"items\": {\"type\": \"object\", \"properties\": {\"id\": {\"type\": \"number\", \"description\": \"Unique identifier that defines the credit made from a particular debit posting.;\\n\\nIdentificador que define o cr\\u00e9dito feito a partir de um lan\\u00e7amento de d\\u00e9bito espec\\u00edfico;\"}, \"codeSubtransactionState\": {\"type\": \"number\", \"description\": \"The state of the main expense;\\n\\nO estado da despesa principal.\"}, \"paymentState\": {\"type\": \"number\", \"description\": \"The credit state (subtransaction);\\n\\nO estado de cr\\u00e9dito (subtransa\\u00e7\\u00e3o)\"}, \"paymentDate\": {\"type\": \"string\", \"description\": \"Date when resources became available to the account holder credited. Format dd.mm.yyyy; \\n\\nData em que os recursos se tornaram dispon\\u00edveis para o titular da conta creditado. Formato dd.mm.aaaa.\", \"example\": \"21.03.2019\"}, \"value\": {\"type\": \"number\", \"description\": \"Amount of money;\\n\\nQuantia de dinheiro\", \"example\": 1975233.07}, \"beneficiaryBankIdentifierCode\": {\"type\": \"number\", \"description\": \"Identifies a specific financial institution from beneficiary;\\n\\nInstitui\\u00e7\\u00e3o financeira espec\\u00edfica do benefici\\u00e1rio.\", \"example\": 1}, \"beneficiaryBranchCode\": {\"type\": \"number\", \"description\": \"Identifies a specific branch code from beneficiary;\\n\\nN\\u00famero da ag\\u00eancia do benefici\\u00e1rio.\", \"example\": 4887}, \"beneficiaryAccountNumber\": {\"type\": \"number\", \"description\": \"Identifies a specific account number from beneficiary;\\n\\nN\\u00famero da conta do benefici\\u00e1rio.\", \"example\": 12345}, \"beneficiaryPersonType\": {\"type\": \"string\", \"description\": \"Beneficiary's person type. Values: Natural / Legal / None;\\n\\nTipo de benefici\\u00e1rio. Valores: F\\u00edsica / Jur\\u00eddica / Nenhuma.\", \"example\": \"Natural\"}, \"beneficiaryDocumentId\": {\"type\": \"number\", \"description\": \"Beneficiary's document id number;\\n\\nN\\u00famero de documento do benefici\\u00e1rio.\", \"example\": 32702964877}, \"beneficiaryName\": {\"type\": \"string\", \"description\": \"Beneficiary's full name;\\n\\nNome completo do benefici\\u00e1rio.\"}, \"attachedExpenseDocumentIndicator\": {\"type\": \"boolean\", \"description\": \"Indicates if there are any document attached to an expense transaction;\\n\\nIndica se h\\u00e1 algum documento anexado a uma transa\\u00e7\\u00e3o de despesa.\", \"example\": false}, \"expenseCategoryCode\": {\"type\": \"number\", \"description\": \"Category code assign to a transaction;\\n\\nC\\u00f3digo de categoria atribu\\u00eddo a uma transa\\u00e7\\u00e3o.\", \"example\": 11}, \"subtransactionAccountabilityIndicator\": {\"type\": \"string\", \"description\": \"Indicator of the state of subtransaction accountability. Values: (True, False);\\n\\nIdentifica se a sub transa\\u00e7\\u00e3o \\u00e9 pass\\u00edvel de presta\\u00e7\\u00e3o de contas. Valores: (Verdadeiro, Falso).\", \"example\": \"false\"}, \"subtransactionAccountabilityName\": {\"type\": \"string\", \"description\": \"Description text for codeSubtransactionState;\\n\\nTexto de descri\\u00e7\\u00e3o para codeSubtransactionState.\"}, \"bankOrderPurposeCode\": {\"type\": \"number\", \"example\": 10, \"description\": \"en-US: ID that identifies the purpose of transferring account value from a government entity to a government entity.\\npt-BR: C\\u00f3digo que explicita a finalidade da transferencia de valor de conta entre ente governamental para ente governamental.\"}, \"bankOrderRuleCode\": {\"type\": \"number\", \"example\": 1, \"description\": \"en-US: ID of a Payment Transfer Program, source of funds for payment of Bank Orders.\\nexample:\\n- FUNDEB (Fundo de Manuten\\u00e7\\u00e3o e Desenvolvimento da Educa\\u00e7\\u00e3o B\\u00e1sica),\\n- FIES (Fundo de Financiamento ao Estudante do Ensino Superior)\\n\\npt-BR: C\\u00f3digo \\u00fanico que identifica um Programa de Repasse de Pagamento, origem de recursos para pagamento de Ordens Banc\\u00e1rias.\\nexemplo:\\n- FUNDEB (Fundo de Manuten\\u00e7\\u00e3o e Desenvolvimento da Educa\\u00e7\\u00e3o B\\u00e1sica),\\n- FIES (Fundo de Financiamento ao Estudante do Ensino Superior)\"}, \"bankOrderPurposeDescription\": {\"type\": \"string\", \"example\": \"Remunera\\u00e7\\u00e3o de profissionais do magist\\u00e9rio da educa\\u00e7\\u00e3o b\\u00e1sica\", \"description\": \"en-US:Purpose of payment.\\npt-BR: Texto da finalidade do pagamento.\"}, \"expenseSequentialNumber\": {\"type\": \"number\", \"description\": \"en-US: Number expense document.\\n\\npt-BR: N\\u00famero do documento de despesa.\"}, \"expensesCategory\": {\"type\": \"array\", \"items\": {\"type\": \"object\", \"properties\": {\"code\": {\"type\": \"number\", \"description\": \"Category code assign to a transaction entry. \\n\\nC\\u00f3digo de categoria atribu\\u00eddo a uma entrada de transa\\u00e7\\u00e3o.\", \"example\": 1}, \"parentCode\": {\"type\": \"number\", \"description\": \"Parent category code of current category code. \\n\\nC\\u00f3digo de categoria pai do c\\u00f3digo de categoria atual.\", \"example\": 0}, \"name\": {\"type\": \"string\", \"description\": \"Category name assign to a transaction entry. \\n\\nNome da categoria atribu\\u00eddo a uma entrada de transa\\u00e7\\u00e3o.\", \"example\": \"CATEGORIA UM\"}}}}, \"expensesDocuments\": {\"type\": \"array\", \"description\": \"Expense Documents identification;\\n\\nIdentifica\\u00e7\\u00e3o do Documento de Despesa.\", \"items\": {\"type\": \"number\"}}}}}}}, \"Issuer\": {\"type\": \"object\", \"description\": \"Issuer information. \\n\\nInforma\\u00e7\\u00f5es do emissor.\", \"properties\": {\"corporateTaxPayerRegistry\": {\"type\": \"number\", \"description\": \"Corporate taxpayer registry of the expense document issuer. \\n\\nRegistro do contribuinte corporativo do emissor do documento de despesa.\"}, \"individualTaxPayerRegistry\": {\"type\": \"number\", \"description\": \"Individual taxpayer registry of the expense document issuer. \\n\\nCadastro de contribuinte individual do emissor do documento de despesa.\"}, \"stateRegistrationNumber\": {\"type\": \"number\", \"description\": \"State registration number of the expense document issuer. \\n\\nN\\u00famero de registro estadual do emissor do documento de despesa.\"}, \"legalName\": {\"type\": \"string\", \"description\": \"Legal name of the expense document responsable issuer. \\n\\nNome legal do emissor respons\\u00e1vel do documento de despesa.\"}, \"tradeName\": {\"type\": \"string\", \"description\": \"Trade name of the expense document responsable issuer. \\n\\nNome comercial do emissor respons\\u00e1vel do documento de despesa.\"}, \"countryName\": {\"type\": \"string\", \"description\": \"Country name of the expense document responsable issuer. \\n\\nNome do pa\\u00eds do emissor respons\\u00e1vel do documento de despesa.\"}, \"stateAbbreviation\": {\"type\": \"string\", \"description\": \"State abbreviation of the expense document issuer. \\n\\nAbrevia\\u00e7\\u00e3o do estado do emissor do documento de despesa.\"}, \"cityName\": {\"type\": \"string\", \"description\": \"City name of the expense document issuer. \\n\\nNome da cidade do emissor do documento de despesas.\"}, \"districtName\": {\"type\": \"string\", \"description\": \"District name of the expense document issuer. \\n\\nNome do bairro do emissor do documento de despesa.\"}, \"additionalAddressInformation\": {\"type\": \"string\", \"description\": \"Additional address information of the expense document issuer. \\n\\nInforma\\u00e7\\u00f5es adicionais de endere\\u00e7o do emissor do documento de despesas.\"}, \"postalCode\": {\"type\": \"number\", \"description\": \"Postal code of the expense document issuer. \\n\\nC\\u00f3digo postal do emissor do documento de despesa.\"}, \"phoneNumber\": {\"type\": \"number\", \"description\": \"Phone number of the expense document issuer. \\n\\nN\\u00famero de telefone do emissor do documento de despesas.\"}}}, \"Receiver\": {\"type\": \"object\", \"description\": \"Recipient information.\\n\\nInforma\\u00e7\\u00f5es do destinat\\u00e1rio.\", \"properties\": {\"corporateTaxPayerRegistry\": {\"type\": \"number\", \"description\": \"Corporate taxpayer registry of the expense document recipient. \\n\\nRegistro do contribuinte corporativo do destinat\\u00e1rio do documento de despesas.\"}, \"individualTaxPayerRegistry\": {\"type\": \"number\", \"description\": \"Individual taxpayer registry of the expense document recipient. \\n\\nRegistro de contribuinte individual do destinat\\u00e1rio do documento de despesa.\"}, \"stateRegistrationNumber\": {\"type\": \"number\", \"description\": \"State registration number of the expense document recipient. \\n\\nN\\u00famero de registro estadual do destinat\\u00e1rio do documento de despesas.\"}, \"legalName\": {\"type\": \"string\", \"description\": \"Legal name of the expense document responsable recipient. \\n\\nNome legal do destinat\\u00e1rio respons\\u00e1vel do documento de despesas.\"}, \"tradeName\": {\"type\": \"string\", \"description\": \"Trade name of the expense document responsable recipient. \\n\\nNome comercial do destinat\\u00e1rio respons\\u00e1vel do documento de despesas.\"}, \"countryName\": {\"type\": \"string\", \"description\": \"Country name of the expense document responsable recipient. \\n\\nNome do pa\\u00eds do destinat\\u00e1rio respons\\u00e1vel do documento de despesas.\"}, \"stateAbbreviation\": {\"type\": \"string\", \"description\": \"State abbreviation of the expense document recipient. \\n\\nAbrevia\\u00e7\\u00e3o do estado do destinat\\u00e1rio do documento de despesas.\"}, \"cityName\": {\"type\": \"string\", \"description\": \"City name of the expense document recipient. \\n\\nNome da cidade do destinat\\u00e1rio do documento de despesas.\"}, \"districtName\": {\"type\": \"string\", \"description\": \"District name of the expense document recipient. \\n\\nNome do bairro do destinat\\u00e1rio do documento de despesas.\"}, \"additionalAddressInformation\": {\"type\": \"string\", \"description\": \"Additional address information of the expense document recipient. \\n\\nInforma\\u00e7\\u00f5es adicionais de endere\\u00e7o do destinat\\u00e1rio do documento de despesas.\"}, \"postalCode\": {\"type\": \"number\", \"description\": \"Postal code of the expense document recipient. \\n\\nC\\u00f3digo postal do destinat\\u00e1rio do documento de despesas.\"}, \"phoneNumber\": {\"type\": \"number\", \"description\": \"Phone number of the expense document recipient. \\n\\nN\\u00famero de telefone do destinat\\u00e1rio do documento de despesas.\"}, \"presenceTypeCode\": {\"type\": \"number\", \"description\": \"Presence type code of the buyer in the commercial establishment at the time of the operation. \\n\\nC\\u00f3digo de tipo de presen\\u00e7a do comprador no estabelecimento comercial no momento da opera\\u00e7\\u00e3o.\"}, \"typeConsumerCode\": {\"type\": \"number\", \"description\": \"Consumer type code of the expense document recipient. \\n\\nC\\u00f3digo do tipo de consumidor do destinat\\u00e1rio do documento de despesas.\"}}}, \"ExpensesDocuments\": {\"type\": \"object\", \"description\": \"Expense document information. \\n\\nInforma\\u00e7\\u00f5es de documento de despesa.\", \"properties\": {\"accessKey\": {\"type\": \"string\", \"description\": \"Access key of the expense document. code used in the consultation with SERPRO. \\n\\nChave de acesso do documento de despesas. C\\u00f3digo utilizado na consulta com o SERPRO.\"}, \"receiptTypeCode\": {\"type\": \"number\", \"description\": \"Type code of the transaction receipt. \\n\\nDigite o c\\u00f3digo do recibo da transa\\u00e7\\u00e3o.\"}, \"typeCode\": {\"type\": \"number\", \"description\": \"Model code of the expense document. Number informed by a natural person customer. \\n\\nC\\u00f3digo do modelo do documento de despesas. N\\u00famero informado por um cliente pessoa f\\u00edsica.\"}, \"serialCode\": {\"type\": \"number\", \"description\": \"Serial code of the expense document. \\n\\nC\\u00f3digo de s\\u00e9rie do documento de despesas.\"}, \"number\": {\"type\": \"number\", \"description\": \"Numerical code of the expense document. \\n\\nC\\u00f3digo num\\u00e9rico do documento de despesas.\"}, \"issueDate\": {\"type\": \"string\", \"description\": \"Issue date of the expense document. \\n\\nData de emiss\\u00e3o do documento de despesa.\"}, \"movementDate\": {\"type\": \"string\", \"description\": \"Movement date of the expense document. \\n\\nData da circula\\u00e7\\u00e3o do documento de despesas.\"}, \"itemDeliveryDate\": {\"type\": \"string\", \"description\": \"Delivery date of the object item of the expense document. \\n\\nData de remessa do item de objeto do documento de despesas.\"}, \"value\": {\"type\": \"string\", \"description\": \"Total value of the expense document (invoice). \\n\\nValor total do documento de despesas (fatura).\"}, \"operationTypeName\": {\"type\": \"string\", \"description\": \"Type name of the product/service operations. \\n\\nDigite o nome das opera\\u00e7\\u00f5es do produto/servi\\u00e7o.\"}, \"operation\": {\"type\": \"string\", \"description\": \"Defines whether the operation is input or output. \\n\\nDefine se a opera\\u00e7\\u00e3o \\u00e9 entrada ou sa\\u00edda.\"}, \"paymentMethod\": {\"type\": \"string\", \"description\": \"Code of the payment method of the product/service. \\n\\nC\\u00f3digo do m\\u00e9todo de pagamento do produto/servi\\u00e7o.\"}, \"digitalSignatureCode\": {\"type\": \"string\", \"description\": \"Verification code of the invoice. \\n\\nC\\u00f3digo de verifica\\u00e7\\u00e3o da fatura.\"}, \"pronafAbilityRegistration\": {\"type\": \"string\", \"description\": \"DAP ability registration code of the expense document. \\n\\nC\\u00f3digo de registro da capacidade DAP do documento de despesas.\"}, \"timestamp\": {\"type\": \"string\", \"description\": \"Timestamp of the expense document inclusion. \\n\\nHor\\u00e1rio da inclus\\u00e3o do documento de despesas.\"}, \"userId\": {\"type\": \"string\", \"description\": \"User who included the registry. \\n\\nUsu\\u00e1rio que incluiu o registro.\"}, \"discountValue\": {\"type\": \"number\", \"description\": \"Valor do desconto da Nota Fiscal\"}, \"totalDiscountValue\": {\"type\": \"number\", \"description\": \"Valor da Nota Fiscal com desconto\"}, \"realeaseInstrumentCode\": {\"type\": \"string\", \"description\": \"Campo que informa o c\\u00f3digo identificador do instrumento de libera\\u00e7\\u00e3o de recursos.\"}, \"realeaseInstrumentName\": {\"type\": \"string\", \"description\": \"Campo que informa o nome do instrumento de libera\\u00e7\\u00e3o de recursos.\"}, \"realeaseInstrumentDate\": {\"type\": \"string\", \"description\": \"Data de relev\\u00e2ncia do instrumento (data da publica\\u00e7\\u00e3o, data da assinatura).\"}, \"additionalInformation\": {\"type\": \"string\", \"description\": \"Informa\\u00e7\\u00f5es complementares ao instrumento de libera\\u00e7\\u00e3o de recurso.\"}, \"items\": {\"type\": \"array\", \"description\": \"Expense document items. \\n\\nItens de documento de despesas.\", \"items\": {\"$ref\": \"#/components/schemas/Items\"}}}}, \"Items\": {\"type\": \"object\", \"properties\": {\"description\": {\"type\": \"string\", \"description\": \"Description of the expense document item. \\n\\nDescri\\u00e7\\u00e3o do item do documento de despesa.\"}, \"quantity\": {\"type\": \"number\", \"description\": \"Quantity of the expense document item. \\n\\nQuantidade do item do documento de despesa.\"}, \"metric\": {\"type\": \"string\", \"description\": \"Unit of measure of the expense document item. \\n\\nUnidade de medida do item do documento de despesa.\"}, \"unitValue\": {\"type\": \"number\", \"description\": \"Unit value of the expense document item. \\n\\nValor unit\\u00e1rio do item do documento de despesa.\"}, \"totalValue\": {\"type\": \"number\", \"description\": \"Total Value of the expense document item. \\n\\nValor total do item do documento de despesa.\"}, \"mercosurCommonNameId\": {\"type\": \"number\", \"description\": \"Numerical code of Mercosur Common Name. \\n\\nC\\u00f3digo num\\u00e9rico da Nomenclatura Comum do MERCOSUL.\"}, \"itemDiscountValue\": {\"type\": \"number\", \"description\": \"Valor do desconto do item Nota Fiscal\"}}}, \"ExpensesResponse\": {\"type\": \"object\", \"properties\": {\"issuer\": {\"$ref\": \"#/components/schemas/Issuer\"}, \"recipient\": {\"$ref\": \"#/components/schemas/Receiver\"}, \"expenseDocument\": {\"$ref\": \"#/components/schemas/ExpensesDocuments\"}}}, \"RespostaExtratoFundosInvestimento\": {\"type\": \"object\", \"description\": \"Campos do pedido de extrato de Fundos de Investimento\", \"properties\": {\"codigoProgramaGoverno\": {\"type\": \"number\", \"description\": \"C\\u00f3digo do programa de governo.\"}, \"nomeProgramaGoverno\": {\"type\": \"string\", \"description\": \"Nome do programa de governo.\"}, \"codigoSubProgramaGoverno\": {\"type\": \"number\", \"description\": \"C\\u00f3digo do subprograma de governo.\"}, \"nomeSubProgramaGoverno\": {\"type\": \"string\", \"description\": \"Nome do subprograma de governo.\"}, \"extrato\": {\"type\": \"object\", \"description\": \"Dados do Extrato de Fundos de Investimentos.\", \"properties\": {\"numeroAgenciaRecebedora\": {\"type\": \"number\", \"description\": \"N\\u00famero da ag\\u00eancia da conta que recebeu o repasse de recursos financeiros\"}, \"digitoVerificadorContaRecebedora\": {\"type\": \"number\", \"description\": \"D\\u00edgito verificador da ag\\u00eancia da conta que recebeu o repasse de recursos financeiros\"}, \"numeroContaCorrenteRecebedora\": {\"type\": \"number\", \"description\": \"N\\u00famero da conta que recebeu o repasse de recursos financeiros\"}, \"numeroDigitoVerificadorContaCorrenteRecebedora\": {\"type\": \"number\", \"description\": \"D\\u00edgito verificador da conta que recebeu o repasse de recursos financeiros\"}, \"nomeClienteRecebedor\": {\"type\": \"string\", \"description\": \"Nome do Cliente (benefici\\u00e1rio) que recebeu o repasse de recursos financeiros\"}, \"nomeFundoInvestimento\": {\"type\": \"string\", \"description\": \"Nome do Fundo de Investimento\"}, \"CNPJFundoInvestimento\": {\"type\": \"number\", \"description\": \"CNPJ do Fundo de Investimento\"}, \"valorCota\": {\"type\": \"number\", \"description\": \"Valor da Cota do Fundo de Investimento\"}, \"dataAfericaoValorCota\": {\"type\": \"string\", \"description\": \"Data de aferia\\u00e7\\u00e3o do valor da cota\"}, \"ultimaCotacaoCota\": {\"type\": \"number\", \"description\": \"Valor refer\\u00eancia da \\u00faltima cota\\u00e7\\u00e3o da cota\"}, \"dataUltimaCotacaoCota\": {\"type\": \"string\", \"description\": \"Data do valor refer\\u00eancia da \\u00faltima cota\\u00e7\\u00e3o da cota\"}, \"sinalRentabilidadeMes\": {\"type\": \"string\", \"description\": \"Sinal da rentabilidade no m\\u00eas (- se valor negativo e + se valor positivo)\"}, \"valorRentabilidadeMes\": {\"type\": \"number\", \"description\": \"Valor da rentabilidade no m\\u00eas\"}, \"sinalRentabilidadeAno\": {\"type\": \"string\", \"description\": \"Sinal da rentabilidade no ano (- se valor negativo e + se valor positivo)\"}, \"valorRentabilidadeAno\": {\"type\": \"number\", \"description\": \"Valor da rentabilidade no ano\"}, \"sinalRentabilidadeResgateTotal\": {\"type\": \"string\", \"description\": \"Sinal da rentabilidade no Resgate Total do valor do Fundo(- se valor negativo e + se valor positivo)\"}, \"valorRentabilidadeResgateTotal\": {\"type\": \"number\", \"description\": \"Valor da rentabilidade no Resgate Total do valor do Fundo\"}, \"valorDisponivelResgate\": {\"type\": \"number\", \"description\": \"Valor Dispon\\u00edvel para Resgate\"}, \"valorCarenciaResgate\": {\"type\": \"number\", \"description\": \"Valor de Car\\u00eancia para Resgate\"}, \"valorIRPrevisto\": {\"type\": \"number\", \"description\": \"Valor de Imposto de Renda previsto a ser pago\"}, \"percentualIRPrevisto\": {\"type\": \"number\", \"description\": \"Percentual de Imposto de Renda previsto a ser pago\"}, \"valorIRComplementarPrevisto\": {\"type\": \"number\", \"description\": \"Valor do Imposto Renda Complementar a ser pago\"}, \"valorIOFPrevisto\": {\"type\": \"number\", \"description\": \"Valor do IOF a ser pago\"}, \"valorTaxaSaida\": {\"type\": \"number\", \"description\": \"Valor da Taxa de Sa\\u00edda do Fundo para fundos que preveem esta cobran\\u00e7a no momento do resgate\"}, \"valorBonusDesempenho\": {\"type\": \"number\", \"description\": \"Valor do B\\u00f4nus de Desempenho (Taxa de perfomance, em fundos de investimento que a preveem, cobrada sobre o desempenho de rentabilidade acima de um benchmark predefindo, por exemplo, \\u00edndice bovespa)\"}, \"valorBloqueado\": {\"type\": \"number\", \"description\": \"Valor Bloqueado (Indispon\\u00edvel para resgate)\", \"format\": \"float\"}, \"valorAplicado\": {\"type\": \"number\", \"description\": \"Valor Aplicado (Valor lan\\u00e7ado e mostrado no extrato do fundo de investimento)\", \"format\": \"float\"}, \"valorResgate\": {\"type\": \"number\", \"description\": \"Valor de Resgate (Valor lanlado e mostrado no extrato do fundo de investimento)\"}, \"valorSaldoAnterior\": {\"type\": \"number\", \"description\": \"Valor do Saldo Anterior\"}, \"quantidadeCotaAnterior\": {\"type\": \"number\", \"description\": \"Quantidade Saldo Cota Anterior\"}, \"dataSaldoAnterior\": {\"type\": \"string\", \"description\": \"Data Saldo Anterior\"}, \"valorTotalAplicadoPeriodo\": {\"type\": \"number\", \"description\": \"Valor Total Aplicado no Per\\u00edodo\"}, \"valorTotalResgatadoPeriodo\": {\"type\": \"number\", \"description\": \"Valor Total Resgatado no Per\\u00edodo\"}, \"sinalRendimentoBrutoPeriodo\": {\"type\": \"string\", \"description\": \"Texto do Sinal Rendimento Bruto\"}, \"valorRendimentoBrutoPeriodo\": {\"type\": \"number\", \"description\": \"Valor do Rendimento Bruto\"}, \"valorTotalIRPeriodo\": {\"type\": \"number\", \"description\": \"Valor do Total Imposto Renda no Per\\u00edodo\"}, \"valorTotalIOFPeriodo\": {\"type\": \"number\", \"description\": \"Valor do Total IOF no Per\\u00edodo\"}, \"valorTotalTaxaSaidaPeriodo\": {\"type\": \"number\", \"description\": \"Valor Total da Taxa de Sa\\u00edda do Fundo no Per\\u00edodo, para fundos que preveem esta cobran\\u00e7a, no momento do resgate\"}, \"valorTotalBonusDesempenhoPeriodo\": {\"type\": \"number\", \"description\": \"Valor do B\\u00f4nus de Desempenho no Per\\u00edodo (Taxa de perfomance, em fundos de investimento que a preveem, cobrada sobre o desempenho de rentabilidade acima de um benchmark predefindo, por exemplo, \\u00edndice bovespa)\"}, \"sinalRendimentoLiquido\": {\"type\": \"string\", \"description\": \"Sinal do rendimento l\\u00edquido do per\\u00edodo (- se valor negativo e + se valor positivo)\"}, \"valorRendimentoLiquido\": {\"type\": \"number\", \"description\": \"Valor do rendimento l\\u00edquido do per\\u00edodo\"}, \"valorSaldoMesAnterior\": {\"type\": \"number\", \"description\": \"Saldo do m\\u00eas anterior\"}, \"quantidadeCotaMesAnterior\": {\"type\": \"number\", \"description\": \"Quantidade de cotas do m\\u00eas anterior\"}, \"dataSaldoMesAnterior\": {\"type\": \"string\", \"description\": \"Data da aferi\\u00e7\\u00e3o do saldo do m\\u00eas anterior\"}, \"numeroLancamento\": {\"type\": \"number\", \"description\": \"N\\u00famero do Lan\\u00e7amento\"}, \"listaLancamentosExtrato\": {\"type\": \"array\", \"description\": \"Lista de Lan\\u00e7amentos do Extrato de Fundos de Investimentos\", \"items\": {\"required\": [\"dataLancamento\", \"descricao\", \"numeroDocumentoLancamento\", \"quantidadeCota\", \"saldoCotas\", \"valorBaseCalculoIR\", \"valorCota\", \"valorIOF\", \"valorIR\", \"valorLancamento\", \"valorPrejuizo\"], \"type\": \"object\", \"properties\": {\"dataLancamento\": {\"type\": \"string\", \"description\": \"Data do Lan\\u00e7amento (transa\\u00e7\\u00e3o)\"}, \"descricao\": {\"type\": \"string\", \"description\": \"Descri\\u00e7\\u00e3o\"}, \"valorLancamento\": {\"type\": \"number\", \"description\": \"Valor\"}, \"valorIR\": {\"type\": \"number\", \"description\": \"Valor do Imposto Renda\"}, \"valorPrejuizo\": {\"type\": \"number\", \"description\": \"Valor do Preju\\u00edzo Compensado (Imposto de Renda sobre rendimentos do Fundo que j\\u00e1 foi pago e cuja aplica\\u00e7\\u00e3o passou a ter preju\\u00edzo no mesmo exerc\\u00edcio financeiro)\"}, \"valorIOF\": {\"type\": \"number\", \"description\": \"Valor do IOF\"}, \"quantidadeCota\": {\"type\": \"number\", \"description\": \"Quantidade de cotas\"}, \"valorCota\": {\"type\": \"number\", \"description\": \"Valor da Cota\"}, \"saldoCotas\": {\"type\": \"number\", \"description\": \"Saldo das Cotas\"}, \"valorBaseCalculoIR\": {\"type\": \"number\", \"description\": \"Valor Base usado para c\\u00e1lculo do Imposto de Renda\"}, \"numeroDocumentoLancamento\": {\"type\": \"number\", \"description\": \"N\\u00famero de protocolo do lan\\u00e7amento\"}}}}}, \"required\": [\"CNPJFundoInvestimento\", \"dataAfericaoValorCota\", \"dataSaldoAnterior\", \"dataSaldoMesAnterior\", \"dataUltimaCotacaoCota\", \"digitoVerificadorContaRecebedora\", \"listaLancamentosExtrato\", \"nomeClienteRecebedor\", \"nomeFundoInvestimento\", \"numeroAgenciaRecebedora\", \"numeroContaCorrenteRecebedora\", \"numeroDigitoVerificadorContaCorrenteRecebedora\", \"numeroLancamento\", \"percentualIRPrevisto\", \"quantidadeCotaAnterior\", \"quantidadeCotaMesAnterior\", \"sinalRendimentoBrutoPeriodo\", \"sinalRendimentoLiquido\", \"sinalRentabilidadeAno\", \"sinalRentabilidadeMes\", \"sinalRentabilidadeResgateTotal\", \"ultimaCotacaoCota\", \"valorAplicado\", \"valorBloqueado\", \"valorBonusDesempenho\", \"valorCarenciaResgate\", \"valorCota\", \"valorDisponivelResgate\", \"valorIOFPrevisto\", \"valorIRComplementarPrevisto\", \"valorIRPrevisto\", \"valorRendimentoBrutoPeriodo\", \"valorRendimentoLiquido\", \"valorRentabilidadeAno\", \"valorRentabilidadeMes\", \"valorRentabilidadeResgateTotal\", \"valorResgate\", \"valorSaldoAnterior\", \"valorSaldoMesAnterior\", \"valorTaxaSaida\", \"valorTotalAplicadoPeriodo\", \"valorTotalBonusDesempenhoPeriodo\", \"valorTotalIOFPeriodo\", \"valorTotalIRPeriodo\", \"valorTotalResgatadoPeriodo\", \"valorTotalTaxaSaidaPeriodo\"]}}}, \"RespostaGETExtratoPoupancaGoverno\": {\"type\": \"object\", \"description\": \"Objeto de Resposta da Opera\\u00e7\\u00e3o que Lista Extratos de Poupan\\u00e7as, do cliente Governo\", \"properties\": {\"codigoProgramaGoverno\": {\"type\": \"integer\", \"description\": \"C\\u00f3digo do programa de governo.\", \"format\": \"int64\"}, \"nomeProgramaGoverno\": {\"type\": \"string\", \"description\": \"Nome do programa de governo.\"}, \"codigoSubProgramaGoverno\": {\"type\": \"integer\", \"description\": \"C\\u00f3digo do subprograma de governo.\\n\", \"format\": \"int64\"}, \"nomeSubProgramaGoverno\": {\"type\": \"string\", \"description\": \"Nome do subprograma de governo.\\n\"}, \"nomeCliente\": {\"type\": \"string\", \"description\": \"Nome do Cliente.\\n\"}, \"identificadorCliente\": {\"type\": \"integer\", \"description\": \"C\\u00f3digo identificador do cliente.\", \"format\": \"int64\"}, \"saldoAnterior\": {\"type\": \"number\", \"description\": \"Valor do saldo anterior.\\n\", \"format\": \"double\"}, \"saldoAtual\": {\"type\": \"number\", \"description\": \"Valor do saldo atual.\\n\", \"format\": \"double\"}, \"saldoBloqueado\": {\"type\": \"number\", \"description\": \"Valor do saldo bloqueado.\\n\", \"format\": \"double\"}, \"saldoDisponivel\": {\"type\": \"number\", \"description\": \"Valor saldo dispon\\u00edvel.\\n\", \"format\": \"float\"}, \"listaLancamentos\": {\"type\": \"array\", \"description\": \"Lista Lan\\u00e7amentos.\\n\", \"items\": {\"type\": \"object\", \"properties\": {\"dataLancamento\": {\"type\": \"string\", \"description\": \"Data na qual a transa\\u00e7\\u00e3o foi lan\\u00e7ada em uma conta no agente de contas. Formato: DD.MM.AAAA.\\n\"}, \"dataMovimento\": {\"type\": \"string\", \"description\": \"Data do movimento.\\n\"}, \"diaLancamento\": {\"type\": \"integer\", \"description\": \"Dia na qual a transa\\u00e7\\u00e3o foi em uma conta no agente de contas. Formato: DD.\\n\", \"format\": \"int32\"}, \"codigoHistorico\": {\"type\": \"integer\", \"description\": \"C\\u00f3digo do hist\\u00f3rico\\n\", \"format\": \"int32\"}, \"descricaoHistorico\": {\"type\": \"string\", \"description\": \"Descri\\u00e7\\u00e3o do hist\\u00f3rico do lan\\u00e7amento.\\n\"}, \"indicadorDebitoCredito\": {\"type\": \"string\", \"description\": \"Indicador de transa\\u00e7\\u00e3o de cr\\u00e9dito ou de d\\u00e9bito. Letra \\\"C\\\" significa Cr\\u00e9dito, e letra \\\"D\\\" significa D\\u00e9bito.\\n\"}, \"agenciaOrigem\": {\"type\": \"integer\", \"description\": \"N\\u00famero da ag\\u00eancia na institui\\u00e7\\u00e3o financeira de origem.\\n\", \"format\": \"int64\"}, \"numeroDocumento\": {\"type\": \"integer\", \"description\": \"N\\u00famero do documento na base do Banco do Brasil\\n\", \"format\": \"int64\"}, \"valorLancamento\": {\"type\": \"number\", \"description\": \"Valor do lan\\u00e7amento.\\n\", \"format\": \"double\"}}}}, \"listaBases\": {\"type\": \"array\", \"description\": \"Lista Bases.\", \"items\": {\"type\": \"object\", \"properties\": {\"diaBase\": {\"type\": \"integer\", \"description\": \"Dia base da ocorr\\u00eancia do lan\\u00e7amento.\\n\", \"format\": \"int64\"}, \"saldoBase\": {\"type\": \"number\", \"description\": \"Valor saldo base da ocorr\\u00eancia do lan\\u00e7amento.\\n\", \"format\": \"double\"}}}}}}, \"Error502\": {\"title\": \"Error502\", \"type\": \"object\", \"properties\": {\"message\": {\"type\": \"string\", \"description\": \"en-US: Specifies the message of an error. \\n\\npt-BR: Especifica a mensagem de um erro.\"}, \"statusCode\": {\"type\": \"number\", \"description\": \"en-US: Specifies a possible error. \\n\\npt-BR: Especifica um poss\\u00edvel erro.\"}, \"error\": {\"type\": \"string\", \"description\": \"pt-BR: Nome do erro, conforme protocolo HTTP.\\n\\nen-US: Error name, according to HTTP protocol.\"}}, \"description\": \"en-US: Representation of an 502 error object.\\n\\npt-BR: Representa\\u00e7\\u00e3o de um objeto de erro 502.\"}, \"LancamentoAtualizado\": {\"title\": \"LancamentoAtualizado\", \"type\": \"object\", \"description\": \"Lan\\u00e7amento atualizado referente a uma conta corrente de um \\u00d3rg\\u00e3o de Repasse.\", \"properties\": {\"agencia\": {\"type\": \"integer\", \"example\": 1234, \"description\": \"C\\u00f3digo da ag\\u00eancia vinculada ao programa de governo.\"}, \"contaCorrente\": {\"type\": \"integer\", \"description\": \"N\\u00famero da conta corrente vinculada ao programa de governo.\"}, \"sequencialLancamento\": {\"type\": \"integer\", \"description\": \"N\\u00famero sequencial \\u00fanico do lan\\u00e7amento vinculado a conta corrente.\"}}, \"required\": [\"agencia\", \"contaCorrente\", \"sequencialLancamento\"]}, \"RespostaLancamentosOrgaoRepasse\": {\"title\": \"RespostaLancamentosOrgaoRepasse\", \"type\": \"object\", \"description\": \"Corpo de resposta do recurso de listagem de lan\\u00e7amentos atualizados por \\u00d3rg\\u00e3o de Repasse.\", \"properties\": {\"totalPaginas\": {\"type\": \"integer\", \"description\": \"N\\u00famero total de p\\u00e1ginas retornadas na consulta efetuada.\", \"minimum\": 0, \"example\": 1}, \"listaLancamentos\": {\"type\": \"array\", \"items\": {\"$ref\": \"#/components/schemas/LancamentoAtualizado\"}}}}, \"RespostaIncluirIdentificacaoLancamentos\": {\"title\": \"RespostaIncluirIdentificacaoLancamentos\", \"type\": \"object\", \"properties\": {\"numeroSequencialLancamentoContaCorrente\": {\"type\": \"integer\", \"description\": \"N\\u00famero gerado pelo sistema GFA - Gest\\u00e3o \\u00c1gil, que retorna o lan\\u00e7amento processado.\", \"example\": 1}, \"numeroSequencialIdentificacaoLancamento\": {\"type\": \"integer\", \"description\": \"N\\u00famero gerado pelo sistema GFA - Gest\\u00e3o \\u00c1gil, que retorna a identifica\\u00e7\\u00e3o do lan\\u00e7amento processado.\", \"example\": 2}, \"timestampInclusaoIdentificacaoLancamento\": {\"type\": \"string\", \"description\": \"Momento identifica\\u00e7\\u00e3o do lan\\u00e7amento de cr\\u00e9dido destinado o repasse de verba p\\u00fablica.\", \"example\": \"2023-03-30-15.49.07.457763\"}}, \"x-examples\": {\"example-1\": {\"numeroSequencialLancamentoContaCorrente\": 1, \"numeroSequencialIdentificacaoLancamento\": 2, \"timestampInclusaoIdentificacaoLancamento\": \"2023-03-30-15.49.07.457763\"}}}, \"RespostaConsultarIdentificacaoLancamentos\": {\"title\": \"RespostaConsultarIdentificacaoLancamentos\", \"type\": \"object\", \"x-examples\": {\"example-1\": {\"numeroPaginaTotal\": 1, \"quantidadeIdentificacaoLancamento\": 2, \"listaLancamento\": [{\"numeroSequencialLancamentoContaCorrente\": 1, \"numeroSequencialIdentificacaoLancamento\": 2, \"tipoIdentificacao\": 2, \"tipoIdentificacaoTexto\": \"EQUIPAMENTO\", \"codigoIdentificacao\": \"36000400582202100\", \"numeroCompanhia\": 6391281, \"valorFracionado\": 1000000000000000}]}}, \"properties\": {\"numeroPaginaTotal\": {\"type\": \"integer\", \"description\": \"N\\u00famero total de p\\u00e1ginas retornadas na consulta.\", \"example\": 1}, \"quantidadeIdentificacaoLancamento\": {\"type\": \"integer\", \"description\": \"N\\u00famero referente a quantidade de identifica\\u00e7\\u00f5es de lan\\u00e7amentos retornadas na consulta.\", \"example\": 2}, \"listaLancamento\": {\"type\": \"array\", \"items\": {\"type\": \"object\", \"properties\": {\"numeroSequencialLancamentoContaCorrente\": {\"type\": \"integer\", \"description\": \"N\\u00famero gerado pelo sistema GFA - Gest\\u00e3o \\u00c1gil, que retorna o lan\\u00e7amento processado.\", \"example\": 1}, \"numeroSequencialIdentificacaoLancamento\": {\"type\": \"integer\", \"description\": \"N\\u00famero gerado pelo sistema GFA - Gest\\u00e3o \\u00c1gil, que retorna a identifica\\u00e7\\u00e3o do lan\\u00e7amento processado.\", \"example\": 2}, \"tipoIdentificacao\": {\"type\": \"integer\", \"description\": \"N\\u00famero enviado pelo \\u00f3rg\\u00e3o de repasse que classifica o tipo de despesa para o qual o lan\\u00e7amento de cr\\u00e9dito foi destinado.\", \"example\": 2}, \"tipoIdentificacaoTexto\": {\"type\": \"string\", \"description\": \"Nome correspondente ao n\\u00famero enviado pelo \\u00f3rg\\u00e3o de repasse que classifica o tipo de despesa para o qual o lan\\u00e7amento de cr\\u00e9dito foi destinado.\", \"example\": \"EQUIPAMENTO\"}, \"codigoIdentificacao\": {\"type\": \"string\", \"description\": \"C\\u00f3digo enviado pelo \\u00f3rg\\u00e3o de repasse que classifica a despesa para o qual o lan\\u00e7amento de cr\\u00e9dito foi destinado.\", \"example\": \"36000400582202100\"}, \"numeroCompanhia\": {\"type\": \"integer\", \"description\": \"N\\u00famero enviado pelo \\u00f3rg\\u00e3o de repasse que indica o destino da despesa, por exemplo um hospital, escola, companhia, estabelecimento, CNES...\", \"example\": 6391281, \"format\": \"int64\"}, \"valorFracionado\": {\"type\": \"number\", \"description\": \"Valor monet\\u00e1rio enviado pelo \\u00f3rg\\u00e3o de repasse, que estabelece uma fra\\u00e7\\u00e3o do valor do lan\\u00e7amento de cr\\u00e9dito a ser gasto na despesa identificada.\", \"example\": 1000000000000000, \"format\": \"double\"}}}}}}, \"RespostaExcluirIdentificacaoLancamentos\": {\"title\": \"RespostaExcluirIdentificacaoLancamentos\", \"type\": \"object\", \"x-examples\": {\"example-1\": {\"timestampInclusaoIdentificacaoLancamento\": \"2023-03-30-15.49.07.457763\"}}, \"properties\": {\"timestampExclusaoIdentificacaoLancamento\": {\"type\": \"string\", \"description\": \"Momento Exclus\\u00e3o da identifica\\u00e7\\u00e3o do lan\\u00e7amento de cr\\u00e9dido destinado o repasse de verba p\\u00fablica.\", \"example\": \"2023-03-30-15.49.07.457763\"}}}}, \"securitySchemes\": {\"OAuth2-ClientCredentials\": {\"type\": \"oauth2\", \"description\": \"Com a prote\\u00e7\\u00e3o de credenciais de usu\\u00e1rios, o OAuth 2.0 permite a recupera\\u00e7\\u00e3o segura de recursos seguros.\", \"flows\": {\"clientCredentials\": {\"tokenUrl\": \"https://oauth.desenv.bb.com.br/oauth/token\", \"scopes\": {\"accountability.statements\": \"Permite consultar os servi\\u00e7os de presta\\u00e7\\u00e3o de contas, com recursos como extrato de conta, despesa etc. \", \"accountability.request\": \"Permite realizar requisi\\u00e7\\u00f5es (inclus\\u00f5es, exclus\\u00f5es e altera\\u00e7\\u00f5es) nos servi\\u00e7os de presta\\u00e7\\u00e3o de contas, com recursos como extrato de conta, despesa etc. \"}, \"refreshUrl\": \"https://oauth.desenv.bb.com.br/oauth/token\"}}}}}, \"tags\": [{\"name\": \"accountability\", \"description\": \"\"}]}))\n        });\n        "
                    },
                    "metadata": {},
                    "output_type": "display_data"
                }
            ],
            "source": [
                "RenderJSON(r.json())"
            ]
        },
        {
            "cell_type": "markdown",
            "metadata": {},
            "source": [
                "2. Índice\n",
                "    * [/agencias-proximas](##Agencias) ✅\n",
                "    * [Programas](##Programas)\n",
                "        * [/programas-governo/{numeroProgramaGoverno}/categorias](###Progamas-categorias) ✅\n",
                "        * [/programas-governo/{numeroProgramaGoverno}/orgaos-repasse/lancamentos-atualizados](###Progamas-lancamentos) 🟥\n",
                "        * [/programas-governo/{numeroProgramaGoverno}/orgaos-repasse/sublancamentos-atualizados](###Progamas-sublancamentos) 🟥\n",
                "    * [Extratos](##Extratos)\n",
                "        * [/statements/{branchCode}-{accountNumber}](###Extratos-transacoes) ✅\n",
                "        * [/statements/{branchCode}-{accountNumber}/control-agencies]() ✅\n",
                "        * [/statements/{branchCode}-{accountNumber}/debits/{id}/subtransactions](###Extratos-subtransacoes) ✅\n",
                "        * [/statements/{branchCode}-{accountNumber}/debits/{id}/control-agencies/subtransactions]() 🟥\n",
                "    * [Aplicações](##Aplicacoes)\n",
                "        * [/extratos/{agencia}-{contaCorrente}/fundos-investimentos/{fundosInvestimentoId}](###Aplicacoes-fundos) ✅\n",
                "        * [/extratos/{agencia}-{contaCorrente}/fundos-investimentos/{fundosInvestimentoId}/control-agencies]() ❎\n",
                "        * [/extratos/{agencia}-{contaCorrente}/poupanca/{variacaoPoupanca}](###Aplicacoes-poupanca) ✅\n",
                "        * [/extratos/{agencia}-{contaCorrente}/poupanca/{variacaoPoupanca}/orgao-controle]() ❎\n",
                "    * [Despesas](##Despesas)\n",
                "        * [/expenses/{branchCode}-{accountNumber}/transactions/{transactionId}/documents/{documentId}](###Despesas-transacao-documentos) ❎\n",
                "            * [/expenses/{branchCode}-{accountNumber}/transactions/{transactionId}/subTransactions/{subTransactionId}/documents/{documentId](###Despesas-subtransacao-documentos) ❎\n",
                "    * [Saldos](##Saldos)\n",
                "        * [/saldos/{agencia}-{contaCorrente}/conta-corrente]() ✅\n",
                "        * [/saldos/{agencia}-{contaCorrente}/aplicacoes-financeiras]() ❎\n",
                "    * [Orgãos](##Orgaos)\n",
                "        * [/orgaos-repasse/{agencia}-{contaCorrente}//lancamentos-debito]() ❎\n",
                "        * [/orgaos-repasse/lancamentos-credito/{ordemBancaria}-{item}/categorias-despesa]() ⬜\n",
                "        * [/orgaos-repasse/{agencia}-{contaCorrente}/lancamentos-credito]() 🟥\n",
                "        * [/orgaos-repasse/{agencia}-{contaCorrente}/lancamentos-credito/{sequencialLancamento}-{sequencialIdentificacao]() ⬜"
            ]
        },
        {
            "cell_type": "markdown",
            "metadata": {},
            "source": [
                "## Agencias"
            ]
        },
        {
            "cell_type": "code",
            "execution_count": 18,
            "metadata": {},
            "outputs": [
                {
                    "data": {
                        "text/html": [
                            "<div id=\"08661212-00b5-40a8-83f4-fd5943584947\" style=\"height: 300px; width:100%;\"></div>"
                        ]
                    },
                    "metadata": {},
                    "output_type": "display_data"
                },
                {
                    "data": {
                        "application/javascript": "\n        require([\"https://rawgit.com/caldwell/renderjson/master/renderjson.js\"], function() {\n          document.getElementById('08661212-00b5-40a8-83f4-fd5943584947').appendChild(renderjson({\"quantidadeAgencia\": 6, \"listaAgencia\": [{\"codigo\": 697, \"digito\": \"1\", \"nome\": \"SETE DE SETEMBRO\", \"cep\": \"50060070\", \"logradouro\": \"R.SETE DE SETEMBRO,128\", \"bairro\": \"BOA VISTA\", \"municipio\": \"RECIFE\", \"siglaUF\": \"PE\", \"sugerida\": \"N\"}, {\"codigo\": 7, \"digito\": \"8\", \"nome\": \"RECIFE\", \"cep\": \"50030310\", \"logradouro\": \"AV.RIO BRANCO,240\", \"bairro\": \"RECIFE ANTIGO\", \"municipio\": \"RECIFE\", \"siglaUF\": \"PE\", \"sugerida\": \"N\"}, {\"codigo\": 1814, \"digito\": \"7\", \"nome\": \"SHOPPING TACARUNA\", \"cep\": \"50110000\", \"logradouro\": \"AV.AGAMENON MAGALHAES,153\", \"bairro\": \"STO.AMARO\", \"municipio\": \"RECIFE\", \"siglaUF\": \"PE\", \"sugerida\": \"N\"}, {\"codigo\": 2337, \"digito\": \"X\", \"nome\": \"NEOPOLIS\", \"cep\": \"49980000\", \"logradouro\": \"PCA.MONS.JOSE M.DE SANTANA,27\", \"bairro\": \"CENTRO\", \"municipio\": \"NEOPOLIS\", \"siglaUF\": \"SE\", \"sugerida\": \"N\"}, {\"codigo\": 2206, \"digito\": \"3\", \"nome\": \"JAPARATUBA\", \"cep\": \"49960000\", \"logradouro\": \"AV.OCTAVIO ACCIOLY SOBRAL,68\", \"bairro\": \"CENTRO\", \"municipio\": \"JAPARATUBA\", \"siglaUF\": \"SE\", \"sugerida\": \"N\"}, {\"codigo\": 117, \"digito\": \"1\", \"nome\": \"PROPRIA\", \"cep\": \"49900000\", \"logradouro\": \"R.LOPES TROVAO,511\", \"bairro\": \"CENTRO\", \"municipio\": \"PROPRIA\", \"siglaUF\": \"SE\", \"sugerida\": \"N\"}]}))\n        });\n        "
                    },
                    "metadata": {},
                    "output_type": "display_data"
                }
            ],
            "source": [
                "cnpj = '11435633000149'\n",
                "cep = '50050910'\n",
                "\n",
                "token = get_token(keys['client_id'], keys['client_secret'])\n",
                "headers = set_headers()\n",
                "\n",
                "r = requests.get(f\"{path}/agencias-proximas?cnpj={cnpj}&cep={cep}\", headers=headers)\n",
                "RenderJSON(r.json())"
            ]
        },
        {
            "cell_type": "markdown",
            "metadata": {},
            "source": [
                "## Programas"
            ]
        },
        {
            "cell_type": "markdown",
            "metadata": {},
            "source": [
                "### Progamas-categorias"
            ]
        },
        {
            "cell_type": "code",
            "execution_count": 19,
            "metadata": {},
            "outputs": [
                {
                    "data": {
                        "text/html": [
                            "<div id=\"b9262741-4cab-4df7-a797-ad69cdb99eb7\" style=\"height: 300px; width:100%;\"></div>"
                        ]
                    },
                    "metadata": {},
                    "output_type": "display_data"
                },
                {
                    "data": {
                        "application/javascript": "\n        require([\"https://rawgit.com/caldwell/renderjson/master/renderjson.js\"], function() {\n          document.getElementById('b9262741-4cab-4df7-a797-ad69cdb99eb7').appendChild(renderjson({\"categorias\": [{\"codigo\": 1, \"nome\": \"Alimentos\", \"codigoCategoriaAgrupadora\": 0, \"indicadorDespesaAtiva\": \"S\"}, {\"codigo\": 2, \"nome\": \"Outros\", \"codigoCategoriaAgrupadora\": 0, \"indicadorDespesaAtiva\": \"S\"}, {\"codigo\": 3, \"nome\": \"Fornecedor Convencional\", \"codigoCategoriaAgrupadora\": 1, \"indicadorDespesaAtiva\": \"S\"}, {\"codigo\": 4, \"nome\": \"Fornecedor Convencional Organico\", \"codigoCategoriaAgrupadora\": 1, \"indicadorDespesaAtiva\": \"S\"}, {\"codigo\": 5, \"nome\": \"Agricultura Familiar\", \"codigoCategoriaAgrupadora\": 1, \"indicadorDespesaAtiva\": \"S\"}, {\"codigo\": 6, \"nome\": \"Agricultura Familiar Organico\", \"codigoCategoriaAgrupadora\": 1, \"indicadorDespesaAtiva\": \"S\"}, {\"codigo\": 7, \"nome\": \"Hortalicas e derivados\", \"codigoCategoriaAgrupadora\": 3, \"indicadorDespesaAtiva\": \"S\"}, {\"codigo\": 8, \"nome\": \"Frutas e derivados\", \"codigoCategoriaAgrupadora\": 3, \"indicadorDespesaAtiva\": \"S\"}, {\"codigo\": 9, \"nome\": \"Cereais e derivados\", \"codigoCategoriaAgrupadora\": 3, \"indicadorDespesaAtiva\": \"S\"}, {\"codigo\": 10, \"nome\": \"Gorduras e oleos\", \"codigoCategoriaAgrupadora\": 3, \"indicadorDespesaAtiva\": \"S\"}, {\"codigo\": 11, \"nome\": \"Carnes e derivados\", \"codigoCategoriaAgrupadora\": 3, \"indicadorDespesaAtiva\": \"S\"}, {\"codigo\": 12, \"nome\": \"Ovos e derivados\", \"codigoCategoriaAgrupadora\": 3, \"indicadorDespesaAtiva\": \"S\"}, {\"codigo\": 13, \"nome\": \"Pescados e frutos do mar\", \"codigoCategoriaAgrupadora\": 3, \"indicadorDespesaAtiva\": \"S\"}, {\"codigo\": 14, \"nome\": \"Acucares e doces\", \"codigoCategoriaAgrupadora\": 3, \"indicadorDespesaAtiva\": \"S\"}, {\"codigo\": 15, \"nome\": \"Leite e derivados\", \"codigoCategoriaAgrupadora\": 3, \"indicadorDespesaAtiva\": \"S\"}, {\"codigo\": 16, \"nome\": \"Leguminosas e derivados\", \"codigoCategoriaAgrupadora\": 3, \"indicadorDespesaAtiva\": \"S\"}, {\"codigo\": 17, \"nome\": \"Pescados e frutos do mar\", \"codigoCategoriaAgrupadora\": 3, \"indicadorDespesaAtiva\": \"S\"}, {\"codigo\": 18, \"nome\": \"Preparac\\u00d4es prontas\", \"codigoCategoriaAgrupadora\": 3, \"indicadorDespesaAtiva\": \"S\"}, {\"codigo\": 19, \"nome\": \"Bebidas\", \"codigoCategoriaAgrupadora\": 3, \"indicadorDespesaAtiva\": \"S\"}, {\"codigo\": 20, \"nome\": \"Outros Generos Alimenticios\", \"codigoCategoriaAgrupadora\": 3, \"indicadorDespesaAtiva\": \"S\"}, {\"codigo\": 21, \"nome\": \"Hortalicas e derivados\", \"codigoCategoriaAgrupadora\": 4, \"indicadorDespesaAtiva\": \"S\"}, {\"codigo\": 22, \"nome\": \"Frutas e derivados\", \"codigoCategoriaAgrupadora\": 4, \"indicadorDespesaAtiva\": \"S\"}, {\"codigo\": 23, \"nome\": \"Cereais e derivados\", \"codigoCategoriaAgrupadora\": 4, \"indicadorDespesaAtiva\": \"S\"}, {\"codigo\": 24, \"nome\": \"Gorduras e oleos\", \"codigoCategoriaAgrupadora\": 4, \"indicadorDespesaAtiva\": \"S\"}, {\"codigo\": 25, \"nome\": \"Carnes e derivados\", \"codigoCategoriaAgrupadora\": 4, \"indicadorDespesaAtiva\": \"S\"}, {\"codigo\": 26, \"nome\": \"Ovos e derivados\", \"codigoCategoriaAgrupadora\": 4, \"indicadorDespesaAtiva\": \"S\"}, {\"codigo\": 27, \"nome\": \"Pescados e frutos do mar\", \"codigoCategoriaAgrupadora\": 4, \"indicadorDespesaAtiva\": \"S\"}, {\"codigo\": 28, \"nome\": \"Acucares e doces\", \"codigoCategoriaAgrupadora\": 4, \"indicadorDespesaAtiva\": \"S\"}, {\"codigo\": 29, \"nome\": \"Leite e derivados\", \"codigoCategoriaAgrupadora\": 4, \"indicadorDespesaAtiva\": \"S\"}, {\"codigo\": 30, \"nome\": \"Leguminosas e derivados\", \"codigoCategoriaAgrupadora\": 4, \"indicadorDespesaAtiva\": \"S\"}, {\"codigo\": 31, \"nome\": \"Pescados e frutos do mar\", \"codigoCategoriaAgrupadora\": 4, \"indicadorDespesaAtiva\": \"S\"}, {\"codigo\": 32, \"nome\": \"Preparac\\u00d4es prontas\", \"codigoCategoriaAgrupadora\": 4, \"indicadorDespesaAtiva\": \"S\"}, {\"codigo\": 33, \"nome\": \"Bebidas\", \"codigoCategoriaAgrupadora\": 4, \"indicadorDespesaAtiva\": \"S\"}, {\"codigo\": 34, \"nome\": \"Outros Generos Alimenticios\", \"codigoCategoriaAgrupadora\": 4, \"indicadorDespesaAtiva\": \"S\"}, {\"codigo\": 35, \"nome\": \"Hortalicas e derivados\", \"codigoCategoriaAgrupadora\": 5, \"indicadorDespesaAtiva\": \"S\"}, {\"codigo\": 36, \"nome\": \"Frutas e derivados\", \"codigoCategoriaAgrupadora\": 5, \"indicadorDespesaAtiva\": \"S\"}, {\"codigo\": 37, \"nome\": \"Cereais e derivados\", \"codigoCategoriaAgrupadora\": 5, \"indicadorDespesaAtiva\": \"S\"}, {\"codigo\": 38, \"nome\": \"Gorduras e oleos\", \"codigoCategoriaAgrupadora\": 5, \"indicadorDespesaAtiva\": \"S\"}, {\"codigo\": 39, \"nome\": \"Carnes e derivados\", \"codigoCategoriaAgrupadora\": 5, \"indicadorDespesaAtiva\": \"S\"}, {\"codigo\": 40, \"nome\": \"Ovos e derivados\", \"codigoCategoriaAgrupadora\": 5, \"indicadorDespesaAtiva\": \"S\"}, {\"codigo\": 41, \"nome\": \"Pescados e frutos do mar\", \"codigoCategoriaAgrupadora\": 5, \"indicadorDespesaAtiva\": \"S\"}, {\"codigo\": 42, \"nome\": \"Acucares e doces\", \"codigoCategoriaAgrupadora\": 5, \"indicadorDespesaAtiva\": \"S\"}, {\"codigo\": 43, \"nome\": \"Leite e derivados\", \"codigoCategoriaAgrupadora\": 5, \"indicadorDespesaAtiva\": \"S\"}, {\"codigo\": 44, \"nome\": \"Leguminosas e derivados\", \"codigoCategoriaAgrupadora\": 5, \"indicadorDespesaAtiva\": \"S\"}, {\"codigo\": 45, \"nome\": \"Pescados e frutos do mar\", \"codigoCategoriaAgrupadora\": 5, \"indicadorDespesaAtiva\": \"S\"}, {\"codigo\": 46, \"nome\": \"Preparac\\u00d4es prontas\", \"codigoCategoriaAgrupadora\": 5, \"indicadorDespesaAtiva\": \"S\"}, {\"codigo\": 47, \"nome\": \"Bebidas\", \"codigoCategoriaAgrupadora\": 5, \"indicadorDespesaAtiva\": \"S\"}, {\"codigo\": 48, \"nome\": \"Outros Generos Alimenticios\", \"codigoCategoriaAgrupadora\": 5, \"indicadorDespesaAtiva\": \"S\"}, {\"codigo\": 49, \"nome\": \"Hortalicas e derivados\", \"codigoCategoriaAgrupadora\": 6, \"indicadorDespesaAtiva\": \"S\"}, {\"codigo\": 50, \"nome\": \"Frutas e derivados\", \"codigoCategoriaAgrupadora\": 6, \"indicadorDespesaAtiva\": \"S\"}, {\"codigo\": 51, \"nome\": \"Cereais e derivados\", \"codigoCategoriaAgrupadora\": 6, \"indicadorDespesaAtiva\": \"S\"}, {\"codigo\": 52, \"nome\": \"Gorduras e oleos\", \"codigoCategoriaAgrupadora\": 6, \"indicadorDespesaAtiva\": \"S\"}, {\"codigo\": 53, \"nome\": \"Carnes e derivados\", \"codigoCategoriaAgrupadora\": 6, \"indicadorDespesaAtiva\": \"S\"}, {\"codigo\": 54, \"nome\": \"Ovos e derivados\", \"codigoCategoriaAgrupadora\": 6, \"indicadorDespesaAtiva\": \"S\"}, {\"codigo\": 55, \"nome\": \"Pescados e frutos do mar\", \"codigoCategoriaAgrupadora\": 6, \"indicadorDespesaAtiva\": \"S\"}, {\"codigo\": 56, \"nome\": \"Acucares e doces\", \"codigoCategoriaAgrupadora\": 6, \"indicadorDespesaAtiva\": \"S\"}, {\"codigo\": 57, \"nome\": \"Leite e derivados\", \"codigoCategoriaAgrupadora\": 6, \"indicadorDespesaAtiva\": \"S\"}, {\"codigo\": 58, \"nome\": \"Leguminosas e derivados\", \"codigoCategoriaAgrupadora\": 6, \"indicadorDespesaAtiva\": \"S\"}, {\"codigo\": 59, \"nome\": \"Pescados e frutos do mar\", \"codigoCategoriaAgrupadora\": 6, \"indicadorDespesaAtiva\": \"S\"}, {\"codigo\": 60, \"nome\": \"Preparac\\u00d4es prontas\", \"codigoCategoriaAgrupadora\": 6, \"indicadorDespesaAtiva\": \"S\"}, {\"codigo\": 61, \"nome\": \"Bebidas\", \"codigoCategoriaAgrupadora\": 6, \"indicadorDespesaAtiva\": \"S\"}, {\"codigo\": 62, \"nome\": \"Outros Generos Alimenticios\", \"codigoCategoriaAgrupadora\": 6, \"indicadorDespesaAtiva\": \"S\"}, {\"codigo\": 73, \"nome\": \"Aten\\u00e7\\u00e3o b\\u00e1sica\", \"codigoCategoriaAgrupadora\": 0, \"indicadorDespesaAtiva\": \"S\"}, {\"codigo\": 74, \"nome\": \"AGENTE COMUNIT\\u00c1RIO DE SA\\u00daDE\", \"codigoCategoriaAgrupadora\": 73, \"indicadorDespesaAtiva\": \"S\"}, {\"codigo\": 75, \"nome\": \"PISO DE ATEN\\u00c7\\u00c3O B\\u00c1SICA VARI\\u00c1VEL - PAB\", \"codigoCategoriaAgrupadora\": 73, \"indicadorDespesaAtiva\": \"S\"}, {\"codigo\": 76, \"nome\": \"ATEN\\u00c7\\u00c3O DE M\\u00c9DIA E ALTA COMPLEXIDADE\", \"codigoCategoriaAgrupadora\": 0, \"indicadorDespesaAtiva\": \"S\"}, {\"codigo\": 77, \"nome\": \"TEN\\u00c7\\u00c3O \\u00c0 SA\\u00daDE DA POPULA\\u00c7\\u00c3O PARA PROCEDIMENTOS NO MAC\", \"codigoCategoriaAgrupadora\": 76, \"indicadorDespesaAtiva\": \"S\"}, {\"codigo\": 78, \"nome\": \"INCREMENTO TEMPOR\\u00c1RIO AO CUSTEIO DOS SERVI\\u00c7OS DE ASSIST\\u00caNCIA HOSPITALAR E AMBULATORIAL\", \"codigoCategoriaAgrupadora\": 76, \"indicadorDespesaAtiva\": \"S\"}, {\"codigo\": 79, \"nome\": \"PISO DA ATEN\\u00c7\\u00c3O B\\u00c1SICA EM SA\\u00daDE\", \"codigoCategoriaAgrupadora\": 73, \"indicadorDespesaAtiva\": \"S\"}, {\"codigo\": 80, \"nome\": \"Piso da aten\\u00e7\\u00e3o b\\u00e1sica em sa\\u00fade\", \"codigoCategoriaAgrupadora\": 73, \"indicadorDespesaAtiva\": \"S\"}, {\"codigo\": 81, \"nome\": \"Piso de aten\\u00e7\\u00e3o b\\u00e1sica vari\\u00e1vel - PAB\", \"codigoCategoriaAgrupadora\": 80, \"indicadorDespesaAtiva\": \"S\"}, {\"codigo\": 82, \"nome\": \"Piso de aten\\u00e7\\u00e3o b\\u00e1sica fixo - PAB fixo\", \"codigoCategoriaAgrupadora\": 80, \"indicadorDespesaAtiva\": \"S\"}, {\"codigo\": 83, \"nome\": \"Gest\\u00e3o do SUS\", \"codigoCategoriaAgrupadora\": 0, \"indicadorDespesaAtiva\": \"S\"}, {\"codigo\": 84, \"nome\": \"Implementa\\u00e7\\u00e3o da seguran\\u00e7a alimentar e nutricional na sa\\u00fade\", \"codigoCategoriaAgrupadora\": 83, \"indicadorDespesaAtiva\": \"S\"}, {\"codigo\": 85, \"nome\": \"Implementa\\u00e7\\u00e3o da seguran\\u00e7a alimentar e nutricional na sa\\u00fade\", \"codigoCategoriaAgrupadora\": 84, \"indicadorDespesaAtiva\": \"S\"}, {\"codigo\": 86, \"nome\": \"Custeio de aten\\u00e7\\u00e3o \\u00e0 sa\\u00fade bucal\", \"codigoCategoriaAgrupadora\": 80, \"indicadorDespesaAtiva\": \"S\"}, {\"codigo\": 87, \"nome\": \"Vigil\\u00e2ncia em sa\\u00fade\", \"codigoCategoriaAgrupadora\": 0, \"indicadorDespesaAtiva\": \"S\"}, {\"codigo\": 88, \"nome\": \"Aten\\u00e7\\u00e3o de m\\u00e9dia e alta complexidade\", \"codigoCategoriaAgrupadora\": 0, \"indicadorDespesaAtiva\": \"S\"}, {\"codigo\": 89, \"nome\": \"Aten\\u00e7\\u00e3o \\u00e0 sa\\u00fade da popula\\u00e7\\u00e3o para procedimentos no MAC\", \"codigoCategoriaAgrupadora\": 88, \"indicadorDespesaAtiva\": \"S\"}, {\"codigo\": 90, \"nome\": \"Incremento tempor\\u00e1rio ao custeio dos servi\\u00e7os de assist\\u00eancia HC\", \"codigoCategoriaAgrupadora\": 88, \"indicadorDespesaAtiva\": \"S\"}, {\"codigo\": 1200, \"nome\": \"PDDE SP\", \"codigoCategoriaAgrupadora\": 0, \"indicadorDespesaAtiva\": \"S\"}, {\"codigo\": 1201, \"nome\": \"PDDE SP - REGULAR - Capital\", \"codigoCategoriaAgrupadora\": 0, \"indicadorDespesaAtiva\": \"S\"}, {\"codigo\": 1202, \"nome\": \"Itens de seguran\\u00e7a\", \"codigoCategoriaAgrupadora\": 1201, \"indicadorDespesaAtiva\": \"S\"}, {\"codigo\": 1203, \"nome\": \"Equipamentos de combate a inc\\u00eandio, resgate e salvamento - Hidrantes / mangotinhos\", \"codigoCategoriaAgrupadora\": 1202, \"indicadorDespesaAtiva\": \"S\"}, {\"codigo\": 1204, \"nome\": \"Equipamentos de combate a inc\\u00eandio, resgate e salvamento - Bombas de recalque (reserva de inc\\u00eandio)\", \"codigoCategoriaAgrupadora\": 1202, \"indicadorDespesaAtiva\": \"S\"}, {\"codigo\": 1205, \"nome\": \"Sistema de filmagem\", \"codigoCategoriaAgrupadora\": 1202, \"indicadorDespesaAtiva\": \"S\"}, {\"codigo\": 1206, \"nome\": \"Sistema de alarmes\", \"codigoCategoriaAgrupadora\": 1202, \"indicadorDespesaAtiva\": \"S\"}, {\"codigo\": 1207, \"nome\": \"Sistema de sinaliza\\u00e7\\u00e3o - Sistema de sinaliza\\u00e7\\u00e3o - Placas de Sinaliza\\u00e7\\u00e3o\", \"codigoCategoriaAgrupadora\": 1202, \"indicadorDespesaAtiva\": \"S\"}, {\"codigo\": 1208, \"nome\": \"Sistema de sinaliza\\u00e7\\u00e3o - Sistema de sinaliza\\u00e7\\u00e3o - Ilumina\\u00e7\\u00e3o de emerg\\u00eancia\", \"codigoCategoriaAgrupadora\": 1202, \"indicadorDespesaAtiva\": \"S\"}, {\"codigo\": 1209, \"nome\": \"Sistema de detec\\u00e7\\u00e3o\", \"codigoCategoriaAgrupadora\": 1202, \"indicadorDespesaAtiva\": \"S\"}, {\"codigo\": 1210, \"nome\": \"Equipamentos de combate a inc\\u00eandio, resgate e salvamento - Sistema de chuveiros / sprinklers\", \"codigoCategoriaAgrupadora\": 1202, \"indicadorDespesaAtiva\": \"S\"}, {\"codigo\": 1211, \"nome\": \"Extintor - Troca de extintor\", \"codigoCategoriaAgrupadora\": 1202, \"indicadorDespesaAtiva\": \"S\"}, {\"codigo\": 1212, \"nome\": \"Materiais e servi\\u00e7os pedag\\u00f3gicos\", \"codigoCategoriaAgrupadora\": 1201, \"indicadorDespesaAtiva\": \"S\"}, {\"codigo\": 1213, \"nome\": \"Tecnologia e inova\\u00e7\\u00e3o\", \"codigoCategoriaAgrupadora\": 1201, \"indicadorDespesaAtiva\": \"S\"}, {\"codigo\": 1214, \"nome\": \"Manuten\\u00e7\\u00e3o e pequenos reparos\", \"codigoCategoriaAgrupadora\": 1201, \"indicadorDespesaAtiva\": \"S\"}, {\"codigo\": 1215, \"nome\": \"Mobili\\u00e1rios, equipamentos e utens\\u00edlios\", \"codigoCategoriaAgrupadora\": 1201, \"indicadorDespesaAtiva\": \"S\"}, {\"codigo\": 1216, \"nome\": \"Materiais administrativos\", \"codigoCategoriaAgrupadora\": 1201, \"indicadorDespesaAtiva\": \"S\"}, {\"codigo\": 1217, \"nome\": \"Ar-condicionado - Ar-condicionado -material\", \"codigoCategoriaAgrupadora\": 1214, \"indicadorDespesaAtiva\": \"S\"}, {\"codigo\": 1218, \"nome\": \"Materiais e ferramentas de constru\\u00e7\\u00e3o\", \"codigoCategoriaAgrupadora\": 1214, \"indicadorDespesaAtiva\": \"S\"}, {\"codigo\": 1219, \"nome\": \"Equipamentos e servi\\u00e7os de quadra poliesportiva\", \"codigoCategoriaAgrupadora\": 1214, \"indicadorDespesaAtiva\": \"S\"}, {\"codigo\": 1220, \"nome\": \"Desktop - ARP - Desktop B\\u00e1sico Educacional + Monitor\", \"codigoCategoriaAgrupadora\": 1213, \"indicadorDespesaAtiva\": \"S\"}, {\"codigo\": 1221, \"nome\": \"Desktop - Desktop - outro\", \"codigoCategoriaAgrupadora\": 1213, \"indicadorDespesaAtiva\": \"S\"}, {\"codigo\": 1222, \"nome\": \"Notebook - ARP -Notebook B\\u00e1sico Educacional\", \"codigoCategoriaAgrupadora\": 1213, \"indicadorDespesaAtiva\": \"S\"}, {\"codigo\": 1223, \"nome\": \"Notebook - ARP -Notebook Sala de Aula\", \"codigoCategoriaAgrupadora\": 1213, \"indicadorDespesaAtiva\": \"S\"}, {\"codigo\": 1224, \"nome\": \"Notebook - Notebook - Outro\", \"codigoCategoriaAgrupadora\": 1213, \"indicadorDespesaAtiva\": \"S\"}, {\"codigo\": 1225, \"nome\": \"Plataforma de Recarga M\\u00f3vel\", \"codigoCategoriaAgrupadora\": 1213, \"indicadorDespesaAtiva\": \"S\"}, {\"codigo\": 1226, \"nome\": \"Perif\\u00e9ricos para equipamentos de inform\\u00e1tica - Monitor\", \"codigoCategoriaAgrupadora\": 1213, \"indicadorDespesaAtiva\": \"S\"}, {\"codigo\": 1227, \"nome\": \"Televisor\", \"codigoCategoriaAgrupadora\": 1213, \"indicadorDespesaAtiva\": \"S\"}, {\"codigo\": 1228, \"nome\": \"Moldura touch screen\", \"codigoCategoriaAgrupadora\": 1213, \"indicadorDespesaAtiva\": \"S\"}, {\"codigo\": 1229, \"nome\": \"Webcam\", \"codigoCategoriaAgrupadora\": 1213, \"indicadorDespesaAtiva\": \"S\"}, {\"codigo\": 1230, \"nome\": \"Caixas de som\", \"codigoCategoriaAgrupadora\": 1213, \"indicadorDespesaAtiva\": \"S\"}, {\"codigo\": 1231, \"nome\": \"Microfone - Microfone Bast\\u00e3o\", \"codigoCategoriaAgrupadora\": 1213, \"indicadorDespesaAtiva\": \"S\"}, {\"codigo\": 1232, \"nome\": \"Microfone - Microfone de mesa\", \"codigoCategoriaAgrupadora\": 1213, \"indicadorDespesaAtiva\": \"S\"}, {\"codigo\": 1233, \"nome\": \"Microfone - microfone de lapela\", \"codigoCategoriaAgrupadora\": 1213, \"indicadorDespesaAtiva\": \"S\"}, {\"codigo\": 1234, \"nome\": \"Suporte para televisores - Fixo\", \"codigoCategoriaAgrupadora\": 1213, \"indicadorDespesaAtiva\": \"S\"}, {\"codigo\": 1235, \"nome\": \"Suporte para televisores - M\\u00f3vel\", \"codigoCategoriaAgrupadora\": 1213, \"indicadorDespesaAtiva\": \"S\"}, {\"codigo\": 1236, \"nome\": \"Estabilizador\", \"codigoCategoriaAgrupadora\": 1213, \"indicadorDespesaAtiva\": \"S\"}, {\"codigo\": 1237, \"nome\": \"Nobreak\", \"codigoCategoriaAgrupadora\": 1213, \"indicadorDespesaAtiva\": \"S\"}, {\"codigo\": 1238, \"nome\": \"C\\u00e2mera fotogr\\u00e1fica\", \"codigoCategoriaAgrupadora\": 1213, \"indicadorDespesaAtiva\": \"S\"}, {\"codigo\": 1239, \"nome\": \"Equipamento de proje\\u00e7\\u00e3o de imagens\", \"codigoCategoriaAgrupadora\": 1213, \"indicadorDespesaAtiva\": \"S\"}, {\"codigo\": 1240, \"nome\": \"Smartphone\", \"codigoCategoriaAgrupadora\": 1213, \"indicadorDespesaAtiva\": \"S\"}, {\"codigo\": 1241, \"nome\": \"Lousa digital / Tela touchscreen\", \"codigoCategoriaAgrupadora\": 1213, \"indicadorDespesaAtiva\": \"S\"}, {\"codigo\": 1242, \"nome\": \"impressora\", \"codigoCategoriaAgrupadora\": 1213, \"indicadorDespesaAtiva\": \"S\"}, {\"codigo\": 1243, \"nome\": \"scanner\", \"codigoCategoriaAgrupadora\": 1213, \"indicadorDespesaAtiva\": \"S\"}, {\"codigo\": 1244, \"nome\": \"Tablet\", \"codigoCategoriaAgrupadora\": 1213, \"indicadorDespesaAtiva\": \"S\"}, {\"codigo\": 1245, \"nome\": \"Perif\\u00e9ricos para equipamentos de inform\\u00e1tica - Mouse\", \"codigoCategoriaAgrupadora\": 1213, \"indicadorDespesaAtiva\": \"S\"}, {\"codigo\": 1246, \"nome\": \"Perif\\u00e9ricos para equipamentos de inform\\u00e1tica - Teclado\", \"codigoCategoriaAgrupadora\": 1213, \"indicadorDespesaAtiva\": \"S\"}, {\"codigo\": 1247, \"nome\": \"Perif\\u00e9ricos para equipamentos de inform\\u00e1tica - fontes\", \"codigoCategoriaAgrupadora\": 1213, \"indicadorDespesaAtiva\": \"S\"}, {\"codigo\": 1248, \"nome\": \"Perif\\u00e9ricos para equipamentos de inform\\u00e1tica - Outros\", \"codigoCategoriaAgrupadora\": 1213, \"indicadorDespesaAtiva\": \"S\"}, {\"codigo\": 1249, \"nome\": \"Pe\\u00e7as internas para equipamentos de inform\\u00e1tica - Mem\\u00f3ria\", \"codigoCategoriaAgrupadora\": 1213, \"indicadorDespesaAtiva\": \"S\"}, {\"codigo\": 1250, \"nome\": \"Pe\\u00e7as internas para equipamentos de inform\\u00e1tica - Processador\", \"codigoCategoriaAgrupadora\": 1213, \"indicadorDespesaAtiva\": \"S\"}, {\"codigo\": 1251, \"nome\": \"Pe\\u00e7as internas para equipamentos de inform\\u00e1tica - Disco R\\u00edgido\", \"codigoCategoriaAgrupadora\": 1213, \"indicadorDespesaAtiva\": \"S\"}, {\"codigo\": 1252, \"nome\": \"Pe\\u00e7as internas para equipamentos de inform\\u00e1tica - Placa M\\u00e3e\", \"codigoCategoriaAgrupadora\": 1213, \"indicadorDespesaAtiva\": \"S\"}, {\"codigo\": 1253, \"nome\": \"Pe\\u00e7as internas para equipamentos de inform\\u00e1tica - Placa de v\\u00eddeo\", \"codigoCategoriaAgrupadora\": 1213, \"indicadorDespesaAtiva\": \"S\"}, {\"codigo\": 1254, \"nome\": \"Pe\\u00e7as internas para equipamentos de inform\\u00e1tica - el\\u00e9trica\", \"codigoCategoriaAgrupadora\": 1213, \"indicadorDespesaAtiva\": \"S\"}, {\"codigo\": 1255, \"nome\": \"Pe\\u00e7as internas para equipamentos de inform\\u00e1tica - outros\", \"codigoCategoriaAgrupadora\": 1213, \"indicadorDespesaAtiva\": \"S\"}, {\"codigo\": 1256, \"nome\": \"Aquisi\\u00e7\\u00e3o de software para atividades pedag\\u00f3gicas\", \"codigoCategoriaAgrupadora\": 1213, \"indicadorDespesaAtiva\": \"S\"}, {\"codigo\": 1257, \"nome\": \"Headphone e headset\", \"codigoCategoriaAgrupadora\": 1213, \"indicadorDespesaAtiva\": \"S\"}, {\"codigo\": 1258, \"nome\": \"Outros itens de tecnologia e inova\\u00e7\\u00e3o\", \"codigoCategoriaAgrupadora\": 1213, \"indicadorDespesaAtiva\": \"S\"}, {\"codigo\": 1259, \"nome\": \"Lixeiras\", \"codigoCategoriaAgrupadora\": 1215, \"indicadorDespesaAtiva\": \"S\"}, {\"codigo\": 1260, \"nome\": \"M\\u00e1quinas e equipamentos para escrit\\u00f3rios\", \"codigoCategoriaAgrupadora\": 1216, \"indicadorDespesaAtiva\": \"S\"}, {\"codigo\": 1261, \"nome\": \"Jogos e brinquedos educativos\", \"codigoCategoriaAgrupadora\": 1212, \"indicadorDespesaAtiva\": \"S\"}, {\"codigo\": 1262, \"nome\": \"Livros, mapas e outras publica\\u00e7\\u00f5es\", \"codigoCategoriaAgrupadora\": 1212, \"indicadorDespesaAtiva\": \"S\"}, {\"codigo\": 1263, \"nome\": \"Outros materiais e servi\\u00e7os pedag\\u00f3gicos\", \"codigoCategoriaAgrupadora\": 1212, \"indicadorDespesaAtiva\": \"S\"}, {\"codigo\": 1264, \"nome\": \"Materiais e equipamentos para Tecnologia e Inova\\u00e7\\u00e3o\", \"codigoCategoriaAgrupadora\": 1212, \"indicadorDespesaAtiva\": \"S\"}, {\"codigo\": 1265, \"nome\": \"Materiais e equipamentos para laborat\\u00f3rio de ci\\u00eancias\", \"codigoCategoriaAgrupadora\": 1212, \"indicadorDespesaAtiva\": \"S\"}, {\"codigo\": 1330, \"nome\": \"Materiais para Salas de Recurso de uso permanente\", \"codigoCategoriaAgrupadora\": 1212, \"indicadorDespesaAtiva\": \"S\"}, {\"codigo\": 1331, \"nome\": \"PDDE SP - CONTABILIDADE - Custeio\", \"codigoCategoriaAgrupadora\": 0, \"indicadorDespesaAtiva\": \"S\"}, {\"codigo\": 1332, \"nome\": \"Servi\\u00e7os de contabildiade\", \"codigoCategoriaAgrupadora\": 1331, \"indicadorDespesaAtiva\": \"S\"}, {\"codigo\": 1333, \"nome\": \"Servi\\u00e7os de contador\", \"codigoCategoriaAgrupadora\": 1332, \"indicadorDespesaAtiva\": \"S\"}, {\"codigo\": 1334, \"nome\": \"Certificado digital\", \"codigoCategoriaAgrupadora\": 1332, \"indicadorDespesaAtiva\": \"S\"}, {\"codigo\": 1335, \"nome\": \"PDDE SP - COVID-19 - Custeio\", \"codigoCategoriaAgrupadora\": 0, \"indicadorDespesaAtiva\": \"S\"}, {\"codigo\": 1336, \"nome\": \"Higiene e limpeza\", \"codigoCategoriaAgrupadora\": 1335, \"indicadorDespesaAtiva\": \"S\"}, {\"codigo\": 1337, \"nome\": \"Equipamentos de prote\\u00e7\\u00e3o individual - EPIs\", \"codigoCategoriaAgrupadora\": 1335, \"indicadorDespesaAtiva\": \"S\"}, {\"codigo\": 1338, \"nome\": \"Artigos de higiene - \\u00c1lcool em gel\", \"codigoCategoriaAgrupadora\": 1336, \"indicadorDespesaAtiva\": \"S\"}, {\"codigo\": 1339, \"nome\": \"Artigos de higiene - \\u00c1lcool 96\\u00b0\", \"codigoCategoriaAgrupadora\": 1336, \"indicadorDespesaAtiva\": \"S\"}, {\"codigo\": 1340, \"nome\": \"Artigos de higiene - \\u00c1gua sanit\\u00e1ria\", \"codigoCategoriaAgrupadora\": 1336, \"indicadorDespesaAtiva\": \"S\"}, {\"codigo\": 1341, \"nome\": \"Artigos de higiene - Sabonete l\\u00edquido\", \"codigoCategoriaAgrupadora\": 1336, \"indicadorDespesaAtiva\": \"S\"}, {\"codigo\": 1342, \"nome\": \"Artigos de higiene - Papel toalha\", \"codigoCategoriaAgrupadora\": 1336, \"indicadorDespesaAtiva\": \"S\"}, {\"codigo\": 1343, \"nome\": \"Artigos de higiene - Papel higi\\u00eanico\", \"codigoCategoriaAgrupadora\": 1336, \"indicadorDespesaAtiva\": \"S\"}, {\"codigo\": 1344, \"nome\": \"Servi\\u00e7os de sanitiza\\u00e7\\u00e3o\", \"codigoCategoriaAgrupadora\": 1336, \"indicadorDespesaAtiva\": \"S\"}, {\"codigo\": 1345, \"nome\": \"Toten de \\u00e1lcool em gel\", \"codigoCategoriaAgrupadora\": 1336, \"indicadorDespesaAtiva\": \"S\"}, {\"codigo\": 1346, \"nome\": \"Tapete sanitizante\", \"codigoCategoriaAgrupadora\": 1336, \"indicadorDespesaAtiva\": \"S\"}, {\"codigo\": 1347, \"nome\": \"Outros materiais de higiene e limpeza\", \"codigoCategoriaAgrupadora\": 1336, \"indicadorDespesaAtiva\": \"S\"}, {\"codigo\": 1348, \"nome\": \"M\\u00e1scaras\", \"codigoCategoriaAgrupadora\": 1337, \"indicadorDespesaAtiva\": \"S\"}, {\"codigo\": 1349, \"nome\": \"Faceshields\", \"codigoCategoriaAgrupadora\": 1337, \"indicadorDespesaAtiva\": \"S\"}, {\"codigo\": 1350, \"nome\": \"Prote\\u00e7\\u00e3o acr\\u00edlica para mesas/carteiras\", \"codigoCategoriaAgrupadora\": 1337, \"indicadorDespesaAtiva\": \"S\"}, {\"codigo\": 1351, \"nome\": \"PDDE SP - DESCART\\u00c1VEIS - Custeio\", \"codigoCategoriaAgrupadora\": 0, \"indicadorDespesaAtiva\": \"S\"}, {\"codigo\": 1352, \"nome\": \"Mobili\\u00e1rios, equipamentos e utens\\u00edlios\", \"codigoCategoriaAgrupadora\": 1351, \"indicadorDespesaAtiva\": \"S\"}, {\"codigo\": 1353, \"nome\": \"Embalagens para acondicionamentos de alimentos\", \"codigoCategoriaAgrupadora\": 1352, \"indicadorDespesaAtiva\": \"S\"}, {\"codigo\": 1354, \"nome\": \"Pratos descart\\u00e1veis\", \"codigoCategoriaAgrupadora\": 1352, \"indicadorDespesaAtiva\": \"S\"}, {\"codigo\": 1355, \"nome\": \"Copos descart\\u00e1veis\", \"codigoCategoriaAgrupadora\": 1352, \"indicadorDespesaAtiva\": \"S\"}, {\"codigo\": 1356, \"nome\": \"PDDE SP - KIT CMSP -  Capital\", \"codigoCategoriaAgrupadora\": 0, \"indicadorDespesaAtiva\": \"S\"}, {\"codigo\": 1357, \"nome\": \"Tecnologia e inova\\u00e7\\u00e3o\", \"codigoCategoriaAgrupadora\": 1356, \"indicadorDespesaAtiva\": \"S\"}, {\"codigo\": 1358, \"nome\": \"Televisor\", \"codigoCategoriaAgrupadora\": 1357, \"indicadorDespesaAtiva\": \"S\"}, {\"codigo\": 1359, \"nome\": \"Moldura touch screen\", \"codigoCategoriaAgrupadora\": 1357, \"indicadorDespesaAtiva\": \"S\"}, {\"codigo\": 1360, \"nome\": \"Webcam\", \"codigoCategoriaAgrupadora\": 1357, \"indicadorDespesaAtiva\": \"S\"}, {\"codigo\": 1361, \"nome\": \"Caixas de som\", \"codigoCategoriaAgrupadora\": 1357, \"indicadorDespesaAtiva\": \"S\"}, {\"codigo\": 1362, \"nome\": \"Microfone - Microfone Bast\\u00e3o\", \"codigoCategoriaAgrupadora\": 1357, \"indicadorDespesaAtiva\": \"S\"}, {\"codigo\": 1363, \"nome\": \"Microfone - Microfone de mesa\", \"codigoCategoriaAgrupadora\": 1357, \"indicadorDespesaAtiva\": \"S\"}, {\"codigo\": 1364, \"nome\": \"Microfone - Microfone de lapela\", \"codigoCategoriaAgrupadora\": 1357, \"indicadorDespesaAtiva\": \"S\"}, {\"codigo\": 1365, \"nome\": \"Suporte para televisores - Fixo\", \"codigoCategoriaAgrupadora\": 1357, \"indicadorDespesaAtiva\": \"S\"}, {\"codigo\": 1366, \"nome\": \"Suporte para televisores - M\\u00f3vel\", \"codigoCategoriaAgrupadora\": 1357, \"indicadorDespesaAtiva\": \"S\"}, {\"codigo\": 1367, \"nome\": \"Estabilizador\", \"codigoCategoriaAgrupadora\": 1357, \"indicadorDespesaAtiva\": \"S\"}, {\"codigo\": 1368, \"nome\": \"Nobreak\", \"codigoCategoriaAgrupadora\": 1357, \"indicadorDespesaAtiva\": \"S\"}, {\"codigo\": 1369, \"nome\": \"Equipamento de proje\\u00e7\\u00e3o de imagens\", \"codigoCategoriaAgrupadora\": 1357, \"indicadorDespesaAtiva\": \"S\"}, {\"codigo\": 1370, \"nome\": \"Lousa digital / Tela touchscreen\", \"codigoCategoriaAgrupadora\": 1357, \"indicadorDespesaAtiva\": \"S\"}, {\"codigo\": 1371, \"nome\": \"PDDE SP - REGULAR - Custeio\", \"codigoCategoriaAgrupadora\": 0, \"indicadorDespesaAtiva\": \"S\"}, {\"codigo\": 1372, \"nome\": \"Higiene e limpeza\", \"codigoCategoriaAgrupadora\": 1371, \"indicadorDespesaAtiva\": \"S\"}, {\"codigo\": 1373, \"nome\": \"Equipamentos de prote\\u00e7\\u00e3o individual - EPIs\", \"codigoCategoriaAgrupadora\": 1371, \"indicadorDespesaAtiva\": \"S\"}, {\"codigo\": 1374, \"nome\": \"Manuten\\u00e7\\u00e3o e pequenos reparos\", \"codigoCategoriaAgrupadora\": 1371, \"indicadorDespesaAtiva\": \"S\"}, {\"codigo\": 1375, \"nome\": \"Institucionaliza\\u00e7\\u00e3o da APM\", \"codigoCategoriaAgrupadora\": 1371, \"indicadorDespesaAtiva\": \"S\"}, {\"codigo\": 1376, \"nome\": \"Mobili\\u00e1rios, equipamentos e utens\\u00edlios\", \"codigoCategoriaAgrupadora\": 1371, \"indicadorDespesaAtiva\": \"S\"}, {\"codigo\": 1377, \"nome\": \"Materiais administrativos\", \"codigoCategoriaAgrupadora\": 1371, \"indicadorDespesaAtiva\": \"S\"}, {\"codigo\": 1378, \"nome\": \"Materiais e servi\\u00e7os pedag\\u00f3gicos\", \"codigoCategoriaAgrupadora\": 1371, \"indicadorDespesaAtiva\": \"S\"}, {\"codigo\": 1379, \"nome\": \"Itens de seguran\\u00e7a\", \"codigoCategoriaAgrupadora\": 1371, \"indicadorDespesaAtiva\": \"S\"}, {\"codigo\": 1380, \"nome\": \"Tecnologia e inova\\u00e7\\u00e3o\", \"codigoCategoriaAgrupadora\": 1371, \"indicadorDespesaAtiva\": \"S\"}, {\"codigo\": 1381, \"nome\": \"Manuten\\u00e7\\u00e3o e pequenos reparos\", \"codigoCategoriaAgrupadora\": 1371, \"indicadorDespesaAtiva\": \"S\"}, {\"codigo\": 1382, \"nome\": \"M\\u00e1scaras\", \"codigoCategoriaAgrupadora\": 1373, \"indicadorDespesaAtiva\": \"S\"}, {\"codigo\": 1383, \"nome\": \"Faceshields\", \"codigoCategoriaAgrupadora\": 1373, \"indicadorDespesaAtiva\": \"S\"}, {\"codigo\": 1384, \"nome\": \"Prote\\u00e7\\u00e3o acr\\u00edlica para mesas/carteiras\", \"codigoCategoriaAgrupadora\": 1373, \"indicadorDespesaAtiva\": \"S\"}, {\"codigo\": 1385, \"nome\": \"\\u00c1lcool em gel\", \"codigoCategoriaAgrupadora\": 1372, \"indicadorDespesaAtiva\": \"S\"}, {\"codigo\": 1386, \"nome\": \"\\u00c1lcool 96\\u00b0\", \"codigoCategoriaAgrupadora\": 1372, \"indicadorDespesaAtiva\": \"S\"}, {\"codigo\": 1387, \"nome\": \"\\u00c1gua sanit\\u00e1ria\", \"codigoCategoriaAgrupadora\": 1372, \"indicadorDespesaAtiva\": \"S\"}, {\"codigo\": 1388, \"nome\": \"Sabonete l\\u00edquido\", \"codigoCategoriaAgrupadora\": 1372, \"indicadorDespesaAtiva\": \"S\"}, {\"codigo\": 1389, \"nome\": \"Papel toalha\", \"codigoCategoriaAgrupadora\": 1372, \"indicadorDespesaAtiva\": \"S\"}, {\"codigo\": 1390, \"nome\": \"Papel higi\\u00eanico\", \"codigoCategoriaAgrupadora\": 1372, \"indicadorDespesaAtiva\": \"S\"}, {\"codigo\": 1391, \"nome\": \"Servi\\u00e7os de sanitiza\\u00e7\\u00e3o\", \"codigoCategoriaAgrupadora\": 1372, \"indicadorDespesaAtiva\": \"S\"}, {\"codigo\": 1392, \"nome\": \"Toten de \\u00e1lcool em gel\", \"codigoCategoriaAgrupadora\": 1372, \"indicadorDespesaAtiva\": \"S\"}, {\"codigo\": 1393, \"nome\": \"Tapete sanitizante\", \"codigoCategoriaAgrupadora\": 1372, \"indicadorDespesaAtiva\": \"S\"}, {\"codigo\": 1394, \"nome\": \"Outros materiais de higiene e limpeza\", \"codigoCategoriaAgrupadora\": 1372, \"indicadorDespesaAtiva\": \"S\"}, {\"codigo\": 1395, \"nome\": \"Servi\\u00e7os cartor\\u00e1rios\", \"codigoCategoriaAgrupadora\": 1375, \"indicadorDespesaAtiva\": \"S\"}, {\"codigo\": 1396, \"nome\": \"Extintor - Recarga de extintores\", \"codigoCategoriaAgrupadora\": 1379, \"indicadorDespesaAtiva\": \"S\"}, {\"codigo\": 1397, \"nome\": \"Outros itens de seguran\\u00e7a - Renova\\u00e7\\u00e3o de Auto de Vistoria do Corpo de Bombeiros\", \"codigoCategoriaAgrupadora\": 1379, \"indicadorDespesaAtiva\": \"S\"}, {\"codigo\": 1398, \"nome\": \"Sistema de filmagem\", \"codigoCategoriaAgrupadora\": 1379, \"indicadorDespesaAtiva\": \"S\"}, {\"codigo\": 1399, \"nome\": \"Sistema de alarmes\", \"codigoCategoriaAgrupadora\": 1379, \"indicadorDespesaAtiva\": \"S\"}, {\"codigo\": 1400, \"nome\": \"Sistema de sinaliza\\u00e7\\u00e3o - Sistema de sinaliza\\u00e7\\u00e3o - Placas de Sinaliza\\u00e7\\u00e3o\", \"codigoCategoriaAgrupadora\": 1379, \"indicadorDespesaAtiva\": \"S\"}, {\"codigo\": 1401, \"nome\": \"Sistema de sinaliza\\u00e7\\u00e3o - Sistema de sinaliza\\u00e7\\u00e3o - Ilumina\\u00e7\\u00e3o de emerg\\u00eancia\", \"codigoCategoriaAgrupadora\": 1379, \"indicadorDespesaAtiva\": \"S\"}, {\"codigo\": 1402, \"nome\": \"Sistema de detec\\u00e7\\u00e3o\", \"codigoCategoriaAgrupadora\": 1379, \"indicadorDespesaAtiva\": \"S\"}, {\"codigo\": 1403, \"nome\": \"Equipamentos de combate a inc\\u00eandio, resgate e salvamento - Bombas de recalque (reserva de inc\\u00eandio)\", \"codigoCategoriaAgrupadora\": 1379, \"indicadorDespesaAtiva\": \"S\"}, {\"codigo\": 1404, \"nome\": \"Equipamentos de combate a inc\\u00eandio, resgate e salvamento - Hidrantes / mangotinhos\", \"codigoCategoriaAgrupadora\": 1379, \"indicadorDespesaAtiva\": \"S\"}, {\"codigo\": 1405, \"nome\": \"Equipamentos de combate a inc\\u00eandio, resgate e salvamento - Sistema de chuveiros / sprinklers\", \"codigoCategoriaAgrupadora\": 1379, \"indicadorDespesaAtiva\": \"S\"}, {\"codigo\": 1406, \"nome\": \"Extintor - Troca de extintor\", \"codigoCategoriaAgrupadora\": 1379, \"indicadorDespesaAtiva\": \"S\"}, {\"codigo\": 1407, \"nome\": \"Banheiro - Substitui\\u00e7\\u00e3o de lou\\u00e7as - servi\\u00e7o\", \"codigoCategoriaAgrupadora\": 1374, \"indicadorDespesaAtiva\": \"S\"}, {\"codigo\": 1408, \"nome\": \"Banheiro - Substitui\\u00e7\\u00e3o de lou\\u00e7as - material\", \"codigoCategoriaAgrupadora\": 1374, \"indicadorDespesaAtiva\": \"S\"}, {\"codigo\": 1409, \"nome\": \"Banheiro - Substitui\\u00e7\\u00e3o de metais - servi\\u00e7o\", \"codigoCategoriaAgrupadora\": 1374, \"indicadorDespesaAtiva\": \"S\"}, {\"codigo\": 1410, \"nome\": \"Banheiro - Substitui\\u00e7\\u00e3o de metais - material\", \"codigoCategoriaAgrupadora\": 1374, \"indicadorDespesaAtiva\": \"S\"}, {\"codigo\": 1411, \"nome\": \"Banheiro - Substitui\\u00e7\\u00e3o e reparo de tubula\\u00e7\\u00f5es - servi\\u00e7o\", \"codigoCategoriaAgrupadora\": 1374, \"indicadorDespesaAtiva\": \"S\"}, {\"codigo\": 1412, \"nome\": \"Banheiro - Substitui\\u00e7\\u00e3o e reparo de tubula\\u00e7\\u00f5es - material\", \"codigoCategoriaAgrupadora\": 1374, \"indicadorDespesaAtiva\": \"S\"}, {\"codigo\": 1413, \"nome\": \"Banheiro - Substitui\\u00e7\\u00e3o e reparo de equipamentos - servi\\u00e7o\", \"codigoCategoriaAgrupadora\": 1374, \"indicadorDespesaAtiva\": \"S\"}, {\"codigo\": 1414, \"nome\": \"Banheiro - Substitui\\u00e7\\u00e3o e reparo de equipamentos - material\", \"codigoCategoriaAgrupadora\": 1374, \"indicadorDespesaAtiva\": \"S\"}, {\"codigo\": 1415, \"nome\": \"Instala\\u00e7\\u00f5es Hidr\\u00e1ulicas - Substitui\\u00e7\\u00e3o de metais - servi\\u00e7o\", \"codigoCategoriaAgrupadora\": 1374, \"indicadorDespesaAtiva\": \"S\"}, {\"codigo\": 1416, \"nome\": \"Instala\\u00e7\\u00f5es Hidr\\u00e1ulicas - Substitui\\u00e7\\u00e3o de metais - material\", \"codigoCategoriaAgrupadora\": 1374, \"indicadorDespesaAtiva\": \"S\"}, {\"codigo\": 1417, \"nome\": \"Instala\\u00e7\\u00f5es Hidr\\u00e1ulicas - Substitui\\u00e7\\u00e3o e reparo de tubula\\u00e7\\u00f5es - servi\\u00e7o\", \"codigoCategoriaAgrupadora\": 1374, \"indicadorDespesaAtiva\": \"S\"}, {\"codigo\": 1418, \"nome\": \"Instala\\u00e7\\u00f5es Hidr\\u00e1ulicas - Substitui\\u00e7\\u00e3o e reparo de tubula\\u00e7\\u00f5es - material\", \"codigoCategoriaAgrupadora\": 1374, \"indicadorDespesaAtiva\": \"S\"}, {\"codigo\": 1419, \"nome\": \"Instala\\u00e7\\u00f5es Hidr\\u00e1ulicas - Substitui\\u00e7\\u00e3o e reparo de equipamentos - servi\\u00e7o\", \"codigoCategoriaAgrupadora\": 1374, \"indicadorDespesaAtiva\": \"S\"}, {\"codigo\": 1420, \"nome\": \"Instala\\u00e7\\u00f5es Hidr\\u00e1ulicas - Manuten\\u00e7\\u00e3o de Caixa D \\u00e1gua\", \"codigoCategoriaAgrupadora\": 1374, \"indicadorDespesaAtiva\": \"S\"}, {\"codigo\": 1421, \"nome\": \"Instala\\u00e7\\u00f5es Hidr\\u00e1ulicas - Manuten\\u00e7\\u00e3o de Bombas d \\u00e1gua\", \"codigoCategoriaAgrupadora\": 1374, \"indicadorDespesaAtiva\": \"S\"}, {\"codigo\": 1422, \"nome\": \"Instala\\u00e7\\u00f5es Hidr\\u00e1ulicas - Manuten\\u00e7\\u00e3o de Filtros e Bebebouros\", \"codigoCategoriaAgrupadora\": 1374, \"indicadorDespesaAtiva\": \"S\"}, {\"codigo\": 1423, \"nome\": \"Instala\\u00e7\\u00f5es Hidr\\u00e1ulicas - Limpeza de fossas e rede de esgoto\", \"codigoCategoriaAgrupadora\": 1374, \"indicadorDespesaAtiva\": \"S\"}, {\"codigo\": 1424, \"nome\": \"Manuten\\u00e7\\u00e3o de Janelas - Substitui\\u00e7\\u00e3o e Reparo de Janelas - servi\\u00e7o\", \"codigoCategoriaAgrupadora\": 1374, \"indicadorDespesaAtiva\": \"S\"}, {\"codigo\": 1425, \"nome\": \"Manuten\\u00e7\\u00e3o de Janelas - Substitui\\u00e7\\u00e3o e Reparo de Janelas - material\", \"codigoCategoriaAgrupadora\": 1374, \"indicadorDespesaAtiva\": \"S\"}, {\"codigo\": 1426, \"nome\": \"Manuten\\u00e7\\u00e3o de portas - Substitui\\u00e7\\u00e3o e Reparo de portas - servi\\u00e7o\", \"codigoCategoriaAgrupadora\": 1374, \"indicadorDespesaAtiva\": \"S\"}, {\"codigo\": 1427, \"nome\": \"Manuten\\u00e7\\u00e3o de portas - Substitui\\u00e7\\u00e3o e Reparo de portas - material\", \"codigoCategoriaAgrupadora\": 1374, \"indicadorDespesaAtiva\": \"S\"}, {\"codigo\": 1428, \"nome\": \"Reforma de alambrados\", \"codigoCategoriaAgrupadora\": 1374, \"indicadorDespesaAtiva\": \"S\"}, {\"codigo\": 1429, \"nome\": \"Manuten\\u00e7\\u00e3o de Port\\u00f5es e esquadrias de metal\", \"codigoCategoriaAgrupadora\": 1374, \"indicadorDespesaAtiva\": \"S\"}, {\"codigo\": 1430, \"nome\": \"Manuten\\u00e7\\u00e3o e reparos de muros\", \"codigoCategoriaAgrupadora\": 1374, \"indicadorDespesaAtiva\": \"S\"}, {\"codigo\": 1431, \"nome\": \"Ar-condicionado - Ar-condicionado - servi\\u00e7o de instala\\u00e7\\u00e3o\", \"codigoCategoriaAgrupadora\": 1374, \"indicadorDespesaAtiva\": \"S\"}, {\"codigo\": 1432, \"nome\": \"Ar-condicionado - Ar-condicionado - manuten\\u00e7\\u00e3o\", \"codigoCategoriaAgrupadora\": 1374, \"indicadorDespesaAtiva\": \"S\"}, {\"codigo\": 1433, \"nome\": \"Instala\\u00e7\\u00f5es El\\u00e9tricas - Substitui\\u00e7\\u00e3o e Reparo de Fia\\u00e7\\u00e3o - material\", \"codigoCategoriaAgrupadora\": 1374, \"indicadorDespesaAtiva\": \"S\"}, {\"codigo\": 1434, \"nome\": \"Instala\\u00e7\\u00f5es El\\u00e9tricas - Substitui\\u00e7\\u00e3o e Reparo de Fia\\u00e7\\u00e3o - servi\\u00e7o\", \"codigoCategoriaAgrupadora\": 1374, \"indicadorDespesaAtiva\": \"S\"}, {\"codigo\": 1435, \"nome\": \"Instala\\u00e7\\u00f5es El\\u00e9tricas - Substitui\\u00e7\\u00e3o e Reparo de Equipamentos - material\", \"codigoCategoriaAgrupadora\": 1374, \"indicadorDespesaAtiva\": \"S\"}, {\"codigo\": 1436, \"nome\": \"Instala\\u00e7\\u00f5es El\\u00e9tricas - Substitui\\u00e7\\u00e3o e Reparo de Equipamentos - servi\\u00e7o\", \"codigoCategoriaAgrupadora\": 1374, \"indicadorDespesaAtiva\": \"S\"}, {\"codigo\": 1437, \"nome\": \"Instala\\u00e7\\u00f5es El\\u00e9tricas - Alimenta\\u00e7\\u00e3o e Cabine Prim\\u00e1ria - material\", \"codigoCategoriaAgrupadora\": 1374, \"indicadorDespesaAtiva\": \"S\"}, {\"codigo\": 1438, \"nome\": \"Instala\\u00e7\\u00f5es El\\u00e9tricas - Alimenta\\u00e7\\u00e3o e Cabine Prim\\u00e1ria - servi\\u00e7o\", \"codigoCategoriaAgrupadora\": 1374, \"indicadorDespesaAtiva\": \"S\"}, {\"codigo\": 1439, \"nome\": \"Cobertura - Manuten\\u00e7\\u00e3o de telhas - material\", \"codigoCategoriaAgrupadora\": 1374, \"indicadorDespesaAtiva\": \"S\"}, {\"codigo\": 1440, \"nome\": \"Cobertura - Manuten\\u00e7\\u00e3o do telhas - servi\\u00e7o\", \"codigoCategoriaAgrupadora\": 1374, \"indicadorDespesaAtiva\": \"S\"}, {\"codigo\": 1441, \"nome\": \"Cobertura - Manuten\\u00e7\\u00e3o da estrutura - material\", \"codigoCategoriaAgrupadora\": 1374, \"indicadorDespesaAtiva\": \"S\"}, {\"codigo\": 1442, \"nome\": \"Cobertura - Manuten\\u00e7\\u00e3o da estrutura - servi\\u00e7o\", \"codigoCategoriaAgrupadora\": 1374, \"indicadorDespesaAtiva\": \"S\"}, {\"codigo\": 1443, \"nome\": \"Revestimentos e Pintura - Substitui\\u00e7\\u00e3o e Reparo de revestimentos - material\", \"codigoCategoriaAgrupadora\": 1374, \"indicadorDespesaAtiva\": \"S\"}, {\"codigo\": 1444, \"nome\": \"Revestimentos e Pintura - Substitui\\u00e7\\u00e3o e Reparo de revestimentos - servi\\u00e7o\", \"codigoCategoriaAgrupadora\": 1374, \"indicadorDespesaAtiva\": \"S\"}, {\"codigo\": 1445, \"nome\": \"Revestimentos e Pintura - Pintura - Material de Pintura\", \"codigoCategoriaAgrupadora\": 1374, \"indicadorDespesaAtiva\": \"S\"}, {\"codigo\": 1446, \"nome\": \"Revestimentos e Pintura - Pintura - Servi\\u00e7o de Pintura\", \"codigoCategoriaAgrupadora\": 1374, \"indicadorDespesaAtiva\": \"S\"}, {\"codigo\": 1447, \"nome\": \"Outros Servi\\u00e7os - Servi\\u00e7os de marcenaria\", \"codigoCategoriaAgrupadora\": 1374, \"indicadorDespesaAtiva\": \"S\"}, {\"codigo\": 1448, \"nome\": \"Outros Servi\\u00e7os - Materiais de marcenaria\", \"codigoCategoriaAgrupadora\": 1374, \"indicadorDespesaAtiva\": \"S\"}, {\"codigo\": 1449, \"nome\": \"Outros Servi\\u00e7os - Servi\\u00e7os de carpintaria\", \"codigoCategoriaAgrupadora\": 1374, \"indicadorDespesaAtiva\": \"S\"}, {\"codigo\": 1450, \"nome\": \"Outros Servi\\u00e7os - Materiais de carpintaria\", \"codigoCategoriaAgrupadora\": 1374, \"indicadorDespesaAtiva\": \"S\"}, {\"codigo\": 1451, \"nome\": \"Outros Servi\\u00e7os - Servi\\u00e7os de serralheria\", \"codigoCategoriaAgrupadora\": 1374, \"indicadorDespesaAtiva\": \"S\"}, {\"codigo\": 1452, \"nome\": \"Outros Servi\\u00e7os - Materiais de serralheria\", \"codigoCategoriaAgrupadora\": 1374, \"indicadorDespesaAtiva\": \"S\"}, {\"codigo\": 1453, \"nome\": \"Outros Servi\\u00e7os - Materiais e servi\\u00e7os de jardinagem\", \"codigoCategoriaAgrupadora\": 1374, \"indicadorDespesaAtiva\": \"S\"}, {\"codigo\": 1454, \"nome\": \"Outros Servi\\u00e7os - Tape\\u00e7arias, cortinas e persianas \", \"codigoCategoriaAgrupadora\": 1374, \"indicadorDespesaAtiva\": \"S\"}, {\"codigo\": 1455, \"nome\": \"Manejo - Poda de \\u00e1rvore\", \"codigoCategoriaAgrupadora\": 1374, \"indicadorDespesaAtiva\": \"S\"}, {\"codigo\": 1456, \"nome\": \"Manejo - Supress\\u00e3o de \\u00e1rvore\", \"codigoCategoriaAgrupadora\": 1374, \"indicadorDespesaAtiva\": \"S\"}, {\"codigo\": 1457, \"nome\": \"Manejo - Laudo de avalia\\u00e7\\u00e3o - elementos arb\\u00f3reos\", \"codigoCategoriaAgrupadora\": 1374, \"indicadorDespesaAtiva\": \"S\"}, {\"codigo\": 1458, \"nome\": \"Ar-condicionado - Ar-condicionado -material\", \"codigoCategoriaAgrupadora\": 1374, \"indicadorDespesaAtiva\": \"S\"}, {\"codigo\": 1459, \"nome\": \"Materiais e ferramentas de constru\\u00e7\\u00e3o\", \"codigoCategoriaAgrupadora\": 1374, \"indicadorDespesaAtiva\": \"S\"}, {\"codigo\": 1460, \"nome\": \"Equipamentos e servi\\u00e7os de quadra poliesportiva\", \"codigoCategoriaAgrupadora\": 1374, \"indicadorDespesaAtiva\": \"S\"}, {\"codigo\": 1461, \"nome\": \"Itens de papelaria\", \"codigoCategoriaAgrupadora\": 1377, \"indicadorDespesaAtiva\": \"S\"}, {\"codigo\": 1462, \"nome\": \"Artigos para escrit\\u00f3rio\", \"codigoCategoriaAgrupadora\": 1377, \"indicadorDespesaAtiva\": \"S\"}, {\"codigo\": 1463, \"nome\": \"Outros materiais administrativos\", \"codigoCategoriaAgrupadora\": 1377, \"indicadorDespesaAtiva\": \"S\"}, {\"codigo\": 1464, \"nome\": \"M\\u00e1quinas e equipamentos para escrit\\u00f3rios\", \"codigoCategoriaAgrupadora\": 1377, \"indicadorDespesaAtiva\": \"S\"}, {\"codigo\": 1465, \"nome\": \"Materiais e suprimentos de papelaria\", \"codigoCategoriaAgrupadora\": 1378, \"indicadorDespesaAtiva\": \"S\"}, {\"codigo\": 1466, \"nome\": \"Equipamentos, materiais e uniformes esportivos\", \"codigoCategoriaAgrupadora\": 1378, \"indicadorDespesaAtiva\": \"S\"}, {\"codigo\": 1467, \"nome\": \"Medalhas, trof\\u00e9us e premia\\u00e7\\u00f5es\", \"codigoCategoriaAgrupadora\": 1378, \"indicadorDespesaAtiva\": \"S\"}, {\"codigo\": 1468, \"nome\": \"Materiais para Salas de Recurso de consumo\", \"codigoCategoriaAgrupadora\": 1378, \"indicadorDespesaAtiva\": \"S\"}, {\"codigo\": 1469, \"nome\": \"Materiais e equipamentos para Eletivas\", \"codigoCategoriaAgrupadora\": 1378, \"indicadorDespesaAtiva\": \"S\"}, {\"codigo\": 1470, \"nome\": \"Materiais e equipamentos para Projeto de Vida\", \"codigoCategoriaAgrupadora\": 1378, \"indicadorDespesaAtiva\": \"S\"}, {\"codigo\": 1471, \"nome\": \"Materiais e equipamentos para Arte\", \"codigoCategoriaAgrupadora\": 1378, \"indicadorDespesaAtiva\": \"S\"}, {\"codigo\": 1472, \"nome\": \"Jogos e brinquedos educativos\", \"codigoCategoriaAgrupadora\": 1378, \"indicadorDespesaAtiva\": \"S\"}, {\"codigo\": 1473, \"nome\": \"Livros, mapas e outras publica\\u00e7\\u00f5es\", \"codigoCategoriaAgrupadora\": 1378, \"indicadorDespesaAtiva\": \"S\"}, {\"codigo\": 1474, \"nome\": \"Outros materiais e servi\\u00e7os pedag\\u00f3gicos\", \"codigoCategoriaAgrupadora\": 1378, \"indicadorDespesaAtiva\": \"S\"}, {\"codigo\": 1475, \"nome\": \"Materiais e equipamentos para Tecnologia e Inova\\u00e7\\u00e3o\", \"codigoCategoriaAgrupadora\": 1378, \"indicadorDespesaAtiva\": \"S\"}, {\"codigo\": 1476, \"nome\": \"Materiais e equipamentos para laborat\\u00f3rio de ci\\u00eancias\", \"codigoCategoriaAgrupadora\": 1378, \"indicadorDespesaAtiva\": \"S\"}, {\"codigo\": 1477, \"nome\": \"Lixeiras\", \"codigoCategoriaAgrupadora\": 1376, \"indicadorDespesaAtiva\": \"S\"}, {\"codigo\": 1478, \"nome\": \"Manuten\\u00e7\\u00e3o e conserto de eletrodom\\u00e9sticos\", \"codigoCategoriaAgrupadora\": 1376, \"indicadorDespesaAtiva\": \"S\"}, {\"codigo\": 1479, \"nome\": \"Manuten\\u00e7\\u00e3o e conserto de mobili\\u00e1rio de cozinha\", \"codigoCategoriaAgrupadora\": 1376, \"indicadorDespesaAtiva\": \"S\"}, {\"codigo\": 1480, \"nome\": \"Rede de inform\\u00e1tica - Instala\\u00e7\\u00e3o de ponto de rede\", \"codigoCategoriaAgrupadora\": 1380, \"indicadorDespesaAtiva\": \"S\"}, {\"codigo\": 1481, \"nome\": \"Rede de inform\\u00e1tica - manuten\\u00e7\\u00e3o de ponto de rede\", \"codigoCategoriaAgrupadora\": 1380, \"indicadorDespesaAtiva\": \"S\"}, {\"codigo\": 1482, \"nome\": \"Servi\\u00e7os de manuten\\u00e7\\u00e3o para equipamentos de inform\\u00e1tica - Caixa de som\", \"codigoCategoriaAgrupadora\": 1380, \"indicadorDespesaAtiva\": \"S\"}, {\"codigo\": 1483, \"nome\": \"Servi\\u00e7os de manuten\\u00e7\\u00e3o para equipamentos de inform\\u00e1tica - impressora\", \"codigoCategoriaAgrupadora\": 1380, \"indicadorDespesaAtiva\": \"S\"}, {\"codigo\": 1484, \"nome\": \"Servi\\u00e7os de manuten\\u00e7\\u00e3o para equipamentos de inform\\u00e1tica - desktop\", \"codigoCategoriaAgrupadora\": 1380, \"indicadorDespesaAtiva\": \"S\"}, {\"codigo\": 1485, \"nome\": \"Servi\\u00e7os de manuten\\u00e7\\u00e3o para equipamentos de inform\\u00e1tica - notebook\", \"codigoCategoriaAgrupadora\": 1380, \"indicadorDespesaAtiva\": \"S\"}, {\"codigo\": 1486, \"nome\": \"Servi\\u00e7os de manuten\\u00e7\\u00e3o para equipamentos de inform\\u00e1tica - monitor/televisor\", \"codigoCategoriaAgrupadora\": 1380, \"indicadorDespesaAtiva\": \"S\"}, {\"codigo\": 1487, \"nome\": \"Servi\\u00e7os de manuten\\u00e7\\u00e3o para equipamentos de inform\\u00e1tica - projetor\", \"codigoCategoriaAgrupadora\": 1380, \"indicadorDespesaAtiva\": \"S\"}, {\"codigo\": 1488, \"nome\": \"Servi\\u00e7os de manuten\\u00e7\\u00e3o para equipamentos de inform\\u00e1tica - scanner\", \"codigoCategoriaAgrupadora\": 1380, \"indicadorDespesaAtiva\": \"S\"}, {\"codigo\": 1489, \"nome\": \"Servi\\u00e7os de manuten\\u00e7\\u00e3o para equipamentos de inform\\u00e1tica - outros\", \"codigoCategoriaAgrupadora\": 1380, \"indicadorDespesaAtiva\": \"S\"}, {\"codigo\": 1490, \"nome\": \"Perif\\u00e9ricos para equipamentos de inform\\u00e1tica - Cabos\", \"codigoCategoriaAgrupadora\": 1380, \"indicadorDespesaAtiva\": \"S\"}, {\"codigo\": 1491, \"nome\": \"Perif\\u00e9ricos para equipamentos de inform\\u00e1tica - Mouse\", \"codigoCategoriaAgrupadora\": 1380, \"indicadorDespesaAtiva\": \"S\"}, {\"codigo\": 1492, \"nome\": \"Perif\\u00e9ricos para equipamentos de inform\\u00e1tica - Teclado\", \"codigoCategoriaAgrupadora\": 1380, \"indicadorDespesaAtiva\": \"S\"}, {\"codigo\": 1493, \"nome\": \"Perif\\u00e9ricos para equipamentos de inform\\u00e1tica - fontes\", \"codigoCategoriaAgrupadora\": 1380, \"indicadorDespesaAtiva\": \"S\"}, {\"codigo\": 1494, \"nome\": \"Perif\\u00e9ricos para equipamentos de inform\\u00e1tica - Outros\", \"codigoCategoriaAgrupadora\": 1380, \"indicadorDespesaAtiva\": \"S\"}, {\"codigo\": 1495, \"nome\": \"Pe\\u00e7as internas para equipamentos de inform\\u00e1tica - Mem\\u00f3ria\", \"codigoCategoriaAgrupadora\": 1380, \"indicadorDespesaAtiva\": \"S\"}, {\"codigo\": 1496, \"nome\": \"Pe\\u00e7as internas para equipamentos de inform\\u00e1tica - Processador\", \"codigoCategoriaAgrupadora\": 1380, \"indicadorDespesaAtiva\": \"S\"}, {\"codigo\": 1497, \"nome\": \"Pe\\u00e7as internas para equipamentos de inform\\u00e1tica - Disco R\\u00edgido\", \"codigoCategoriaAgrupadora\": 1380, \"indicadorDespesaAtiva\": \"S\"}, {\"codigo\": 1498, \"nome\": \"Pe\\u00e7as internas para equipamentos de inform\\u00e1tica - Placa M\\u00e3e\", \"codigoCategoriaAgrupadora\": 1380, \"indicadorDespesaAtiva\": \"S\"}, {\"codigo\": 1499, \"nome\": \"Pe\\u00e7as internas para equipamentos de inform\\u00e1tica - Placa de v\\u00eddeo\", \"codigoCategoriaAgrupadora\": 1380, \"indicadorDespesaAtiva\": \"S\"}, {\"codigo\": 1500, \"nome\": \"Pe\\u00e7as internas para equipamentos de inform\\u00e1tica - el\\u00e9trica\", \"codigoCategoriaAgrupadora\": 1380, \"indicadorDespesaAtiva\": \"S\"}, {\"codigo\": 1501, \"nome\": \"Pe\\u00e7as internas para equipamentos de inform\\u00e1tica - outros\", \"codigoCategoriaAgrupadora\": 1380, \"indicadorDespesaAtiva\": \"S\"}, {\"codigo\": 1502, \"nome\": \"Aquisi\\u00e7\\u00e3o de software para atividades pedag\\u00f3gicas\", \"codigoCategoriaAgrupadora\": 1380, \"indicadorDespesaAtiva\": \"S\"}, {\"codigo\": 1503, \"nome\": \"Headphone e headset\", \"codigoCategoriaAgrupadora\": 1380, \"indicadorDespesaAtiva\": \"S\"}, {\"codigo\": 1504, \"nome\": \"Outros itens de tecnologia e inova\\u00e7\\u00e3o\", \"codigoCategoriaAgrupadora\": 1380, \"indicadorDespesaAtiva\": \"S\"}, {\"codigo\": 1505, \"nome\": \"e\", \"codigoCategoriaAgrupadora\": 3, \"indicadorDespesaAtiva\": \"S\"}, {\"codigo\": 1506, \"nome\": \"rrr\", \"codigoCategoriaAgrupadora\": 1, \"indicadorDespesaAtiva\": \"S\"}, {\"codigo\": 1507, \"nome\": \"tt\", \"codigoCategoriaAgrupadora\": 1506, \"indicadorDespesaAtiva\": \"S\"}, {\"codigo\": 1508, \"nome\": \"o\", \"codigoCategoriaAgrupadora\": 3, \"indicadorDespesaAtiva\": \"S\"}, {\"codigo\": 1509, \"nome\": \"xx\", \"codigoCategoriaAgrupadora\": 1506, \"indicadorDespesaAtiva\": \"S\"}, {\"codigo\": 1510, \"nome\": \"yy\", \"codigoCategoriaAgrupadora\": 1506, \"indicadorDespesaAtiva\": \"S\"}, {\"codigo\": 1511, \"nome\": \"zz\", \"codigoCategoriaAgrupadora\": 1506, \"indicadorDespesaAtiva\": \"S\"}, {\"codigo\": 1512, \"nome\": \"uu\", \"codigoCategoriaAgrupadora\": 1506, \"indicadorDespesaAtiva\": \"S\"}, {\"codigo\": 1513, \"nome\": \"nn\", \"codigoCategoriaAgrupadora\": 1506, \"indicadorDespesaAtiva\": \"S\"}, {\"codigo\": 1514, \"nome\": \"bb\", \"codigoCategoriaAgrupadora\": 1506, \"indicadorDespesaAtiva\": \"S\"}, {\"codigo\": 1515, \"nome\": \"cc\", \"codigoCategoriaAgrupadora\": 1506, \"indicadorDespesaAtiva\": \"S\"}, {\"codigo\": 1516, \"nome\": \"aa\", \"codigoCategoriaAgrupadora\": 1506, \"indicadorDespesaAtiva\": \"S\"}, {\"codigo\": 1517, \"nome\": \"ee\", \"codigoCategoriaAgrupadora\": 1506, \"indicadorDespesaAtiva\": \"S\"}, {\"codigo\": 1518, \"nome\": \"ii\", \"codigoCategoriaAgrupadora\": 1506, \"indicadorDespesaAtiva\": \"S\"}, {\"codigo\": 1519, \"nome\": \"oo\", \"codigoCategoriaAgrupadora\": 1506, \"indicadorDespesaAtiva\": \"S\"}, {\"codigo\": 1520, \"nome\": \"uu\", \"codigoCategoriaAgrupadora\": 1506, \"indicadorDespesaAtiva\": \"S\"}]}))\n        });\n        "
                    },
                    "metadata": {},
                    "output_type": "display_data"
                }
            ],
            "source": [
                "numeroProgramaGoverno = \"3\"\n",
                "\n",
                "token = get_token(keys['client_id'], keys['client_secret'])\n",
                "headers = set_headers()\n",
                "\n",
                "r = requests.get(f\"{path}/programas-governo/{numeroProgramaGoverno}/categorias\", headers=headers)\n",
                "\n",
                "RenderJSON(r.json())"
            ]
        },
        {
            "cell_type": "markdown",
            "metadata": {},
            "source": [
                "### Progamas-lancamentos"
            ]
        },
        {
            "cell_type": "code",
            "execution_count": 20,
            "metadata": {},
            "outputs": [
                {
                    "data": {
                        "text/html": [
                            "<div id=\"eeba7fa1-c422-4b8e-aa5f-ba507c268b9a\" style=\"height: 300px; width:100%;\"></div>"
                        ]
                    },
                    "metadata": {},
                    "output_type": "display_data"
                },
                {
                    "data": {
                        "application/javascript": "\n        require([\"https://rawgit.com/caldwell/renderjson/master/renderjson.js\"], function() {\n          document.getElementById('eeba7fa1-c422-4b8e-aa5f-ba507c268b9a').appendChild(renderjson({\"totalPaginas\": 0, \"listaLancamentos\": []}))\n        });\n        "
                    },
                    "metadata": {},
                    "output_type": "display_data"
                }
            ],
            "source": [
                "numeroProgramaGoverno = \"3\"\n",
                "\n",
                "token = get_token(keys['client_id'], keys['client_secret'])\n",
                "headers = set_headers()\n",
                "\n",
                "body = {\n",
                "    'dataInicio': '2018-10-01',\n",
                "    'dataFim': '2018-10-30',\n",
                "    'pagina': 1\n",
                "}\n",
                "\n",
                "r = requests.get(f\"{path}/programas-governo/{numeroProgramaGoverno}/orgaos-repasse/lancamentos-atualizados\", headers=headers, params=body)\n",
                "\n",
                "RenderJSON(r.json())"
            ]
        },
        {
            "cell_type": "markdown",
            "metadata": {},
            "source": [
                "### Progamas-sublancamentos"
            ]
        },
        {
            "cell_type": "code",
            "execution_count": 21,
            "metadata": {},
            "outputs": [
                {
                    "data": {
                        "text/html": [
                            "<div id=\"cb4ae018-b430-454d-89c9-a578246adcec\" style=\"height: 300px; width:100%;\"></div>"
                        ]
                    },
                    "metadata": {},
                    "output_type": "display_data"
                },
                {
                    "data": {
                        "application/javascript": "\n        require([\"https://rawgit.com/caldwell/renderjson/master/renderjson.js\"], function() {\n          document.getElementById('cb4ae018-b430-454d-89c9-a578246adcec').appendChild(renderjson({\"erros\": [{\"codigo\": \"999999999\", \"versao\": \"1\", \"mensagem\": \"Erro Interno do Servidor\", \"ocorrencia\": \"DCgpo2LToG+njNEznAAc0101\"}]}))\n        });\n        "
                    },
                    "metadata": {},
                    "output_type": "display_data"
                }
            ],
            "source": [
                "numeroProgramaGoverno = \"3\"\n",
                "\n",
                "token = get_token(keys['client_id'], keys['client_secret'])\n",
                "headers = set_headers()\n",
                "\n",
                "body = {\n",
                "    'dataInicio': '2018-10-01',\n",
                "    'dataFim': '2018-10-30',\n",
                "    'pagina': 1\n",
                "}\n",
                "\n",
                "r = requests.get(f\"{path}/programas-governo/{numeroProgramaGoverno}/orgaos-repasse/sublancamentos-atualizados\", headers=headers, params=body)\n",
                "\n",
                "RenderJSON(r.json())"
            ]
        },
        {
            "cell_type": "markdown",
            "metadata": {},
            "source": [
                "## Extratos"
            ]
        },
        {
            "cell_type": "markdown",
            "metadata": {},
            "source": [
                "### Extratos-transacoes"
            ]
        },
        {
            "cell_type": "code",
            "execution_count": 22,
            "metadata": {},
            "outputs": [
                {
                    "data": {
                        "text/html": [
                            "<div id=\"4b40f1c9-f010-44a7-b2aa-b5e5174ce323\" style=\"height: 300px; width:100%;\"></div>"
                        ]
                    },
                    "metadata": {},
                    "output_type": "display_data"
                },
                {
                    "data": {
                        "application/javascript": "\n        require([\"https://rawgit.com/caldwell/renderjson/master/renderjson.js\"], function() {\n          document.getElementById('4b40f1c9-f010-44a7-b2aa-b5e5174ce323').appendChild(renderjson({\"governmentProgramCode\": 3, \"governmentProgramName\": \"ESTRUTURA\\u00c7\\u00c3O\", \"governmentSubProgramCode\": 0, \"governmentSubProgramName\": \"\", \"transactions\": [{\"id\": 6, \"bookingDate\": \"04/10/2018\", \"orderIndex\": 1, \"valueDate\": \"04/10/2018\", \"referenceNumber\": 5205306000035, \"value\": 4182.92, \"accountBalance\": 0, \"descriptionCode\": 132, \"descriptionName\": \"Emiss\\u00e3o de Ordem Banc\\u00e1ria\", \"descriptionBatchNumber\": 13138, \"creditDebitIndicator\": \"D\", \"beneficiaryBankIdentifierCode\": 0, \"beneficiaryBranchCode\": 0, \"beneficiaryAccountNumber\": 0, \"beneficiaryPersonType\": 0, \"beneficiaryDocumentId\": 0, \"beneficiaryName\": \"\", \"pendingExpenseConciliation\": false, \"attachedExpenseDocumentIndicator\": false, \"expenseCategoryCode\": 87, \"expenseIdentificationStatus\": 0, \"subTransactionQuantity\": 2, \"bankOrderPurposeCode\": 2, \"bankOrderRuleCode\": 0, \"bankOrderPurposeDescription\": \"\", \"expensesCategory\": [{\"code\": 87, \"name\": \"Vigil\\u00e2ncia em sa\\u00fade\", \"parentCode\": 0}], \"expensesDocuments\": []}, {\"id\": 8, \"bookingDate\": \"04/10/2018\", \"orderIndex\": 2, \"valueDate\": \"04/10/2018\", \"referenceNumber\": 5211705000015, \"value\": 2148.8, \"accountBalance\": 0, \"descriptionCode\": 632, \"descriptionName\": \"Ordem Banc\\u00e1ria\", \"descriptionBatchNumber\": 14056, \"creditDebitIndicator\": \"C\", \"beneficiaryBankIdentifierCode\": 0, \"beneficiaryBranchCode\": 0, \"beneficiaryAccountNumber\": 0, \"beneficiaryPersonType\": 0, \"beneficiaryDocumentId\": 0, \"beneficiaryName\": \"\", \"pendingExpenseConciliation\": false, \"attachedExpenseDocumentIndicator\": false, \"expenseCategoryCode\": 0, \"expenseIdentificationStatus\": 0, \"subTransactionQuantity\": 0, \"bankOrderPurposeCode\": 2, \"bankOrderRuleCode\": 0, \"bankOrderPurposeDescription\": \"\", \"expensesCategory\": [], \"expensesDocuments\": []}, {\"id\": 10, \"bookingDate\": \"04/10/2018\", \"orderIndex\": 3, \"valueDate\": \"04/10/2018\", \"referenceNumber\": 5217990000051, \"value\": 2310.8, \"descriptionCode\": 632, \"descriptionName\": \"Ordem Banc\\u00e1ria\", \"descriptionBatchNumber\": 14056, \"creditDebitIndicator\": \"C\", \"beneficiaryBankIdentifierCode\": 0, \"beneficiaryBranchCode\": 0, \"beneficiaryAccountNumber\": 0, \"beneficiaryPersonType\": 0, \"beneficiaryDocumentId\": 0, \"beneficiaryName\": \"\", \"pendingExpenseConciliation\": false, \"attachedExpenseDocumentIndicator\": false, \"expenseCategoryCode\": 0, \"expenseIdentificationStatus\": 0, \"subTransactionQuantity\": 0, \"bankOrderPurposeCode\": 2, \"bankOrderRuleCode\": 0, \"bankOrderPurposeDescription\": \"\", \"expensesCategory\": [], \"expensesDocuments\": []}, {\"id\": 11, \"bookingDate\": \"04/10/2018\", \"orderIndex\": 4, \"valueDate\": \"04/10/2018\", \"referenceNumber\": 70, \"value\": 6792.2, \"accountBalance\": 0, \"descriptionCode\": 345, \"descriptionName\": \"Aplica\\u00e7\\u00e3o em BB Fix\", \"descriptionBatchNumber\": 0, \"creditDebitIndicator\": \"D\", \"beneficiaryBankIdentifierCode\": 1, \"beneficiaryBranchCode\": 1144, \"beneficiaryAccountNumber\": 4086, \"beneficiaryPersonType\": 2, \"beneficiaryDocumentId\": 91126773000174, \"beneficiaryName\": \"COMPANHIA ZANETTI PEREIRA\", \"pendingExpenseConciliation\": true, \"attachedExpenseDocumentIndicator\": true, \"expenseCategoryCode\": 87, \"expenseIdentificationStatus\": 0, \"subTransactionQuantity\": 0, \"bankOrderPurposeCode\": 2, \"bankOrderRuleCode\": 0, \"bankOrderPurposeDescription\": \"\", \"expensesCategory\": [{\"code\": 87, \"name\": \"Vigil\\u00e2ncia em sa\\u00fade\", \"parentCode\": 0}], \"expensesDocuments\": [27, 35, 181]}, {\"id\": 7, \"bookingDate\": \"11/10/2018\", \"orderIndex\": 1, \"valueDate\": \"11/10/2018\", \"referenceNumber\": 101101, \"value\": 17829.19, \"accountBalance\": 0, \"descriptionCode\": 393, \"descriptionName\": \"TED Transf.Eletr.Disponivel\", \"descriptionBatchNumber\": 13105, \"creditDebitIndicator\": \"D\", \"beneficiaryBankIdentifierCode\": 1, \"beneficiaryBranchCode\": 1615, \"beneficiaryAccountNumber\": 1353, \"beneficiaryPersonType\": 2, \"beneficiaryDocumentId\": 81284400000178, \"beneficiaryName\": \"RECICLAGEM JUNIOR LOPES\", \"pendingExpenseConciliation\": true, \"attachedExpenseDocumentIndicator\": true, \"expenseCategoryCode\": 87, \"expenseIdentificationStatus\": 0, \"subTransactionQuantity\": 0, \"bankOrderPurposeCode\": 2, \"bankOrderRuleCode\": 0, \"bankOrderPurposeDescription\": \"\", \"expensesCategory\": [{\"code\": 87, \"name\": \"Vigil\\u00e2ncia em sa\\u00fade\", \"parentCode\": 0}], \"expensesDocuments\": [26, 32, 39, 74, 240, 241]}, {\"id\": 9, \"bookingDate\": \"11/10/2018\", \"orderIndex\": 2, \"valueDate\": \"11/10/2018\", \"referenceNumber\": 70, \"value\": 17829.19, \"accountBalance\": 0, \"descriptionCode\": 855, \"descriptionName\": \"Resgate BB Fix\", \"descriptionBatchNumber\": 0, \"creditDebitIndicator\": \"C\", \"beneficiaryBankIdentifierCode\": 0, \"beneficiaryBranchCode\": 0, \"beneficiaryAccountNumber\": 0, \"beneficiaryPersonType\": 0, \"beneficiaryDocumentId\": 0, \"beneficiaryName\": \"\", \"pendingExpenseConciliation\": false, \"attachedExpenseDocumentIndicator\": false, \"expenseCategoryCode\": 0, \"expenseIdentificationStatus\": 0, \"subTransactionQuantity\": 0, \"bankOrderPurposeCode\": 2, \"bankOrderRuleCode\": 0, \"bankOrderPurposeDescription\": \"\", \"expensesCategory\": [], \"expensesDocuments\": []}]}))\n        });\n        "
                    },
                    "metadata": {},
                    "output_type": "display_data"
                }
            ],
            "source": [
                "branchCode = \"551\"\n",
                "accountNumber = \"5420\"\n",
                "data_inicio = \"2018-10-01\"\n",
                "data_fim = \"2018-10-30\"\n",
                "\n",
                "token = get_token(keys['client_id'], keys['client_secret'])\n",
                "headers = set_headers()\n",
                "\n",
                "r = requests.get(f\"{path}/statements/{branchCode}-{accountNumber}?startDate={data_inicio}&endDate={data_fim}\", headers=headers)\n",
                "RenderJSON(r.json())"
            ]
        },
        {
            "cell_type": "code",
            "execution_count": 23,
            "metadata": {},
            "outputs": [
                {
                    "data": {
                        "text/html": [
                            "<div id=\"0445a65d-315e-43a8-a6fe-8df92f59ed3f\" style=\"height: 300px; width:100%;\"></div>"
                        ]
                    },
                    "metadata": {},
                    "output_type": "display_data"
                },
                {
                    "data": {
                        "application/javascript": "\n        require([\"https://rawgit.com/caldwell/renderjson/master/renderjson.js\"], function() {\n          document.getElementById('0445a65d-315e-43a8-a6fe-8df92f59ed3f').appendChild(renderjson({\"governmentProgramCode\": 3, \"governmentProgramName\": \"ESTRUTURA\\u00c7\\u00c3O\", \"governmentSubProgramCode\": 0, \"governmentSubProgramName\": \"\", \"transactions\": [{\"id\": 6, \"bookingDate\": \"04/10/2018\", \"orderIndex\": 1, \"valueDate\": \"04/10/2018\", \"referenceNumber\": 5205306000035, \"value\": 4182.92, \"accountBalance\": 0, \"descriptionCode\": 132, \"descriptionName\": \"Emiss\\u00e3o de Ordem Banc\\u00e1ria\", \"descriptionBatchNumber\": 13138, \"creditDebitIndicator\": \"D\", \"beneficiaryBankIdentifierCode\": 0, \"beneficiaryBranchCode\": 0, \"beneficiaryAccountNumber\": 0, \"beneficiaryPersonType\": 0, \"beneficiaryDocumentId\": 0, \"beneficiaryName\": \"\", \"pendingExpenseConciliation\": false, \"attachedExpenseDocumentIndicator\": false, \"expenseCategoryCode\": 87, \"expenseIdentificationStatus\": 0, \"subTransactionQuantity\": 2, \"bankOrderPurposeCode\": 2, \"bankOrderRuleCode\": 0, \"bankOrderPurposeDescription\": \"\", \"expensesCategory\": [{\"code\": 87, \"parentCode\": 0, \"name\": \"Vigil\\u00e2ncia em sa\\u00fade\"}], \"expensesDocuments\": []}, {\"id\": 8, \"bookingDate\": \"04/10/2018\", \"orderIndex\": 2, \"valueDate\": \"04/10/2018\", \"referenceNumber\": 5211705000015, \"value\": 2148.8, \"accountBalance\": 0, \"descriptionCode\": 632, \"descriptionName\": \"Ordem Banc\\u00e1ria\", \"descriptionBatchNumber\": 14056, \"creditDebitIndicator\": \"C\", \"beneficiaryBankIdentifierCode\": 0, \"beneficiaryBranchCode\": 0, \"beneficiaryAccountNumber\": 0, \"beneficiaryPersonType\": 0, \"beneficiaryDocumentId\": 0, \"beneficiaryName\": \"\", \"pendingExpenseConciliation\": false, \"attachedExpenseDocumentIndicator\": false, \"expenseCategoryCode\": 0, \"expenseIdentificationStatus\": 0, \"subTransactionQuantity\": 0, \"bankOrderPurposeCode\": 2, \"bankOrderRuleCode\": 0, \"bankOrderPurposeDescription\": \"\", \"expensesCategory\": [], \"expensesDocuments\": []}, {\"id\": 10, \"bookingDate\": \"04/10/2018\", \"orderIndex\": 3, \"valueDate\": \"04/10/2018\", \"referenceNumber\": 5217990000051, \"value\": 2310.8, \"descriptionCode\": 632, \"descriptionName\": \"Ordem Banc\\u00e1ria\", \"descriptionBatchNumber\": 14056, \"creditDebitIndicator\": \"C\", \"beneficiaryBankIdentifierCode\": 0, \"beneficiaryBranchCode\": 0, \"beneficiaryAccountNumber\": 0, \"beneficiaryPersonType\": 0, \"beneficiaryDocumentId\": 0, \"beneficiaryName\": \"\", \"pendingExpenseConciliation\": false, \"attachedExpenseDocumentIndicator\": false, \"expenseCategoryCode\": 0, \"expenseIdentificationStatus\": 0, \"subTransactionQuantity\": 0, \"bankOrderPurposeCode\": 2, \"bankOrderRuleCode\": 0, \"bankOrderPurposeDescription\": \"\", \"expensesCategory\": [], \"expensesDocuments\": []}, {\"id\": 11, \"bookingDate\": \"04/10/2018\", \"orderIndex\": 4, \"valueDate\": \"04/10/2018\", \"referenceNumber\": 70, \"value\": 6792.2, \"accountBalance\": 0, \"descriptionCode\": 345, \"descriptionName\": \"Aplica\\u00e7\\u00e3o em BB Fix\", \"descriptionBatchNumber\": 0, \"creditDebitIndicator\": \"D\", \"beneficiaryBankIdentifierCode\": 1, \"beneficiaryBranchCode\": 1144, \"beneficiaryAccountNumber\": 4086, \"beneficiaryPersonType\": 2, \"beneficiaryDocumentId\": 91126773000174, \"beneficiaryName\": \"COMPANHIA ZANETTI PEREIRA\", \"pendingExpenseConciliation\": true, \"attachedExpenseDocumentIndicator\": true, \"expenseCategoryCode\": 87, \"expenseIdentificationStatus\": 0, \"subTransactionQuantity\": 0, \"bankOrderPurposeCode\": 2, \"bankOrderRuleCode\": 0, \"bankOrderPurposeDescription\": \"\", \"expensesCategory\": [{\"code\": 87, \"parentCode\": 0, \"name\": \"Vigil\\u00e2ncia em sa\\u00fade\"}], \"expensesDocuments\": [27, 35, 181]}, {\"id\": 7, \"bookingDate\": \"11/10/2018\", \"orderIndex\": 1, \"valueDate\": \"11/10/2018\", \"referenceNumber\": 101101, \"value\": 17829.19, \"accountBalance\": 0, \"descriptionCode\": 393, \"descriptionName\": \"TED Transf.Eletr.Disponivel\", \"descriptionBatchNumber\": 13105, \"creditDebitIndicator\": \"D\", \"beneficiaryBankIdentifierCode\": 1, \"beneficiaryBranchCode\": 1615, \"beneficiaryAccountNumber\": 1353, \"beneficiaryPersonType\": 2, \"beneficiaryDocumentId\": 81284400000178, \"beneficiaryName\": \"RECICLAGEM JUNIOR LOPES\", \"pendingExpenseConciliation\": true, \"attachedExpenseDocumentIndicator\": true, \"expenseCategoryCode\": 87, \"expenseIdentificationStatus\": 0, \"subTransactionQuantity\": 0, \"bankOrderPurposeCode\": 2, \"bankOrderRuleCode\": 0, \"bankOrderPurposeDescription\": \"\", \"expensesCategory\": [{\"code\": 87, \"parentCode\": 0, \"name\": \"Vigil\\u00e2ncia em sa\\u00fade\"}], \"expensesDocuments\": [26, 32, 39, 74, 240, 241]}, {\"id\": 9, \"bookingDate\": \"11/10/2018\", \"orderIndex\": 2, \"valueDate\": \"11/10/2018\", \"referenceNumber\": 70, \"value\": 17829.19, \"accountBalance\": 0, \"descriptionCode\": 855, \"descriptionName\": \"Resgate BB Fix\", \"descriptionBatchNumber\": 0, \"creditDebitIndicator\": \"C\", \"beneficiaryBankIdentifierCode\": 0, \"beneficiaryBranchCode\": 0, \"beneficiaryAccountNumber\": 0, \"beneficiaryPersonType\": 0, \"beneficiaryDocumentId\": 0, \"beneficiaryName\": \"\", \"pendingExpenseConciliation\": false, \"attachedExpenseDocumentIndicator\": false, \"expenseCategoryCode\": 0, \"expenseIdentificationStatus\": 0, \"subTransactionQuantity\": 0, \"bankOrderPurposeCode\": 2, \"bankOrderRuleCode\": 0, \"bankOrderPurposeDescription\": \"\", \"expensesCategory\": [], \"expensesDocuments\": []}]}))\n        });\n        "
                    },
                    "metadata": {},
                    "output_type": "display_data"
                }
            ],
            "source": [
                "branchCode = \"551\"\n",
                "accountNumber = \"5420\"\n",
                "data_inicio = \"2018-10-01\"\n",
                "data_fim = \"2018-10-30\"\n",
                "\n",
                "token = get_token(keys['client_id'], keys['client_secret'])\n",
                "headers = set_headers()\n",
                "\n",
                "r = requests.get(f\"{path}/statements/{branchCode}-{accountNumber}/control-agencies?startDate={data_inicio}&endDate={data_fim}\", headers=headers)\n",
                "RenderJSON(r.json())"
            ]
        },
        {
            "cell_type": "code",
            "execution_count": 24,
            "metadata": {},
            "outputs": [
                {
                    "data": {
                        "text/html": [
                            "<div>\n",
                            "<style scoped>\n",
                            "    .dataframe tbody tr th:only-of-type {\n",
                            "        vertical-align: middle;\n",
                            "    }\n",
                            "\n",
                            "    .dataframe tbody tr th {\n",
                            "        vertical-align: top;\n",
                            "    }\n",
                            "\n",
                            "    .dataframe thead th {\n",
                            "        text-align: right;\n",
                            "    }\n",
                            "</style>\n",
                            "<table border=\"1\" class=\"dataframe\">\n",
                            "  <thead>\n",
                            "    <tr style=\"text-align: right;\">\n",
                            "      <th></th>\n",
                            "      <th>id</th>\n",
                            "      <th>bookingDate</th>\n",
                            "      <th>orderIndex</th>\n",
                            "      <th>valueDate</th>\n",
                            "      <th>referenceNumber</th>\n",
                            "      <th>value</th>\n",
                            "      <th>accountBalance</th>\n",
                            "      <th>descriptionCode</th>\n",
                            "      <th>descriptionName</th>\n",
                            "      <th>descriptionBatchNumber</th>\n",
                            "      <th>...</th>\n",
                            "      <th>pendingExpenseConciliation</th>\n",
                            "      <th>attachedExpenseDocumentIndicator</th>\n",
                            "      <th>expenseCategoryCode</th>\n",
                            "      <th>expenseIdentificationStatus</th>\n",
                            "      <th>subTransactionQuantity</th>\n",
                            "      <th>bankOrderPurposeCode</th>\n",
                            "      <th>bankOrderRuleCode</th>\n",
                            "      <th>bankOrderPurposeDescription</th>\n",
                            "      <th>expensesCategory</th>\n",
                            "      <th>expensesDocuments</th>\n",
                            "    </tr>\n",
                            "  </thead>\n",
                            "  <tbody>\n",
                            "    <tr>\n",
                            "      <th>0</th>\n",
                            "      <td>6</td>\n",
                            "      <td>04/10/2018</td>\n",
                            "      <td>1</td>\n",
                            "      <td>04/10/2018</td>\n",
                            "      <td>5205306000035</td>\n",
                            "      <td>4182.92</td>\n",
                            "      <td>0.0</td>\n",
                            "      <td>132</td>\n",
                            "      <td>Emissão de Ordem Bancária</td>\n",
                            "      <td>13138</td>\n",
                            "      <td>...</td>\n",
                            "      <td>False</td>\n",
                            "      <td>False</td>\n",
                            "      <td>87</td>\n",
                            "      <td>0</td>\n",
                            "      <td>2</td>\n",
                            "      <td>2</td>\n",
                            "      <td>0</td>\n",
                            "      <td></td>\n",
                            "      <td>[{'code': 87, 'parentCode': 0, 'name': 'Vigilâ...</td>\n",
                            "      <td>[]</td>\n",
                            "    </tr>\n",
                            "    <tr>\n",
                            "      <th>1</th>\n",
                            "      <td>8</td>\n",
                            "      <td>04/10/2018</td>\n",
                            "      <td>2</td>\n",
                            "      <td>04/10/2018</td>\n",
                            "      <td>5211705000015</td>\n",
                            "      <td>2148.80</td>\n",
                            "      <td>0.0</td>\n",
                            "      <td>632</td>\n",
                            "      <td>Ordem Bancária</td>\n",
                            "      <td>14056</td>\n",
                            "      <td>...</td>\n",
                            "      <td>False</td>\n",
                            "      <td>False</td>\n",
                            "      <td>0</td>\n",
                            "      <td>0</td>\n",
                            "      <td>0</td>\n",
                            "      <td>2</td>\n",
                            "      <td>0</td>\n",
                            "      <td></td>\n",
                            "      <td>[]</td>\n",
                            "      <td>[]</td>\n",
                            "    </tr>\n",
                            "    <tr>\n",
                            "      <th>2</th>\n",
                            "      <td>10</td>\n",
                            "      <td>04/10/2018</td>\n",
                            "      <td>3</td>\n",
                            "      <td>04/10/2018</td>\n",
                            "      <td>5217990000051</td>\n",
                            "      <td>2310.80</td>\n",
                            "      <td>NaN</td>\n",
                            "      <td>632</td>\n",
                            "      <td>Ordem Bancária</td>\n",
                            "      <td>14056</td>\n",
                            "      <td>...</td>\n",
                            "      <td>False</td>\n",
                            "      <td>False</td>\n",
                            "      <td>0</td>\n",
                            "      <td>0</td>\n",
                            "      <td>0</td>\n",
                            "      <td>2</td>\n",
                            "      <td>0</td>\n",
                            "      <td></td>\n",
                            "      <td>[]</td>\n",
                            "      <td>[]</td>\n",
                            "    </tr>\n",
                            "    <tr>\n",
                            "      <th>3</th>\n",
                            "      <td>11</td>\n",
                            "      <td>04/10/2018</td>\n",
                            "      <td>4</td>\n",
                            "      <td>04/10/2018</td>\n",
                            "      <td>70</td>\n",
                            "      <td>6792.20</td>\n",
                            "      <td>0.0</td>\n",
                            "      <td>345</td>\n",
                            "      <td>Aplicação em BB Fix</td>\n",
                            "      <td>0</td>\n",
                            "      <td>...</td>\n",
                            "      <td>True</td>\n",
                            "      <td>True</td>\n",
                            "      <td>87</td>\n",
                            "      <td>0</td>\n",
                            "      <td>0</td>\n",
                            "      <td>2</td>\n",
                            "      <td>0</td>\n",
                            "      <td></td>\n",
                            "      <td>[{'code': 87, 'parentCode': 0, 'name': 'Vigilâ...</td>\n",
                            "      <td>[27, 35, 181]</td>\n",
                            "    </tr>\n",
                            "    <tr>\n",
                            "      <th>4</th>\n",
                            "      <td>7</td>\n",
                            "      <td>11/10/2018</td>\n",
                            "      <td>1</td>\n",
                            "      <td>11/10/2018</td>\n",
                            "      <td>101101</td>\n",
                            "      <td>17829.19</td>\n",
                            "      <td>0.0</td>\n",
                            "      <td>393</td>\n",
                            "      <td>TED Transf.Eletr.Disponivel</td>\n",
                            "      <td>13105</td>\n",
                            "      <td>...</td>\n",
                            "      <td>True</td>\n",
                            "      <td>True</td>\n",
                            "      <td>87</td>\n",
                            "      <td>0</td>\n",
                            "      <td>0</td>\n",
                            "      <td>2</td>\n",
                            "      <td>0</td>\n",
                            "      <td></td>\n",
                            "      <td>[{'code': 87, 'parentCode': 0, 'name': 'Vigilâ...</td>\n",
                            "      <td>[26, 32, 39, 74, 240, 241]</td>\n",
                            "    </tr>\n",
                            "    <tr>\n",
                            "      <th>5</th>\n",
                            "      <td>9</td>\n",
                            "      <td>11/10/2018</td>\n",
                            "      <td>2</td>\n",
                            "      <td>11/10/2018</td>\n",
                            "      <td>70</td>\n",
                            "      <td>17829.19</td>\n",
                            "      <td>0.0</td>\n",
                            "      <td>855</td>\n",
                            "      <td>Resgate BB Fix</td>\n",
                            "      <td>0</td>\n",
                            "      <td>...</td>\n",
                            "      <td>False</td>\n",
                            "      <td>False</td>\n",
                            "      <td>0</td>\n",
                            "      <td>0</td>\n",
                            "      <td>0</td>\n",
                            "      <td>2</td>\n",
                            "      <td>0</td>\n",
                            "      <td></td>\n",
                            "      <td>[]</td>\n",
                            "      <td>[]</td>\n",
                            "    </tr>\n",
                            "  </tbody>\n",
                            "</table>\n",
                            "<p>6 rows × 27 columns</p>\n",
                            "</div>"
                        ],
                        "text/plain": [
                            "   id bookingDate  orderIndex   valueDate  referenceNumber     value  \\\n",
                            "0   6  04/10/2018           1  04/10/2018    5205306000035   4182.92   \n",
                            "1   8  04/10/2018           2  04/10/2018    5211705000015   2148.80   \n",
                            "2  10  04/10/2018           3  04/10/2018    5217990000051   2310.80   \n",
                            "3  11  04/10/2018           4  04/10/2018               70   6792.20   \n",
                            "4   7  11/10/2018           1  11/10/2018           101101  17829.19   \n",
                            "5   9  11/10/2018           2  11/10/2018               70  17829.19   \n",
                            "\n",
                            "   accountBalance  descriptionCode              descriptionName  \\\n",
                            "0             0.0              132    Emissão de Ordem Bancária   \n",
                            "1             0.0              632               Ordem Bancária   \n",
                            "2             NaN              632               Ordem Bancária   \n",
                            "3             0.0              345          Aplicação em BB Fix   \n",
                            "4             0.0              393  TED Transf.Eletr.Disponivel   \n",
                            "5             0.0              855               Resgate BB Fix   \n",
                            "\n",
                            "   descriptionBatchNumber  ... pendingExpenseConciliation  \\\n",
                            "0                   13138  ...                      False   \n",
                            "1                   14056  ...                      False   \n",
                            "2                   14056  ...                      False   \n",
                            "3                       0  ...                       True   \n",
                            "4                   13105  ...                       True   \n",
                            "5                       0  ...                      False   \n",
                            "\n",
                            "   attachedExpenseDocumentIndicator  expenseCategoryCode  \\\n",
                            "0                             False                   87   \n",
                            "1                             False                    0   \n",
                            "2                             False                    0   \n",
                            "3                              True                   87   \n",
                            "4                              True                   87   \n",
                            "5                             False                    0   \n",
                            "\n",
                            "   expenseIdentificationStatus  subTransactionQuantity  bankOrderPurposeCode  \\\n",
                            "0                            0                       2                     2   \n",
                            "1                            0                       0                     2   \n",
                            "2                            0                       0                     2   \n",
                            "3                            0                       0                     2   \n",
                            "4                            0                       0                     2   \n",
                            "5                            0                       0                     2   \n",
                            "\n",
                            "  bankOrderRuleCode  bankOrderPurposeDescription  \\\n",
                            "0                 0                                \n",
                            "1                 0                                \n",
                            "2                 0                                \n",
                            "3                 0                                \n",
                            "4                 0                                \n",
                            "5                 0                                \n",
                            "\n",
                            "                                    expensesCategory  \\\n",
                            "0  [{'code': 87, 'parentCode': 0, 'name': 'Vigilâ...   \n",
                            "1                                                 []   \n",
                            "2                                                 []   \n",
                            "3  [{'code': 87, 'parentCode': 0, 'name': 'Vigilâ...   \n",
                            "4  [{'code': 87, 'parentCode': 0, 'name': 'Vigilâ...   \n",
                            "5                                                 []   \n",
                            "\n",
                            "            expensesDocuments  \n",
                            "0                          []  \n",
                            "1                          []  \n",
                            "2                          []  \n",
                            "3               [27, 35, 181]  \n",
                            "4  [26, 32, 39, 74, 240, 241]  \n",
                            "5                          []  \n",
                            "\n",
                            "[6 rows x 27 columns]"
                        ]
                    },
                    "execution_count": 24,
                    "metadata": {},
                    "output_type": "execute_result"
                }
            ],
            "source": [
                "extrato = r.json()\n",
                "pd.DataFrame(extrato['transactions'])"
            ]
        },
        {
            "cell_type": "markdown",
            "metadata": {},
            "source": [
                "### Extratos-subtransacoes"
            ]
        },
        {
            "cell_type": "code",
            "execution_count": 25,
            "metadata": {},
            "outputs": [
                {
                    "data": {
                        "text/html": [
                            "<div id=\"a2aba4cb-f4b8-4116-b904-07869d2985b5\" style=\"height: 300px; width:100%;\"></div>"
                        ]
                    },
                    "metadata": {},
                    "output_type": "display_data"
                },
                {
                    "data": {
                        "application/javascript": "\n        require([\"https://rawgit.com/caldwell/renderjson/master/renderjson.js\"], function() {\n          document.getElementById('a2aba4cb-f4b8-4116-b904-07869d2985b5').appendChild(renderjson({\"governmentProgramCode\": 3, \"governmentProgramName\": \"ESTRUTURA\\u00c7\\u00c3O\", \"governmentSubProgramCode\": 0, \"governmentSubProgramName\": \"\", \"subtransactions\": [{\"id\": 1, \"codeSubtransactionState\": 6, \"paymentStatus\": 3, \"paymentDate\": \"03.01.2019\", \"value\": -3553.27, \"beneficiaryBankIdentifierCode\": 0, \"beneficiaryBranchCode\": 0, \"beneficiaryAccountNumber\": 0, \"beneficiaryPersonType\": 2, \"beneficiaryDocumentId\": 53604999000144, \"beneficiaryName\": \"FERRAGENS DE PAIVA DE MACEDO\", \"attachedExpenseDocumentIndicator\": true, \"expenseCategoryCode\": 7, \"subtransactionAccountabilityIndicator\": true, \"subtransactionAccountabilityName\": \"Pago\", \"bankOrderPurposeCode\": 0, \"bankOrderRuleCode\": 0, \"bankOrderPurposeDescription\": \"\", \"expensesCategory\": [{\"code\": 7, \"name\": \"Hortalicas e derivados\", \"parentCode\": 3}, {\"code\": 3, \"name\": \"Fornecedor Convencional\", \"parentCode\": 1}, {\"code\": 1, \"name\": \"Alimentos\", \"parentCode\": 0}], \"expensesDocuments\": [106]}, {\"id\": 2, \"codeSubtransactionState\": 6, \"paymentStatus\": 3, \"paymentDate\": \"03.01.2019\", \"value\": -629.65, \"beneficiaryBankIdentifierCode\": 1, \"beneficiaryBranchCode\": 1812, \"beneficiaryAccountNumber\": 118815, \"beneficiaryPersonType\": 1, \"beneficiaryDocumentId\": 99948941101, \"beneficiaryName\": \"\", \"attachedExpenseDocumentIndicator\": true, \"expenseCategoryCode\": 7, \"subtransactionAccountabilityIndicator\": true, \"subtransactionAccountabilityName\": \"Pago\", \"bankOrderPurposeCode\": 0, \"bankOrderRuleCode\": 0, \"bankOrderPurposeDescription\": \"\", \"expensesCategory\": [{\"code\": 7, \"name\": \"Hortalicas e derivados\", \"parentCode\": 3}, {\"code\": 3, \"name\": \"Fornecedor Convencional\", \"parentCode\": 1}, {\"code\": 1, \"name\": \"Alimentos\", \"parentCode\": 0}], \"expensesDocuments\": []}]}))\n        });\n        "
                    },
                    "metadata": {},
                    "output_type": "display_data"
                }
            ],
            "source": [
                "branchCode = \"551\"\n",
                "accountNumber = \"5420\"\n",
                "id = 6\n",
                "\n",
                "token = get_token(keys['client_id'], keys['client_secret'])\n",
                "headers = set_headers()\n",
                "\n",
                "r = requests.get(f\"{path}/statements/{branchCode}-{accountNumber}/debits/{id}/subtransactions\", headers=headers)\n",
                "RenderJSON(r.json())"
            ]
        },
        {
            "cell_type": "code",
            "execution_count": 26,
            "metadata": {},
            "outputs": [],
            "source": [
                "# branchCode = \"551\"\n",
                "# accountNumber = \"5420\"\n",
                "# id = 6\n",
                "\n",
                "# token = get_token(keys['client_id'], keys['client_secret'])\n",
                "# headers = set_headers()\n",
                "\n",
                "# r = requests.get(f\"{path}/statements/{branchCode}-{accountNumber}/debits/{id}/control-agencies/subtransactions\", headers=headers)\n",
                "# r.json()"
            ]
        },
        {
            "cell_type": "code",
            "execution_count": 27,
            "metadata": {},
            "outputs": [
                {
                    "data": {
                        "text/html": [
                            "<div>\n",
                            "<style scoped>\n",
                            "    .dataframe tbody tr th:only-of-type {\n",
                            "        vertical-align: middle;\n",
                            "    }\n",
                            "\n",
                            "    .dataframe tbody tr th {\n",
                            "        vertical-align: top;\n",
                            "    }\n",
                            "\n",
                            "    .dataframe thead th {\n",
                            "        text-align: right;\n",
                            "    }\n",
                            "</style>\n",
                            "<table border=\"1\" class=\"dataframe\">\n",
                            "  <thead>\n",
                            "    <tr style=\"text-align: right;\">\n",
                            "      <th></th>\n",
                            "      <th>id</th>\n",
                            "      <th>codeSubtransactionState</th>\n",
                            "      <th>paymentStatus</th>\n",
                            "      <th>paymentDate</th>\n",
                            "      <th>value</th>\n",
                            "      <th>beneficiaryBankIdentifierCode</th>\n",
                            "      <th>beneficiaryBranchCode</th>\n",
                            "      <th>beneficiaryAccountNumber</th>\n",
                            "      <th>beneficiaryPersonType</th>\n",
                            "      <th>beneficiaryDocumentId</th>\n",
                            "      <th>beneficiaryName</th>\n",
                            "      <th>attachedExpenseDocumentIndicator</th>\n",
                            "      <th>expenseCategoryCode</th>\n",
                            "      <th>subtransactionAccountabilityIndicator</th>\n",
                            "      <th>subtransactionAccountabilityName</th>\n",
                            "      <th>bankOrderPurposeCode</th>\n",
                            "      <th>bankOrderRuleCode</th>\n",
                            "      <th>bankOrderPurposeDescription</th>\n",
                            "      <th>expensesCategory</th>\n",
                            "      <th>expensesDocuments</th>\n",
                            "    </tr>\n",
                            "  </thead>\n",
                            "  <tbody>\n",
                            "    <tr>\n",
                            "      <th>0</th>\n",
                            "      <td>1</td>\n",
                            "      <td>6</td>\n",
                            "      <td>3</td>\n",
                            "      <td>03.01.2019</td>\n",
                            "      <td>-3553.27</td>\n",
                            "      <td>0</td>\n",
                            "      <td>0</td>\n",
                            "      <td>0</td>\n",
                            "      <td>2</td>\n",
                            "      <td>53604999000144</td>\n",
                            "      <td>FERRAGENS DE PAIVA DE MACEDO</td>\n",
                            "      <td>True</td>\n",
                            "      <td>7</td>\n",
                            "      <td>True</td>\n",
                            "      <td>Pago</td>\n",
                            "      <td>0</td>\n",
                            "      <td>0</td>\n",
                            "      <td></td>\n",
                            "      <td>[{'code': 7, 'name': 'Hortalicas e derivados',...</td>\n",
                            "      <td>[106]</td>\n",
                            "    </tr>\n",
                            "    <tr>\n",
                            "      <th>1</th>\n",
                            "      <td>2</td>\n",
                            "      <td>6</td>\n",
                            "      <td>3</td>\n",
                            "      <td>03.01.2019</td>\n",
                            "      <td>-629.65</td>\n",
                            "      <td>1</td>\n",
                            "      <td>1812</td>\n",
                            "      <td>118815</td>\n",
                            "      <td>1</td>\n",
                            "      <td>99948941101</td>\n",
                            "      <td></td>\n",
                            "      <td>True</td>\n",
                            "      <td>7</td>\n",
                            "      <td>True</td>\n",
                            "      <td>Pago</td>\n",
                            "      <td>0</td>\n",
                            "      <td>0</td>\n",
                            "      <td></td>\n",
                            "      <td>[{'code': 7, 'name': 'Hortalicas e derivados',...</td>\n",
                            "      <td>[]</td>\n",
                            "    </tr>\n",
                            "  </tbody>\n",
                            "</table>\n",
                            "</div>"
                        ],
                        "text/plain": [
                            "   id  codeSubtransactionState  paymentStatus paymentDate    value  \\\n",
                            "0   1                        6              3  03.01.2019 -3553.27   \n",
                            "1   2                        6              3  03.01.2019  -629.65   \n",
                            "\n",
                            "   beneficiaryBankIdentifierCode  beneficiaryBranchCode  \\\n",
                            "0                              0                      0   \n",
                            "1                              1                   1812   \n",
                            "\n",
                            "   beneficiaryAccountNumber  beneficiaryPersonType  beneficiaryDocumentId  \\\n",
                            "0                         0                      2         53604999000144   \n",
                            "1                    118815                      1            99948941101   \n",
                            "\n",
                            "                beneficiaryName  attachedExpenseDocumentIndicator  \\\n",
                            "0  FERRAGENS DE PAIVA DE MACEDO                              True   \n",
                            "1                                                            True   \n",
                            "\n",
                            "   expenseCategoryCode  subtransactionAccountabilityIndicator  \\\n",
                            "0                    7                                   True   \n",
                            "1                    7                                   True   \n",
                            "\n",
                            "  subtransactionAccountabilityName  bankOrderPurposeCode  bankOrderRuleCode  \\\n",
                            "0                             Pago                     0                  0   \n",
                            "1                             Pago                     0                  0   \n",
                            "\n",
                            "  bankOrderPurposeDescription  \\\n",
                            "0                               \n",
                            "1                               \n",
                            "\n",
                            "                                    expensesCategory expensesDocuments  \n",
                            "0  [{'code': 7, 'name': 'Hortalicas e derivados',...             [106]  \n",
                            "1  [{'code': 7, 'name': 'Hortalicas e derivados',...                []  "
                        ]
                    },
                    "execution_count": 27,
                    "metadata": {},
                    "output_type": "execute_result"
                }
            ],
            "source": [
                "subextrato = r.json()\n",
                "pd.DataFrame(subextrato['subtransactions'])"
            ]
        },
        {
            "cell_type": "markdown",
            "metadata": {},
            "source": [
                "## Despesas"
            ]
        },
        {
            "cell_type": "markdown",
            "metadata": {},
            "source": [
                "### Despesas-transacao-documentos"
            ]
        },
        {
            "cell_type": "code",
            "execution_count": 28,
            "metadata": {},
            "outputs": [
                {
                    "data": {
                        "text/html": [
                            "<div id=\"56c354ce-1947-4862-b096-595bb29040c2\" style=\"height: 300px; width:100%;\"></div>"
                        ]
                    },
                    "metadata": {},
                    "output_type": "display_data"
                },
                {
                    "data": {
                        "application/javascript": "\n        require([\"https://rawgit.com/caldwell/renderjson/master/renderjson.js\"], function() {\n          document.getElementById('56c354ce-1947-4862-b096-595bb29040c2').appendChild(renderjson({\"errors\": [{\"code\": \"3164477.1\", \"message\": \"Ag\\u00eancia e Conta n\\u00e3o est\\u00e1 vinculado ao \\u00d3rg\\u00e3o Repassador.\"}]}))\n        });\n        "
                    },
                    "metadata": {},
                    "output_type": "display_data"
                }
            ],
            "source": [
                "branchCode = \"551\"\n",
                "accountNumber = \"5420\"\n",
                "transactionId = \"7\"\n",
                "documentId = \"26\"\n",
                "bookingDate = \"2018-10-11\"\n",
                "\n",
                "token = get_token(keys['client_id'], keys['client_secret'])\n",
                "headers = set_headers()\n",
                "\n",
                "r = requests.get(f\"{path}/expenses/{branchCode}-{accountNumber}/transactions/{transactionId}/documents/{documentId}?bookingDate={bookingDate}\", headers=headers)\n",
                "RenderJSON(r.json())"
            ]
        },
        {
            "cell_type": "code",
            "execution_count": 29,
            "metadata": {},
            "outputs": [
                {
                    "name": "stdout",
                    "output_type": "stream",
                    "text": [
                        "6\n",
                        "8\n",
                        "10\n",
                        "11\n",
                        "{'errors': [{'code': '3164477.1', 'message': 'Agência e Conta não está vinculado ao Órgão Repassador.'}]}\n",
                        "{'errors': [{'code': '3164477.1', 'message': 'Agência e Conta não está vinculado ao Órgão Repassador.'}]}\n",
                        "{'errors': [{'code': '3164477.1', 'message': 'Agência e Conta não está vinculado ao Órgão Repassador.'}]}\n",
                        "7\n",
                        "{'errors': [{'code': '3164477.1', 'message': 'Agência e Conta não está vinculado ao Órgão Repassador.'}]}\n",
                        "{'errors': [{'code': '3164477.1', 'message': 'Agência e Conta não está vinculado ao Órgão Repassador.'}]}\n",
                        "{'errors': [{'code': '3164477.1', 'message': 'Agência e Conta não está vinculado ao Órgão Repassador.'}]}\n",
                        "{'errors': [{'code': '3164477.1', 'message': 'Agência e Conta não está vinculado ao Órgão Repassador.'}]}\n",
                        "{'errors': [{'code': '3164477.1', 'message': 'Agência e Conta não está vinculado ao Órgão Repassador.'}]}\n",
                        "{'errors': [{'code': '3164477.1', 'message': 'Agência e Conta não está vinculado ao Órgão Repassador.'}]}\n",
                        "9\n"
                    ]
                }
            ],
            "source": [
                "token = get_token(keys['client_id'], keys['client_secret'])\n",
                "headers = set_headers()\n",
                "\n",
                "for lancamento in extrato['transactions']:\n",
                "    print(lancamento['id'])\n",
                "    branchCode = \"551\"\n",
                "    accountNumber = \"5420\"\n",
                "    transactionId = lancamento['id']\n",
                "    bookingDate = dt.strftime(pd.to_datetime(lancamento['bookingDate']), \"%Y-%m-%d\")\n",
                "    if lancamento['attachedExpenseDocumentIndicator']:\n",
                "        # print(lancamento['expensesDocuments'])\n",
                "        for doc in lancamento['expensesDocuments']:\n",
                "            documentId = doc\n",
                "            r = requests.get(f\"{path}/expenses/{branchCode}-{accountNumber}/transactions/{transactionId}/documents/{documentId}?bookingDate={bookingDate}\", headers=headers)\n",
                "            print(r.json())"
            ]
        },
        {
            "cell_type": "markdown",
            "metadata": {},
            "source": [
                "### Despesas-subtransacao-documentos"
            ]
        },
        {
            "cell_type": "code",
            "execution_count": 30,
            "metadata": {},
            "outputs": [
                {
                    "data": {
                        "text/html": [
                            "<div id=\"405de05b-e721-4dbb-9ac7-7f47e253d995\" style=\"height: 300px; width:100%;\"></div>"
                        ]
                    },
                    "metadata": {},
                    "output_type": "display_data"
                },
                {
                    "data": {
                        "application/javascript": "\n        require([\"https://rawgit.com/caldwell/renderjson/master/renderjson.js\"], function() {\n          document.getElementById('405de05b-e721-4dbb-9ac7-7f47e253d995').appendChild(renderjson({\"errors\": [{\"code\": \"3164477.1\", \"message\": \"Ag\\u00eancia e Conta n\\u00e3o est\\u00e1 vinculado ao \\u00d3rg\\u00e3o Repassador.\"}]}))\n        });\n        "
                    },
                    "metadata": {},
                    "output_type": "display_data"
                }
            ],
            "source": [
                "branchCode = \"551\"\n",
                "accountNumber = \"5420\"\n",
                "transactionId = \"6\"\n",
                "subTransactionId = \"1\"\n",
                "documentId = \"106\"\n",
                "bookingDate = \"2018-10-11\"\n",
                "\n",
                "token = get_token(keys['client_id'], keys['client_secret'])\n",
                "headers = set_headers()\n",
                "\n",
                "r = requests.get(f\"{path}/expenses/{branchCode}-{accountNumber}/transactions/{transactionId}/subTransactions/{subTransactionId}/documents/{documentId}?bookingDate={bookingDate}\", headers=headers)\n",
                "RenderJSON(r.json())"
            ]
        },
        {
            "cell_type": "markdown",
            "metadata": {},
            "source": [
                "## Aplicacoes"
            ]
        },
        {
            "cell_type": "markdown",
            "metadata": {},
            "source": [
                "### Aplicacoes-fundos"
            ]
        },
        {
            "cell_type": "code",
            "execution_count": 31,
            "metadata": {},
            "outputs": [
                {
                    "data": {
                        "text/html": [
                            "<div id=\"cee8910c-e1a7-434f-9437-eea6bea502a0\" style=\"height: 300px; width:100%;\"></div>"
                        ]
                    },
                    "metadata": {},
                    "output_type": "display_data"
                },
                {
                    "data": {
                        "application/javascript": "\n        require([\"https://rawgit.com/caldwell/renderjson/master/renderjson.js\"], function() {\n          document.getElementById('cee8910c-e1a7-434f-9437-eea6bea502a0').appendChild(renderjson({\"codigoProgramaGoverno\": 99, \"nomeProgramaGoverno\": \"PDDE\", \"codigoSubProgramaGoverno\": 0, \"nomeSubProgramaGoverno\": \"\", \"extrato\": {\"numeroAgenciaRecebedora\": 551, \"digitoVerificadoraContaRecebedora\": 4, \"numeroContaCorrenteRecebedora\": 5420, \"numeroDigitoVerificadorContaCorrenteRecebedora\": 9, \"nomeClienteRecebedor\": \"SECRETARIA DE EDUCACAO\", \"nomeFundoInvestimento\": \"FUNDO DE EDUCACAO\", \"CNPJFundoInvestimento\": 463794000001, \"valorCota\": 21.886005275, \"dataAfericaoValorCota\": \"30/10/2021\", \"dataUltimaCotacaoCota\": \"07/11/2021\", \"sinalRentabilidadeMes\": \"+\", \"valorRentabilidadeMes\": 0.0, \"sinalRentabilidadeAno\": \"+\", \"valorRentabilidadeAno\": 1.3045, \"sinalRentabilidadeResgateTotal\": \"+\", \"valorRentabilidadeResgateTotal\": 0.0, \"valorDisponivelResgate\": 1011423.06, \"valorCarenciaResgate\": 1.99, \"valorIRPrevisto\": 1932.41, \"percentualIRPrevisto\": 15.0, \"valorIRComplementarPrevisto\": 527.15, \"valorIOFPrevisto\": 1.99, \"valorTaxaSaida\": 1.99, \"valorBonusDesempenho\": 1.99, \"valorBloqueado\": 1.99, \"valorAplicado\": 1.99, \"valorResgate\": 1.99, \"valorSaldoAnterior\": 1.99, \"quantidadeCotaAnterior\": 0.0, \"dataSaldoAnterior\": \"30/10/2021\", \"valorTotalAplicadoPeriodo\": 1001000.0, \"valorTotalResgatadoPeriodo\": 1.99, \"sinalRendimentoBrutoPeriodo\": \"+\", \"valorRendimentoBrutoPeriodo\": 12882.61, \"valorTotalIRPeriodo\": 1.99, \"valorTotalIOFPeriodo\": 1.99, \"valorTotalTaxaSaidaPeriodo\": 1.99, \"valorTotalBonusDesempenhoPeriodo\": 1.99, \"sinalRendimentoLiquido\": \"+\", \"valorRendimentoLiquido\": 12882.61, \"valorSaldoMesAnterior\": 1013882.62, \"quantidadeCotaMesAnterior\": 248590.373046, \"dataSaldoMesAnterior\": \"06/11/2021\", \"numeroLancamento\": 2, \"listaLancamentosExtrato\": [{\"dataLancamento\": \"01/11/2021\", \"descricao\": \"Aplica\\u00e7\\u00e3o\", \"valorLancamento\": 200000.0, \"valorIR\": 1.99, \"valorPrejuizo\": 1.99, \"valorIOF\": 1.99, \"quantidadeCota\": 49181.980343, \"valorCota\": 4.078527249, \"saldoCotas\": 49181.980343, \"valorBaseCalculoIR\": 1.99, \"numeroDocumentoLancamento\": 2002033}, {\"dataLancamento\": \"02/11/2021\", \"descricao\": \"Aplica\\u00e7\\u00e3o\", \"valorLancamento\": 400000.0, \"valorIR\": 1.99, \"valorPrejuizo\": 1.99, \"valorIOF\": 1.99, \"quantidadeCota\": 89181.980343, \"valorCota\": 8.078527249, \"saldoCotas\": 89181.980343, \"valorBaseCalculoIR\": 1.99, \"numeroDocumentoLancamento\": 4002033}]}}))\n        });\n        "
                    },
                    "metadata": {},
                    "output_type": "display_data"
                }
            ],
            "source": [
                "agencia = \"551\"\n",
                "contaCorrente = \"5420\"\n",
                "fundosInvestimentoId = '1'\n",
                "\n",
                "\n",
                "token = get_token(keys['client_id'], keys['client_secret'])\n",
                "headers = set_headers()\n",
                "\n",
                "body = {\n",
                "    \"mes\": 10,\n",
                "    \"ano\": 2018\n",
                "    }\n",
                "\n",
                "r = requests.get(f\"{path}/extratos/{agencia}-{contaCorrente}/fundos-investimentos/{fundosInvestimentoId}\", headers=headers, params=body)\n",
                "RenderJSON(r.json())"
            ]
        },
        {
            "cell_type": "code",
            "execution_count": 32,
            "metadata": {},
            "outputs": [
                {
                    "data": {
                        "text/html": [
                            "<div id=\"b9d2a1ff-89db-4b42-a836-71f176d5984f\" style=\"height: 300px; width:100%;\"></div>"
                        ]
                    },
                    "metadata": {},
                    "output_type": "display_data"
                },
                {
                    "data": {
                        "application/javascript": "\n        require([\"https://rawgit.com/caldwell/renderjson/master/renderjson.js\"], function() {\n          document.getElementById('b9d2a1ff-89db-4b42-a836-71f176d5984f').appendChild(renderjson({\"chaveCorrelacao\": \"DCgpo2AgXR4yoOk8ZAv00101\", \"codigoErro\": \"180\", \"codigoMensagem\": 3852170, \"localizedMessage\": \"Org\\u00e3o de controle sem acesso \\u00e0 conta. (M180-001)\", \"message\": \"Org\\u00e3o de controle sem acesso \\u00e0 conta. (M180-001)\", \"numeroOcorrencia\": \"045186610238\", \"prefixoCodigoErro\": \"M\", \"providencia\": \"Providencie acesso \\u00e0 conta ou troque para uma conta que tenha acesso.\", \"sequencialErro\": \"1\", \"sequencialEvento\": 1, \"textoErro\": \"Org\\u00e3o de controle sem acesso \\u00e0 conta.\", \"versaoMensagem\": 1}))\n        });\n        "
                    },
                    "metadata": {},
                    "output_type": "display_data"
                }
            ],
            "source": [
                "agencia = \"551\"\n",
                "contaCorrente = \"5420\"\n",
                "fundosInvestimentoId = '1'\n",
                "\n",
                "token = get_token(keys['client_id'], keys['client_secret'])\n",
                "headers = set_headers()\n",
                "\n",
                "body = {\n",
                "    \"mes\": 10,\n",
                "    \"ano\": 2018\n",
                "    }\n",
                "\n",
                "r = requests.get(f\"{path}/extratos/{agencia}-{contaCorrente}/fundos-investimentos/{fundosInvestimentoId}/control-agencies\", headers=headers, params= body)\n",
                "RenderJSON(r.json())"
            ]
        },
        {
            "cell_type": "markdown",
            "metadata": {},
            "source": [
                "### Aplicacoes-poupanca"
            ]
        },
        {
            "cell_type": "code",
            "execution_count": 33,
            "metadata": {},
            "outputs": [
                {
                    "data": {
                        "text/html": [
                            "<div id=\"5c690996-d753-4434-b69c-26228d5f26b0\" style=\"height: 300px; width:100%;\"></div>"
                        ]
                    },
                    "metadata": {},
                    "output_type": "display_data"
                },
                {
                    "data": {
                        "application/javascript": "\n        require([\"https://rawgit.com/caldwell/renderjson/master/renderjson.js\"], function() {\n          document.getElementById('5c690996-d753-4434-b69c-26228d5f26b0').appendChild(renderjson({\"codigoProgramaGoverno\": 999, \"nomeProgramaGoverno\": \"PNAE\", \"codigoSubProgramaGoverno\": 0, \"nomeSubProgramaGoverno\": \"\", \"nomeCliente\": \"CESAR RESENDE DOTTE\", \"identificadorCliente\": 67025496000129, \"saldoAnterior\": 109999.0, \"saldoAtual\": 1.0, \"saldoBloqueado\": 0.0, \"saldoDisponivel\": 1.0, \"listaLancamentos\": [{\"dataLancamento\": \"04.09.2019\", \"dataMovimento\": \"04.09.2019\", \"diaLancamento\": 4, \"codigoHistorico\": 601, \"descricaoHistorico\": \"TRANSF.CRED.\", \"indicadorDebitoCredito\": \"C\", \"agenciaOrigem\": 441, \"numeroDocumento\": 5420, \"valorLancamento\": 100000.0}, {\"dataLancamento\": \"04.09.2019\", \"dataMovimento\": \"04.09.2019\", \"diaLancamento\": 4, \"codigoHistorico\": 615, \"descricaoHistorico\": \"AVISO CREDIT\", \"indicadorDebitoCredito\": \"C\", \"agenciaOrigem\": 441, \"numeroDocumento\": 3270, \"valorLancamento\": 10000.0}], \"listaBases\": [{\"diaBase\": 4, \"saldoBase\": 110000.0}]}))\n        });\n        "
                    },
                    "metadata": {},
                    "output_type": "display_data"
                }
            ],
            "source": [
                "agencia = \"551\"\n",
                "contaCorrente = \"5420\"\n",
                "variacaoPoupanca = '013'\n",
                "\n",
                "token = get_token(keys['client_id'], keys['client_secret'])\n",
                "headers = set_headers()\n",
                "\n",
                "body = {\n",
                "    \"mes\": 10,\n",
                "    \"ano\": 2018\n",
                "    }\n",
                "\n",
                "r = requests.get(f\"{path}/extratos/{agencia}-{contaCorrente}/poupanca/{variacaoPoupanca}\", headers=headers, params=body)\n",
                "RenderJSON(r.json())"
            ]
        },
        {
            "cell_type": "code",
            "execution_count": 34,
            "metadata": {},
            "outputs": [
                {
                    "data": {
                        "text/html": [
                            "<div id=\"67d88a08-14b7-4bbb-a8d8-4ba350c971d3\" style=\"height: 300px; width:100%;\"></div>"
                        ]
                    },
                    "metadata": {},
                    "output_type": "display_data"
                },
                {
                    "data": {
                        "application/javascript": "\n        require([\"https://rawgit.com/caldwell/renderjson/master/renderjson.js\"], function() {\n          document.getElementById('67d88a08-14b7-4bbb-a8d8-4ba350c971d3').appendChild(renderjson({\"chaveCorrelacao\": \"DCsBWK7POLiFQEEpmAVA0101\", \"codigoErro\": \"80\", \"codigoMensagem\": 3757889, \"localizedMessage\": \"Ag\\u00eancia e Conta n\\u00e3o est\\u00e1 vinculado ao \\u00d3rg\\u00e3o de Controle. (M080-001)\", \"message\": \"Ag\\u00eancia e Conta n\\u00e3o est\\u00e1 vinculado ao \\u00d3rg\\u00e3o de Controle. (M080-001)\", \"numeroOcorrencia\": \"169518118307\", \"prefixoCodigoErro\": \"M\", \"providencia\": \"Verifique se os dados inseridos est\\u00e3o corretos e se suas credenciais possuem acesso \\u00e0 Ag\\u00eancia e Conta informada.\", \"sequencialErro\": \"1\", \"sequencialEvento\": 1, \"textoErro\": \"Ag\\u00eancia e Conta n\\u00e3o est\\u00e1 vinculado ao \\u00d3rg\\u00e3o de Controle.\", \"versaoMensagem\": 1}))\n        });\n        "
                    },
                    "metadata": {},
                    "output_type": "display_data"
                }
            ],
            "source": [
                "agencia = \"551\"\n",
                "contaCorrente = \"5420\"\n",
                "variacaoPoupanca = '013'\n",
                "\n",
                "token = get_token(keys['client_id'], keys['client_secret'])\n",
                "headers = set_headers()\n",
                "\n",
                "body = {\n",
                "    \"mes\": 10,\n",
                "    \"ano\": 2018\n",
                "    }\n",
                "\n",
                "r = requests.get(f\"{path}/extratos/{agencia}-{contaCorrente}/poupanca/{variacaoPoupanca}/orgao-controle\", headers=headers, params=body)\n",
                "RenderJSON(r.json())"
            ]
        },
        {
            "cell_type": "markdown",
            "metadata": {},
            "source": [
                "## Saldos"
            ]
        },
        {
            "cell_type": "markdown",
            "metadata": {},
            "source": [
                "### Conta Corrente"
            ]
        },
        {
            "cell_type": "code",
            "execution_count": 35,
            "metadata": {},
            "outputs": [
                {
                    "data": {
                        "text/html": [
                            "<div id=\"02cd9a90-1c8e-40b7-a0ab-109ea49eb4e2\" style=\"height: 300px; width:100%;\"></div>"
                        ]
                    },
                    "metadata": {},
                    "output_type": "display_data"
                },
                {
                    "data": {
                        "application/javascript": "\n        require([\"https://rawgit.com/caldwell/renderjson/master/renderjson.js\"], function() {\n          document.getElementById('02cd9a90-1c8e-40b7-a0ab-109ea49eb4e2').appendChild(renderjson({\"dataSaldo\": \"01/08/2023\", \"valorDisponibilidade\": 0.0}))\n        });\n        "
                    },
                    "metadata": {},
                    "output_type": "display_data"
                }
            ],
            "source": [
                "agencia = \"551\"\n",
                "contaCorrente = \"5420\"\n",
                "\n",
                "token = get_token(keys['client_id'], keys['client_secret'])\n",
                "headers = set_headers()\n",
                "\n",
                "r = requests.get(f\"{path}/saldos/{agencia}-{contaCorrente}/conta-corrente\", headers=headers)\n",
                "RenderJSON(r.json())"
            ]
        },
        {
            "cell_type": "markdown",
            "metadata": {},
            "source": [
                "### Aplicações financeiras"
            ]
        },
        {
            "cell_type": "code",
            "execution_count": 36,
            "metadata": {},
            "outputs": [
                {
                    "data": {
                        "text/html": [
                            "<div id=\"43fb5288-5d69-4f82-864b-a5815b860d43\" style=\"height: 300px; width:100%;\"></div>"
                        ]
                    },
                    "metadata": {},
                    "output_type": "display_data"
                },
                {
                    "data": {
                        "application/javascript": "\n        require([\"https://rawgit.com/caldwell/renderjson/master/renderjson.js\"], function() {\n          document.getElementById('43fb5288-5d69-4f82-864b-a5815b860d43').appendChild(renderjson({\"erros\": [{\"codigo\": \"999999999\", \"versao\": \"1\", \"mensagem\": \"Erro Interno do Servidor\", \"ocorrencia\": \"DCgpo2NDMIsz11EQiAyg0101\"}]}))\n        });\n        "
                    },
                    "metadata": {},
                    "output_type": "display_data"
                }
            ],
            "source": [
                "agencia = \"551\"\n",
                "contaCorrente = \"5420\"\n",
                "\n",
                "token = get_token(keys['client_id'], keys['client_secret'])\n",
                "headers = set_headers()\n",
                "\n",
                "r = requests.get(f\"{path}/saldos/{agencia}-{contaCorrente}/aplicacoes-financeiras\", headers=headers)\n",
                "RenderJSON(r.json())"
            ]
        },
        {
            "cell_type": "markdown",
            "metadata": {},
            "source": [
                "## Orgaos"
            ]
        },
        {
            "cell_type": "markdown",
            "metadata": {},
            "source": [
                "### Débito"
            ]
        },
        {
            "cell_type": "code",
            "execution_count": 45,
            "metadata": {},
            "outputs": [
                {
                    "data": {
                        "text/plain": [
                            "{'erros': [{'codigo': '3164477',\n",
                            "   'versao': '1',\n",
                            "   'mensagem': 'Agência e Conta não está vinculado ao Órgão Repassador.',\n",
                            "   'ocorrencia': 'DCgpo2FaAq1DdQkFiAAA0101'}]}"
                        ]
                    },
                    "execution_count": 45,
                    "metadata": {},
                    "output_type": "execute_result"
                }
            ],
            "source": [
                "agencia = \"551\"\n",
                "contaCorrente = \"5420\"\n",
                "data_inicio = \"2018-10-01\"\n",
                "data_fim = \"2018-10-30\"\n",
                "\n",
                "token = get_token(keys['client_id'], keys['client_secret'])\n",
                "headers = set_headers()\n",
                "\n",
                "body = {\n",
                "    'numeroPagina': 1\n",
                "}\n",
                "\n",
                "r = requests.get(f\"{path}/orgaos-repasse/{agencia}-{contaCorrente}/lancamentos-debito\", headers=headers, params=body)\n",
                "r.json()"
            ]
        },
        {
            "cell_type": "code",
            "execution_count": 44,
            "metadata": {},
            "outputs": [
                {
                    "data": {
                        "text/plain": [
                            "{'errors': [{'codigo': 404,\n",
                            "   'versao': 1,\n",
                            "   'mensagem': 'Not Found',\n",
                            "   'ocorrencia': 'N/A'}]}"
                        ]
                    },
                    "execution_count": 44,
                    "metadata": {},
                    "output_type": "execute_result"
                }
            ],
            "source": [
                "agencia = \"551\"\n",
                "contaCorrente = \"5420\"\n",
                "data_inicio = \"2018-10-01\"\n",
                "data_fim = \"2018-10-30\"\n",
                "ordemBancaria = \"1\"\n",
                "item = \"1\"\n",
                "\n",
                "token = get_token(keys['client_id'], keys['client_secret'])\n",
                "headers = set_headers()\n",
                "\n",
                "r = requests.get(f\"{path}/orgaos-repasse/{agencia}-{contaCorrente}/lancamentos-debito/{ordemBancaria}-{item}/categorias-despesa\", headers=headers)\n",
                "r.json()"
            ]
        },
        {
            "cell_type": "markdown",
            "metadata": {},
            "source": [
                "### Crébito"
            ]
        },
        {
            "cell_type": "code",
            "execution_count": 43,
            "metadata": {},
            "outputs": [
                {
                    "data": {
                        "text/plain": [
                            "{'statusCode': 404, 'error': 'Not Found', 'message': 'Api not found'}"
                        ]
                    },
                    "execution_count": 43,
                    "metadata": {},
                    "output_type": "execute_result"
                }
            ],
            "source": [
                "agencia = \"551\"\n",
                "contaCorrente = \"5420\"\n",
                "data_inicio = \"2018-10-01\"\n",
                "data_fim = \"2018-10-30\"\n",
                "\n",
                "token = get_token(keys['client_id'], keys['client_secret'])\n",
                "headers = set_headers()\n",
                "\n",
                "body = {\n",
                "    'numeroPagina': 1\n",
                "}\n",
                "\n",
                "r = requests.get(f\"{path}/orgaos-repasse/{agencia}-{contaCorrente}/lancamentos-credito\", headers=headers, params=body)\n",
                "r.json()\n"
            ]
        }
    ],
    "metadata": {
        "kernelspec": {
            "display_name": "venv",
            "language": "python",
            "name": "python3"
        },
        "language_info": {
            "codemirror_mode": {
                "name": "ipython",
                "version": 3
            },
            "file_extension": ".py",
            "mimetype": "text/x-python",
            "name": "python",
            "nbconvert_exporter": "python",
            "pygments_lexer": "ipython3",
            "version": "3.9.13"
        },
        "orig_nbformat": 4,
        "vscode": {
            "interpreter": {
                "hash": "67b01790efde30edc759590fc28e3a7b5f3134953e9f7b8bc346e64ecafeaaaa"
            }
        }
    },
    "nbformat": 4,
    "nbformat_minor": 2
}
